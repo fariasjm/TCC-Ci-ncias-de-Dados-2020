{
 "cells": [
  {
   "cell_type": "markdown",
   "metadata": {},
   "source": [
    "# **PONTIFÍCIA UNIVERSIDADE CATÓLICA DE MINAS GERAIS - NÚCLEO DE EDUCAÇÃO A DISTÂNCIA**\n",
    "\n",
    "### Pós-graduação Lato Sensu em Ciência de Dados e Big Data\n"
   ]
  },
  {
   "cell_type": "markdown",
   "metadata": {},
   "source": [
    "# Clusterização do índice de vacinação no estado do Maranhão com base em indicadores Sócio-econômicos"
   ]
  },
  {
   "cell_type": "markdown",
   "metadata": {},
   "source": [
    "### Aluno: José de Ribamar Mendes Farias"
   ]
  },
  {
   "cell_type": "code",
   "execution_count": null,
   "metadata": {},
   "outputs": [],
   "source": []
  },
  {
   "cell_type": "markdown",
   "metadata": {},
   "source": [
    "## 2. Coleta de Dados"
   ]
  },
  {
   "cell_type": "code",
   "execution_count": null,
   "metadata": {},
   "outputs": [],
   "source": []
  },
  {
   "cell_type": "markdown",
   "metadata": {},
   "source": [
    "## 2.1 Bibliotecas"
   ]
  },
  {
   "cell_type": "code",
   "execution_count": 1,
   "metadata": {},
   "outputs": [],
   "source": [
    "import pandas as pd\n",
    "import numpy as np"
   ]
  },
  {
   "cell_type": "markdown",
   "metadata": {},
   "source": [
    "## 2.2 Tratamento dos arquivos da vacinação no Maranhão disponibilizados no site  openDataSUS\n",
    "\n",
    "https://opendatasus.saude.gov.br/dataset/covid-19-vacinacao/resource/5093679f-12c3-4d6b-b7bd-07694de54173?inner_span=True\n",
    "\n",
    "Arquivos em formato csv: Dados MA - Parte1.csv, Dados MA - Parte2.csv e Dados MA - Parte3.csv.\n",
    "\n",
    "Download em 10/02/2022"
   ]
  },
  {
   "cell_type": "code",
   "execution_count": 2,
   "metadata": {},
   "outputs": [],
   "source": [
    "#Carregando a planilha registros da vacinação COVID-19 do Maranhão.parte1\n",
    "df_rvacin1 = pd.read_csv('Dados MA - Parte1.csv', encoding=\"utf-8\", sep=';', header=0, low_memory=False)\n"
   ]
  },
  {
   "cell_type": "code",
   "execution_count": 3,
   "metadata": {},
   "outputs": [
    {
     "name": "stdout",
     "output_type": "stream",
     "text": [
      "<class 'pandas.core.frame.DataFrame'>\n",
      "RangeIndex: 3182999 entries, 0 to 3182998\n",
      "Data columns (total 32 columns):\n",
      " #   Column                                    Dtype  \n",
      "---  ------                                    -----  \n",
      " 0   document_id                               object \n",
      " 1   paciente_id                               object \n",
      " 2   paciente_idade                            float64\n",
      " 3   paciente_dataNascimento                   object \n",
      " 4   paciente_enumSexoBiologico                object \n",
      " 5   paciente_racaCor_codigo                   float64\n",
      " 6   paciente_racaCor_valor                    object \n",
      " 7   paciente_endereco_coIbgeMunicipio         object \n",
      " 8   paciente_endereco_coPais                  object \n",
      " 9   paciente_endereco_nmMunicipio             object \n",
      " 10  paciente_endereco_nmPais                  object \n",
      " 11  paciente_endereco_uf                      object \n",
      " 12  paciente_endereco_cep                     object \n",
      " 13  paciente_nacionalidade_enumNacionalidade  object \n",
      " 14  estabelecimento_valor                     int64  \n",
      " 15  estabelecimento_razaoSocial               object \n",
      " 16  estalecimento_noFantasia                  object \n",
      " 17  estabelecimento_municipio_codigo          int64  \n",
      " 18  estabelecimento_municipio_nome            object \n",
      " 19  estabelecimento_uf                        object \n",
      " 20  vacina_grupoAtendimento_codigo            int64  \n",
      " 21  vacina_grupoAtendimento_nome              object \n",
      " 22  vacina_categoria_codigo                   float64\n",
      " 23  vacina_categoria_nome                     object \n",
      " 24  vacina_lote                               object \n",
      " 25  vacina_fabricante_nome                    object \n",
      " 26  vacina_fabricante_referencia              object \n",
      " 27  vacina_dataAplicacao                      object \n",
      " 28  vacina_descricao_dose                     object \n",
      " 29  vacina_codigo                             int64  \n",
      " 30  vacina_nome                               object \n",
      " 31  sistema_origem                            object \n",
      "dtypes: float64(3), int64(4), object(25)\n",
      "memory usage: 777.1+ MB\n"
     ]
    }
   ],
   "source": [
    "df_rvacin1.info()"
   ]
  },
  {
   "cell_type": "code",
   "execution_count": null,
   "metadata": {},
   "outputs": [],
   "source": []
  },
  {
   "cell_type": "code",
   "execution_count": 4,
   "metadata": {},
   "outputs": [],
   "source": [
    "#Carregando a planilha Registros de Vacinação COVID19 Maranhão.parte2\n",
    "df_rvacin2 = pd.read_csv('Dados MA - Parte2.csv', encoding=\"utf-8\", sep=';', header=0, low_memory=False)\n"
   ]
  },
  {
   "cell_type": "code",
   "execution_count": 5,
   "metadata": {},
   "outputs": [
    {
     "name": "stdout",
     "output_type": "stream",
     "text": [
      "<class 'pandas.core.frame.DataFrame'>\n",
      "RangeIndex: 3184304 entries, 0 to 3184303\n",
      "Data columns (total 32 columns):\n",
      " #   Column                                    Dtype  \n",
      "---  ------                                    -----  \n",
      " 0   document_id                               object \n",
      " 1   paciente_id                               object \n",
      " 2   paciente_idade                            float64\n",
      " 3   paciente_dataNascimento                   object \n",
      " 4   paciente_enumSexoBiologico                object \n",
      " 5   paciente_racaCor_codigo                   float64\n",
      " 6   paciente_racaCor_valor                    object \n",
      " 7   paciente_endereco_coIbgeMunicipio         object \n",
      " 8   paciente_endereco_coPais                  object \n",
      " 9   paciente_endereco_nmMunicipio             object \n",
      " 10  paciente_endereco_nmPais                  object \n",
      " 11  paciente_endereco_uf                      object \n",
      " 12  paciente_endereco_cep                     object \n",
      " 13  paciente_nacionalidade_enumNacionalidade  object \n",
      " 14  estabelecimento_valor                     int64  \n",
      " 15  estabelecimento_razaoSocial               object \n",
      " 16  estalecimento_noFantasia                  object \n",
      " 17  estabelecimento_municipio_codigo          int64  \n",
      " 18  estabelecimento_municipio_nome            object \n",
      " 19  estabelecimento_uf                        object \n",
      " 20  vacina_grupoAtendimento_codigo            int64  \n",
      " 21  vacina_grupoAtendimento_nome              object \n",
      " 22  vacina_categoria_codigo                   float64\n",
      " 23  vacina_categoria_nome                     object \n",
      " 24  vacina_lote                               object \n",
      " 25  vacina_fabricante_nome                    object \n",
      " 26  vacina_fabricante_referencia              object \n",
      " 27  vacina_dataAplicacao                      object \n",
      " 28  vacina_descricao_dose                     object \n",
      " 29  vacina_codigo                             int64  \n",
      " 30  vacina_nome                               object \n",
      " 31  sistema_origem                            object \n",
      "dtypes: float64(3), int64(4), object(25)\n",
      "memory usage: 777.4+ MB\n"
     ]
    }
   ],
   "source": [
    "df_rvacin2.info()"
   ]
  },
  {
   "cell_type": "code",
   "execution_count": 6,
   "metadata": {},
   "outputs": [],
   "source": [
    "#Carregando a planilha Registros de Vacinação COVID19 Maranhão.parte3\n",
    "df_rvacin3 = pd.read_csv('Dados MA - Parte3.csv', encoding=\"utf-8\", sep=';', header=0, low_memory=False)\n"
   ]
  },
  {
   "cell_type": "code",
   "execution_count": 7,
   "metadata": {},
   "outputs": [
    {
     "name": "stdout",
     "output_type": "stream",
     "text": [
      "<class 'pandas.core.frame.DataFrame'>\n",
      "RangeIndex: 3197361 entries, 0 to 3197360\n",
      "Data columns (total 32 columns):\n",
      " #   Column                                    Dtype  \n",
      "---  ------                                    -----  \n",
      " 0   document_id                               object \n",
      " 1   paciente_id                               object \n",
      " 2   paciente_idade                            int64  \n",
      " 3   paciente_dataNascimento                   object \n",
      " 4   paciente_enumSexoBiologico                object \n",
      " 5   paciente_racaCor_codigo                   int64  \n",
      " 6   paciente_racaCor_valor                    object \n",
      " 7   paciente_endereco_coIbgeMunicipio         object \n",
      " 8   paciente_endereco_coPais                  object \n",
      " 9   paciente_endereco_nmMunicipio             object \n",
      " 10  paciente_endereco_nmPais                  object \n",
      " 11  paciente_endereco_uf                      object \n",
      " 12  paciente_endereco_cep                     object \n",
      " 13  paciente_nacionalidade_enumNacionalidade  object \n",
      " 14  estabelecimento_valor                     int64  \n",
      " 15  estabelecimento_razaoSocial               object \n",
      " 16  estalecimento_noFantasia                  object \n",
      " 17  estabelecimento_municipio_codigo          int64  \n",
      " 18  estabelecimento_municipio_nome            object \n",
      " 19  estabelecimento_uf                        object \n",
      " 20  vacina_grupoAtendimento_codigo            int64  \n",
      " 21  vacina_grupoAtendimento_nome              object \n",
      " 22  vacina_categoria_codigo                   float64\n",
      " 23  vacina_categoria_nome                     object \n",
      " 24  vacina_lote                               object \n",
      " 25  vacina_fabricante_nome                    object \n",
      " 26  vacina_fabricante_referencia              object \n",
      " 27  vacina_dataAplicacao                      object \n",
      " 28  vacina_descricao_dose                     object \n",
      " 29  vacina_codigo                             int64  \n",
      " 30  vacina_nome                               object \n",
      " 31  sistema_origem                            object \n",
      "dtypes: float64(1), int64(6), object(25)\n",
      "memory usage: 780.6+ MB\n"
     ]
    }
   ],
   "source": [
    "df_rvacin3.info()"
   ]
  },
  {
   "cell_type": "code",
   "execution_count": 8,
   "metadata": {},
   "outputs": [],
   "source": [
    "df_rvacin_ma = pd.concat([df_rvacin1,df_rvacin2,df_rvacin3],ignore_index=True)"
   ]
  },
  {
   "cell_type": "code",
   "execution_count": 9,
   "metadata": {},
   "outputs": [
    {
     "name": "stdout",
     "output_type": "stream",
     "text": [
      "<class 'pandas.core.frame.DataFrame'>\n",
      "RangeIndex: 9564664 entries, 0 to 9564663\n",
      "Data columns (total 32 columns):\n",
      " #   Column                                    Dtype  \n",
      "---  ------                                    -----  \n",
      " 0   document_id                               object \n",
      " 1   paciente_id                               object \n",
      " 2   paciente_idade                            float64\n",
      " 3   paciente_dataNascimento                   object \n",
      " 4   paciente_enumSexoBiologico                object \n",
      " 5   paciente_racaCor_codigo                   float64\n",
      " 6   paciente_racaCor_valor                    object \n",
      " 7   paciente_endereco_coIbgeMunicipio         object \n",
      " 8   paciente_endereco_coPais                  object \n",
      " 9   paciente_endereco_nmMunicipio             object \n",
      " 10  paciente_endereco_nmPais                  object \n",
      " 11  paciente_endereco_uf                      object \n",
      " 12  paciente_endereco_cep                     object \n",
      " 13  paciente_nacionalidade_enumNacionalidade  object \n",
      " 14  estabelecimento_valor                     int64  \n",
      " 15  estabelecimento_razaoSocial               object \n",
      " 16  estalecimento_noFantasia                  object \n",
      " 17  estabelecimento_municipio_codigo          int64  \n",
      " 18  estabelecimento_municipio_nome            object \n",
      " 19  estabelecimento_uf                        object \n",
      " 20  vacina_grupoAtendimento_codigo            int64  \n",
      " 21  vacina_grupoAtendimento_nome              object \n",
      " 22  vacina_categoria_codigo                   float64\n",
      " 23  vacina_categoria_nome                     object \n",
      " 24  vacina_lote                               object \n",
      " 25  vacina_fabricante_nome                    object \n",
      " 26  vacina_fabricante_referencia              object \n",
      " 27  vacina_dataAplicacao                      object \n",
      " 28  vacina_descricao_dose                     object \n",
      " 29  vacina_codigo                             int64  \n",
      " 30  vacina_nome                               object \n",
      " 31  sistema_origem                            object \n",
      "dtypes: float64(3), int64(4), object(25)\n",
      "memory usage: 2.3+ GB\n"
     ]
    }
   ],
   "source": [
    "df_rvacin_ma.info()"
   ]
  },
  {
   "cell_type": "code",
   "execution_count": 10,
   "metadata": {},
   "outputs": [
    {
     "data": {
      "text/plain": [
       "document_id                                      0\n",
       "paciente_id                                      3\n",
       "paciente_idade                                   3\n",
       "paciente_dataNascimento                          3\n",
       "paciente_enumSexoBiologico                       3\n",
       "paciente_racaCor_codigo                          3\n",
       "paciente_racaCor_valor                           3\n",
       "paciente_endereco_coIbgeMunicipio            67578\n",
       "paciente_endereco_coPais                     67524\n",
       "paciente_endereco_nmMunicipio                67544\n",
       "paciente_endereco_nmPais                     67524\n",
       "paciente_endereco_uf                         67578\n",
       "paciente_endereco_cep                       838855\n",
       "paciente_nacionalidade_enumNacionalidade      7422\n",
       "estabelecimento_valor                            0\n",
       "estabelecimento_razaoSocial                      0\n",
       "estalecimento_noFantasia                         0\n",
       "estabelecimento_municipio_codigo                 0\n",
       "estabelecimento_municipio_nome                   0\n",
       "estabelecimento_uf                               0\n",
       "vacina_grupoAtendimento_codigo                   0\n",
       "vacina_grupoAtendimento_nome                     0\n",
       "vacina_categoria_codigo                     160371\n",
       "vacina_categoria_nome                       160371\n",
       "vacina_lote                                      0\n",
       "vacina_fabricante_nome                           0\n",
       "vacina_fabricante_referencia                 19568\n",
       "vacina_dataAplicacao                             0\n",
       "vacina_descricao_dose                            0\n",
       "vacina_codigo                                    0\n",
       "vacina_nome                                      0\n",
       "sistema_origem                                   0\n",
       "dtype: int64"
      ]
     },
     "execution_count": 10,
     "metadata": {},
     "output_type": "execute_result"
    }
   ],
   "source": [
    "df_rvacin_ma.isnull().sum()"
   ]
  },
  {
   "cell_type": "code",
   "execution_count": 11,
   "metadata": {},
   "outputs": [],
   "source": [
    "df_rvacin_ma.to_csv('RegVacina_MA.csv')"
   ]
  },
  {
   "cell_type": "code",
   "execution_count": null,
   "metadata": {},
   "outputs": [],
   "source": []
  },
  {
   "cell_type": "code",
   "execution_count": null,
   "metadata": {},
   "outputs": [],
   "source": []
  },
  {
   "cell_type": "code",
   "execution_count": null,
   "metadata": {},
   "outputs": [],
   "source": []
  }
 ],
 "metadata": {
  "kernelspec": {
   "display_name": "Python 3",
   "language": "python",
   "name": "python3"
  },
  "language_info": {
   "codemirror_mode": {
    "name": "ipython",
    "version": 3
   },
   "file_extension": ".py",
   "mimetype": "text/x-python",
   "name": "python",
   "nbconvert_exporter": "python",
   "pygments_lexer": "ipython3",
   "version": "3.8.5"
  }
 },
 "nbformat": 4,
 "nbformat_minor": 4
}
