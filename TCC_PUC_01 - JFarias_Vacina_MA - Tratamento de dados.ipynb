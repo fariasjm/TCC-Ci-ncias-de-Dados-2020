{
 "cells": [
  {
   "cell_type": "markdown",
   "metadata": {},
   "source": [
    "# **PONTIFÍCIA UNIVERSIDADE CATÓLICA DE MINAS GERAIS - NÚCLEO DE EDUCAÇÃO A DISTÂNCIA**\n",
    "\n",
    "### Pós-graduação Lato Sensu em Ciência de Dados e Big Data\n"
   ]
  },
  {
   "cell_type": "markdown",
   "metadata": {},
   "source": [
    "# Clusterização do índice de vacinação no estado do Maranhão com base em indicadores Sócio-econômicos\n"
   ]
  },
  {
   "cell_type": "markdown",
   "metadata": {},
   "source": [
    "\n",
    "### Aluno: José de Ribamar Mendes Farias"
   ]
  },
  {
   "cell_type": "code",
   "execution_count": null,
   "metadata": {},
   "outputs": [],
   "source": []
  },
  {
   "cell_type": "markdown",
   "metadata": {},
   "source": [
    "## 3. Processamento/Tratamento de Dados"
   ]
  },
  {
   "cell_type": "markdown",
   "metadata": {},
   "source": [
    "Obtidos os arquivos com os dados que servirão de base para construção do modelo, apresentamos a etapa de processamento e tratamento dos dados, que detalha o processo utilizado."
   ]
  },
  {
   "cell_type": "markdown",
   "metadata": {},
   "source": [
    "## 3.1 Bibliotecas"
   ]
  },
  {
   "cell_type": "code",
   "execution_count": 1,
   "metadata": {},
   "outputs": [],
   "source": [
    "import pandas as pd\n",
    "from datetime import datetime, date\n",
    "import numpy as np\n",
    "import matplotlib.pyplot as plt\n",
    "import seaborn as sns"
   ]
  },
  {
   "cell_type": "markdown",
   "metadata": {},
   "source": [
    "## 3.2 Tratamento Dataset Registros da Vacinação no Maranhão (openDataSUS)\n"
   ]
  },
  {
   "cell_type": "markdown",
   "metadata": {},
   "source": [
    "A vacinação contra a Covid-19 no Maranhão iniciou em 18/01/2021, com a aplicação da primeira dose da Coronavac, produzida pelo Butantan em parceria com o laboratório chinês Sinovac, em cinco maranhenses: \n",
    "- quatro profissionais da saúde e.\n",
    "- uma indígena.\n",
    "\n",
    "O presente trabalho, a partir deste fato, tenta analisar o desempenho da vacinação contra Covid-19 durante o ano 2021.\n",
    "\n",
    "A integração das bases de dados disponibilizadas pelo openDataSUS está documentada no notebook: TCC_PUC_00 - Vacina_MA - Carga dos dados da vacinação.ipynb.\n",
    "\n",
    "Vamos ao tratamento dos registros."
   ]
  },
  {
   "cell_type": "markdown",
   "metadata": {},
   "source": [
    "## 3.2.1 Carregando a planilha com os registros da vacinação Covid-19/MA"
   ]
  },
  {
   "cell_type": "code",
   "execution_count": 2,
   "metadata": {},
   "outputs": [],
   "source": [
    "# Carregando a planilha registros da vacinação Covid-19/MA (extração 19/02/2022)\n",
    "df_regvac = pd.read_csv('RegVacina_MA.csv', encoding='utf-8', sep=',', header=0, low_memory=False)"
   ]
  },
  {
   "cell_type": "code",
   "execution_count": null,
   "metadata": {},
   "outputs": [],
   "source": []
  },
  {
   "cell_type": "markdown",
   "metadata": {},
   "source": [
    "## 3.2.2 Verificando os dados carregados"
   ]
  },
  {
   "cell_type": "code",
   "execution_count": 3,
   "metadata": {},
   "outputs": [
    {
     "name": "stdout",
     "output_type": "stream",
     "text": [
      "<class 'pandas.core.frame.DataFrame'>\n",
      "RangeIndex: 9564664 entries, 0 to 9564663\n",
      "Data columns (total 33 columns):\n",
      " #   Column                                    Dtype  \n",
      "---  ------                                    -----  \n",
      " 0   Unnamed: 0                                int64  \n",
      " 1   document_id                               object \n",
      " 2   paciente_id                               object \n",
      " 3   paciente_idade                            float64\n",
      " 4   paciente_dataNascimento                   object \n",
      " 5   paciente_enumSexoBiologico                object \n",
      " 6   paciente_racaCor_codigo                   float64\n",
      " 7   paciente_racaCor_valor                    object \n",
      " 8   paciente_endereco_coIbgeMunicipio         object \n",
      " 9   paciente_endereco_coPais                  object \n",
      " 10  paciente_endereco_nmMunicipio             object \n",
      " 11  paciente_endereco_nmPais                  object \n",
      " 12  paciente_endereco_uf                      object \n",
      " 13  paciente_endereco_cep                     object \n",
      " 14  paciente_nacionalidade_enumNacionalidade  object \n",
      " 15  estabelecimento_valor                     int64  \n",
      " 16  estabelecimento_razaoSocial               object \n",
      " 17  estalecimento_noFantasia                  object \n",
      " 18  estabelecimento_municipio_codigo          int64  \n",
      " 19  estabelecimento_municipio_nome            object \n",
      " 20  estabelecimento_uf                        object \n",
      " 21  vacina_grupoAtendimento_codigo            int64  \n",
      " 22  vacina_grupoAtendimento_nome              object \n",
      " 23  vacina_categoria_codigo                   float64\n",
      " 24  vacina_categoria_nome                     object \n",
      " 25  vacina_lote                               object \n",
      " 26  vacina_fabricante_nome                    object \n",
      " 27  vacina_fabricante_referencia              object \n",
      " 28  vacina_dataAplicacao                      object \n",
      " 29  vacina_descricao_dose                     object \n",
      " 30  vacina_codigo                             int64  \n",
      " 31  vacina_nome                               object \n",
      " 32  sistema_origem                            object \n",
      "dtypes: float64(3), int64(5), object(25)\n",
      "memory usage: 2.4+ GB\n"
     ]
    }
   ],
   "source": [
    "df_regvac.info()"
   ]
  },
  {
   "cell_type": "code",
   "execution_count": 4,
   "metadata": {},
   "outputs": [],
   "source": [
    "# Excluindo os registros de pacientes com id ausente\n",
    "df_regvac.dropna(subset=['paciente_id'], inplace=True)"
   ]
  },
  {
   "cell_type": "markdown",
   "metadata": {},
   "source": [
    "Removidos 03 registros sem os dados básicos mínimos do paciente.\n"
   ]
  },
  {
   "cell_type": "code",
   "execution_count": 5,
   "metadata": {},
   "outputs": [],
   "source": [
    "# Criando cópia do DataFrame\n",
    "df_regvac2 = df_regvac.copy()"
   ]
  },
  {
   "cell_type": "markdown",
   "metadata": {},
   "source": [
    "O total de registros desta base de dados é de 9.564.664 linhas em 33 colunas"
   ]
  },
  {
   "cell_type": "code",
   "execution_count": null,
   "metadata": {},
   "outputs": [],
   "source": []
  },
  {
   "cell_type": "markdown",
   "metadata": {},
   "source": [
    "## 3.2.3 Definindo o escopo do projeto - vacinações 2021"
   ]
  },
  {
   "cell_type": "code",
   "execution_count": 6,
   "metadata": {},
   "outputs": [],
   "source": [
    "# Modificando as colunas das datas para o formato datatime\n",
    "df_regvac2['paciente_dataNascimento'] = pd.to_datetime(df_regvac2['paciente_dataNascimento'], format='%Y/%m/%d')\n",
    "df_regvac2['vacina_dataAplicacao'] = pd.to_datetime(df_regvac2['vacina_dataAplicacao'], format='%Y/%m/%d')"
   ]
  },
  {
   "cell_type": "code",
   "execution_count": 7,
   "metadata": {},
   "outputs": [
    {
     "data": {
      "text/plain": [
       "array([2021], dtype=int64)"
      ]
     },
     "execution_count": 7,
     "metadata": {},
     "output_type": "execute_result"
    }
   ],
   "source": [
    "# Definindo como base de estudo - vacinações em 2021\n",
    "df_regvac2 =  df_regvac2.query('vacina_dataAplicacao >= \"2021-01-01\" & vacina_dataAplicacao <= \"2021-12-31\"')\n",
    "\n",
    "pd.unique(df_regvac2['vacina_dataAplicacao'].dt.year)"
   ]
  },
  {
   "cell_type": "code",
   "execution_count": 8,
   "metadata": {},
   "outputs": [
    {
     "data": {
      "text/plain": [
       "(8710112, 33)"
      ]
     },
     "execution_count": 8,
     "metadata": {},
     "output_type": "execute_result"
    }
   ],
   "source": [
    "df_regvac2.shape"
   ]
  },
  {
   "cell_type": "markdown",
   "metadata": {},
   "source": [
    "Limitamos nosso estudo ao ano de 2021. \\\n",
    "Desta forma, o dataset reduziu para 8.710.112 linhas em 33 colunas"
   ]
  },
  {
   "cell_type": "code",
   "execution_count": null,
   "metadata": {},
   "outputs": [],
   "source": []
  },
  {
   "cell_type": "markdown",
   "metadata": {},
   "source": [
    "## 3.2.4 Verificando a origem dos pacientes registrados"
   ]
  },
  {
   "cell_type": "code",
   "execution_count": 9,
   "metadata": {},
   "outputs": [
    {
     "data": {
      "text/plain": [
       "MA      8033327\n",
       "PI       127926\n",
       "PA        96704\n",
       "SP        77645\n",
       "GO        59507\n",
       "TO        37367\n",
       "MT        32344\n",
       "DF        28101\n",
       "RJ        23838\n",
       "MG        21679\n",
       "CE        20557\n",
       "SC        11805\n",
       "BA         8886\n",
       "PR         8885\n",
       "PE         8810\n",
       "PB         6868\n",
       "AM         6420\n",
       "AP         5565\n",
       "RO         5172\n",
       "RS         5146\n",
       "RR         5103\n",
       "RN         4748\n",
       "MS         4446\n",
       "AL         2412\n",
       "ES         2376\n",
       "SE         1742\n",
       "AC          564\n",
       "XX          233\n",
       "None        126\n",
       "Name: paciente_endereco_uf, dtype: int64"
      ]
     },
     "execution_count": 9,
     "metadata": {},
     "output_type": "execute_result"
    }
   ],
   "source": [
    "df_regvac2.paciente_endereco_uf.value_counts()"
   ]
  },
  {
   "cell_type": "markdown",
   "metadata": {},
   "source": [
    "A predominância dos pacientes vacinados é maranhense (92,2%), mas temos registros de todos estados do Brasil.\\\n",
    "Observamos alguns registros com este atributo ausente ou assinado incorretamente."
   ]
  },
  {
   "cell_type": "code",
   "execution_count": 10,
   "metadata": {},
   "outputs": [
    {
     "data": {
      "text/html": [
       "<div>\n",
       "<style scoped>\n",
       "    .dataframe tbody tr th:only-of-type {\n",
       "        vertical-align: middle;\n",
       "    }\n",
       "\n",
       "    .dataframe tbody tr th {\n",
       "        vertical-align: top;\n",
       "    }\n",
       "\n",
       "    .dataframe thead th {\n",
       "        text-align: right;\n",
       "    }\n",
       "</style>\n",
       "<table border=\"1\" class=\"dataframe\">\n",
       "  <thead>\n",
       "    <tr style=\"text-align: right;\">\n",
       "      <th></th>\n",
       "      <th>paciente_endereco_uf</th>\n",
       "      <th>paciente_endereco_coIbgeMunicipio</th>\n",
       "      <th>paciente_endereco_nmMunicipio</th>\n",
       "      <th>vacina_dataAplicacao</th>\n",
       "      <th>vacina_nome</th>\n",
       "    </tr>\n",
       "  </thead>\n",
       "  <tbody>\n",
       "    <tr>\n",
       "      <th>10622</th>\n",
       "      <td>XX</td>\n",
       "      <td>999999</td>\n",
       "      <td>INVALIDO</td>\n",
       "      <td>2021-04-01</td>\n",
       "      <td>COVID-19 SINOVAC/BUTANTAN - CORONAVAC</td>\n",
       "    </tr>\n",
       "    <tr>\n",
       "      <th>50087</th>\n",
       "      <td>XX</td>\n",
       "      <td>999999</td>\n",
       "      <td>INVALIDO</td>\n",
       "      <td>2021-05-01</td>\n",
       "      <td>COVID-19 ASTRAZENECA/FIOCRUZ - COVISHIELD</td>\n",
       "    </tr>\n",
       "    <tr>\n",
       "      <th>129978</th>\n",
       "      <td>XX</td>\n",
       "      <td>999999</td>\n",
       "      <td>INVALIDO</td>\n",
       "      <td>2021-05-24</td>\n",
       "      <td>COVID-19 ASTRAZENECA - ChAdOx1-S</td>\n",
       "    </tr>\n",
       "    <tr>\n",
       "      <th>192395</th>\n",
       "      <td>XX</td>\n",
       "      <td>999999</td>\n",
       "      <td>INVALIDO</td>\n",
       "      <td>2021-06-13</td>\n",
       "      <td>COVID-19 ASTRAZENECA/FIOCRUZ - COVISHIELD</td>\n",
       "    </tr>\n",
       "    <tr>\n",
       "      <th>204649</th>\n",
       "      <td>XX</td>\n",
       "      <td>999999</td>\n",
       "      <td>INVALIDO</td>\n",
       "      <td>2021-10-20</td>\n",
       "      <td>COVID-19 ASTRAZENECA/FIOCRUZ - COVISHIELD</td>\n",
       "    </tr>\n",
       "    <tr>\n",
       "      <th>...</th>\n",
       "      <td>...</td>\n",
       "      <td>...</td>\n",
       "      <td>...</td>\n",
       "      <td>...</td>\n",
       "      <td>...</td>\n",
       "    </tr>\n",
       "    <tr>\n",
       "      <th>9499128</th>\n",
       "      <td>XX</td>\n",
       "      <td>999999</td>\n",
       "      <td>INVALIDO</td>\n",
       "      <td>2021-06-22</td>\n",
       "      <td>COVID-19 PFIZER - COMIRNATY</td>\n",
       "    </tr>\n",
       "    <tr>\n",
       "      <th>9526394</th>\n",
       "      <td>XX</td>\n",
       "      <td>999999</td>\n",
       "      <td>INVALIDO</td>\n",
       "      <td>2021-06-11</td>\n",
       "      <td>COVID-19 ASTRAZENECA/FIOCRUZ - COVISHIELD</td>\n",
       "    </tr>\n",
       "    <tr>\n",
       "      <th>9536546</th>\n",
       "      <td>XX</td>\n",
       "      <td>999999</td>\n",
       "      <td>INVALIDO</td>\n",
       "      <td>2021-04-09</td>\n",
       "      <td>COVID-19 SINOVAC/BUTANTAN - CORONAVAC</td>\n",
       "    </tr>\n",
       "    <tr>\n",
       "      <th>9554895</th>\n",
       "      <td>XX</td>\n",
       "      <td>999999</td>\n",
       "      <td>INVALIDO</td>\n",
       "      <td>2021-04-29</td>\n",
       "      <td>COVID-19 SINOVAC/BUTANTAN - CORONAVAC</td>\n",
       "    </tr>\n",
       "    <tr>\n",
       "      <th>9563173</th>\n",
       "      <td>XX</td>\n",
       "      <td>999999</td>\n",
       "      <td>INVALIDO</td>\n",
       "      <td>2021-03-30</td>\n",
       "      <td>COVID-19 SINOVAC/BUTANTAN - CORONAVAC</td>\n",
       "    </tr>\n",
       "  </tbody>\n",
       "</table>\n",
       "<p>233 rows × 5 columns</p>\n",
       "</div>"
      ],
      "text/plain": [
       "        paciente_endereco_uf paciente_endereco_coIbgeMunicipio  \\\n",
       "10622                     XX                            999999   \n",
       "50087                     XX                            999999   \n",
       "129978                    XX                            999999   \n",
       "192395                    XX                            999999   \n",
       "204649                    XX                            999999   \n",
       "...                      ...                               ...   \n",
       "9499128                   XX                            999999   \n",
       "9526394                   XX                            999999   \n",
       "9536546                   XX                            999999   \n",
       "9554895                   XX                            999999   \n",
       "9563173                   XX                            999999   \n",
       "\n",
       "        paciente_endereco_nmMunicipio vacina_dataAplicacao  \\\n",
       "10622                        INVALIDO           2021-04-01   \n",
       "50087                        INVALIDO           2021-05-01   \n",
       "129978                       INVALIDO           2021-05-24   \n",
       "192395                       INVALIDO           2021-06-13   \n",
       "204649                       INVALIDO           2021-10-20   \n",
       "...                               ...                  ...   \n",
       "9499128                      INVALIDO           2021-06-22   \n",
       "9526394                      INVALIDO           2021-06-11   \n",
       "9536546                      INVALIDO           2021-04-09   \n",
       "9554895                      INVALIDO           2021-04-29   \n",
       "9563173                      INVALIDO           2021-03-30   \n",
       "\n",
       "                                       vacina_nome  \n",
       "10622        COVID-19 SINOVAC/BUTANTAN - CORONAVAC  \n",
       "50087    COVID-19 ASTRAZENECA/FIOCRUZ - COVISHIELD  \n",
       "129978            COVID-19 ASTRAZENECA - ChAdOx1-S  \n",
       "192395   COVID-19 ASTRAZENECA/FIOCRUZ - COVISHIELD  \n",
       "204649   COVID-19 ASTRAZENECA/FIOCRUZ - COVISHIELD  \n",
       "...                                            ...  \n",
       "9499128                COVID-19 PFIZER - COMIRNATY  \n",
       "9526394  COVID-19 ASTRAZENECA/FIOCRUZ - COVISHIELD  \n",
       "9536546      COVID-19 SINOVAC/BUTANTAN - CORONAVAC  \n",
       "9554895      COVID-19 SINOVAC/BUTANTAN - CORONAVAC  \n",
       "9563173      COVID-19 SINOVAC/BUTANTAN - CORONAVAC  \n",
       "\n",
       "[233 rows x 5 columns]"
      ]
     },
     "execution_count": 10,
     "metadata": {},
     "output_type": "execute_result"
    }
   ],
   "source": [
    "# Encontrando de pacientes com UF ausente ou incorretas\n",
    "key_query = 'paciente_endereco_uf.str.contains(\"XX\", na=False)'\n",
    "df_uf_err = df_regvac2.query(key_query, engine='python')[['paciente_endereco_uf','paciente_endereco_coIbgeMunicipio',\n",
    "                                                          'paciente_endereco_nmMunicipio','vacina_dataAplicacao','vacina_nome']]\n",
    "df_uf_err"
   ]
  },
  {
   "cell_type": "markdown",
   "metadata": {},
   "source": [
    "A informação da UF dos pacientes registrados com XX poderia ser recuperada com os dois primeiros dígitos do atributo código do IGBE (paciente_endereco_coIbgeMunicipio) ou pelo nome do município (paciente_endereco_nmMunicipio), mas neste caso, esta opção se mostrou inviável.\n",
    "\n",
    "Optou-se pela exclusão dos registros. "
   ]
  },
  {
   "cell_type": "markdown",
   "metadata": {},
   "source": [
    "### 3.2.4.1 Excluindo registros incorretos ou não informados"
   ]
  },
  {
   "cell_type": "code",
   "execution_count": 11,
   "metadata": {},
   "outputs": [],
   "source": [
    "# Excluindo os registros de pacientes com UF ausente ou incorretas\n",
    "df_regvac2 = df_regvac2.query('paciente_endereco_uf.str.contains(\"None\") == False', engine='python')\n",
    "df_regvac2 = df_regvac2.query('paciente_endereco_uf.str.contains(\"XX\") == False', engine='python')"
   ]
  },
  {
   "cell_type": "code",
   "execution_count": 12,
   "metadata": {},
   "outputs": [
    {
     "data": {
      "text/plain": [
       "MA    8033327\n",
       "PI     127926\n",
       "PA      96704\n",
       "SP      77645\n",
       "GO      59507\n",
       "TO      37367\n",
       "MT      32344\n",
       "DF      28101\n",
       "RJ      23838\n",
       "MG      21679\n",
       "CE      20557\n",
       "SC      11805\n",
       "BA       8886\n",
       "PR       8885\n",
       "PE       8810\n",
       "PB       6868\n",
       "AM       6420\n",
       "AP       5565\n",
       "RO       5172\n",
       "RS       5146\n",
       "RR       5103\n",
       "RN       4748\n",
       "MS       4446\n",
       "AL       2412\n",
       "ES       2376\n",
       "SE       1742\n",
       "AC        564\n",
       "Name: paciente_endereco_uf, dtype: int64"
      ]
     },
     "execution_count": 12,
     "metadata": {},
     "output_type": "execute_result"
    }
   ],
   "source": [
    "df_regvac2.paciente_endereco_uf.value_counts()"
   ]
  },
  {
   "cell_type": "code",
   "execution_count": null,
   "metadata": {},
   "outputs": [],
   "source": []
  },
  {
   "cell_type": "markdown",
   "metadata": {},
   "source": [
    "## 3.2.5 Excluindo colunas que não serão usadas no projeto"
   ]
  },
  {
   "cell_type": "code",
   "execution_count": 13,
   "metadata": {},
   "outputs": [],
   "source": [
    "# Eliminando as colunas que não serão tratadas neste trabalho\n",
    "\n",
    "col_drop = ['Unnamed: 0','document_id','paciente_racaCor_codigo','paciente_endereco_coPais','paciente_endereco_nmPais',\n",
    "            'paciente_endereco_uf','paciente_endereco_cep','paciente_nacionalidade_enumNacionalidade','estabelecimento_valor',\n",
    "            'estabelecimento_razaoSocial','estalecimento_noFantasia','estabelecimento_municipio_codigo','estabelecimento_uf',\n",
    "            'vacina_grupoAtendimento_codigo','vacina_grupoAtendimento_nome','vacina_categoria_codigo','vacina_lote',\n",
    "            'vacina_fabricante_nome','vacina_fabricante_referencia', 'vacina_codigo','sistema_origem']\n",
    "\n",
    "df_regvac2 = df_regvac2.drop(col_drop, axis=1)"
   ]
  },
  {
   "cell_type": "code",
   "execution_count": null,
   "metadata": {},
   "outputs": [],
   "source": []
  },
  {
   "cell_type": "markdown",
   "metadata": {},
   "source": [
    "## 3.2.6 Ajustando o dataset "
   ]
  },
  {
   "cell_type": "markdown",
   "metadata": {},
   "source": [
    "### 3.2.6.1 Renomeando as colunas para facilitar "
   ]
  },
  {
   "cell_type": "code",
   "execution_count": 14,
   "metadata": {},
   "outputs": [],
   "source": [
    "# Renomeando as colunas para simplificar\n",
    "df_regvac2 = df_regvac2.rename(columns={'paciente_dataNascimento':'paciente_dt_nasc',\n",
    "                                        'paciente_enumSexoBiologico':'paciente_sexo',\n",
    "                                        'paciente_racaCor_valor':'paciente_raca',\n",
    "                                        'paciente_endereco_coIbgeMunicipio':'paciente_cod_municp',\n",
    "                                        'paciente_endereco_nmMunicipio':'paciente_nm_municp',\n",
    "                                        'estabelecimento_municipio_nome':'vacina_nm_municp',\n",
    "                                        'vacina_categoria_nome':'vacina_categoria',\n",
    "                                        'vacina_dataAplicacao':'vacina_dt_aplic',\n",
    "                                        'vacina_descricao_dose':'vacina_desc_dose'})                               \n"
   ]
  },
  {
   "cell_type": "code",
   "execution_count": 15,
   "metadata": {},
   "outputs": [
    {
     "name": "stdout",
     "output_type": "stream",
     "text": [
      "<class 'pandas.core.frame.DataFrame'>\n",
      "Int64Index: 8647943 entries, 0 to 9564663\n",
      "Data columns (total 12 columns):\n",
      " #   Column               Dtype         \n",
      "---  ------               -----         \n",
      " 0   paciente_id          object        \n",
      " 1   paciente_idade       float64       \n",
      " 2   paciente_dt_nasc     datetime64[ns]\n",
      " 3   paciente_sexo        object        \n",
      " 4   paciente_raca        object        \n",
      " 5   paciente_cod_municp  object        \n",
      " 6   paciente_nm_municp   object        \n",
      " 7   vacina_nm_municp     object        \n",
      " 8   vacina_categoria     object        \n",
      " 9   vacina_dt_aplic      datetime64[ns]\n",
      " 10  vacina_desc_dose     object        \n",
      " 11  vacina_nome          object        \n",
      "dtypes: datetime64[ns](2), float64(1), object(9)\n",
      "memory usage: 857.7+ MB\n"
     ]
    }
   ],
   "source": [
    "df_regvac2.info()"
   ]
  },
  {
   "cell_type": "code",
   "execution_count": null,
   "metadata": {},
   "outputs": [],
   "source": []
  },
  {
   "cell_type": "markdown",
   "metadata": {},
   "source": [
    "### 3.2.6.2 Substituindo o nome das vacinas"
   ]
  },
  {
   "cell_type": "code",
   "execution_count": 16,
   "metadata": {},
   "outputs": [],
   "source": [
    "dic_nmvacina = {'COVID-19 ASTRAZENECA/FIOCRUZ - COVISHIELD':'AstraZeneca','COVID-19 SINOVAC/BUTANTAN - CORONAVAC':'Coronavac',\n",
    "                'COVID-19 PEDIÁTRICA - PFIZER COMIRNATY':'Pfizer','COVID-19 PFIZER - COMIRNATY':'Pfizer',\n",
    "                'COVID-19 ASTRAZENECA - ChAdOx1-S':'AstraZeneca','COVID-19 JANSSEN - Ad26.COV2.S':'Janssen'}\n",
    "df_regvac2 = df_regvac2.replace({'vacina_nome':dic_nmvacina})"
   ]
  },
  {
   "cell_type": "markdown",
   "metadata": {},
   "source": [
    "Para facilitar a leitura, substituimos o nome comercial pelo nome popular da vacina."
   ]
  },
  {
   "cell_type": "code",
   "execution_count": null,
   "metadata": {},
   "outputs": [],
   "source": []
  },
  {
   "cell_type": "markdown",
   "metadata": {},
   "source": [
    "## 3.2.7 Excluindo registros de vacinação em crianças abaixo de 12 anos¶"
   ]
  },
  {
   "cell_type": "markdown",
   "metadata": {},
   "source": [
    "A vacinação pediátrica no Maranhão foi iniciada oficialmente em 20/01/2022. Como nosso estudo está focado no ano 2021, os registros da faixa etária até 11 anos serão excluídos."
   ]
  },
  {
   "cell_type": "code",
   "execution_count": 17,
   "metadata": {},
   "outputs": [],
   "source": [
    "# Definindo idade = 12 anos como idade mínima dos pacientes\n",
    "idade_min = 12.0\n",
    "df_regvac2 = df_regvac2.query('paciente_idade >= @idade_min')"
   ]
  },
  {
   "cell_type": "code",
   "execution_count": 18,
   "metadata": {},
   "outputs": [
    {
     "data": {
      "text/plain": [
       "paciente_id               0\n",
       "paciente_idade            0\n",
       "paciente_dt_nasc          0\n",
       "paciente_sexo             0\n",
       "paciente_raca             0\n",
       "paciente_cod_municp       0\n",
       "paciente_nm_municp        0\n",
       "vacina_nm_municp          0\n",
       "vacina_categoria       5086\n",
       "vacina_dt_aplic           0\n",
       "vacina_desc_dose          0\n",
       "vacina_nome               0\n",
       "dtype: int64"
      ]
     },
     "execution_count": 18,
     "metadata": {},
     "output_type": "execute_result"
    }
   ],
   "source": [
    "df_regvac2.isnull().sum()"
   ]
  },
  {
   "cell_type": "code",
   "execution_count": null,
   "metadata": {},
   "outputs": [],
   "source": []
  },
  {
   "cell_type": "markdown",
   "metadata": {},
   "source": [
    "## 3.2.8 Tratamento da categoria da vacina¶"
   ]
  },
  {
   "cell_type": "code",
   "execution_count": 19,
   "metadata": {},
   "outputs": [
    {
     "data": {
      "text/plain": [
       "Faixa Etária                                       6702409\n",
       "Comorbidades                                        505453\n",
       "Trabalhadores de Saúde                              430448\n",
       "Trabalhadores da Educação                           354993\n",
       "Povos e Comunidades Tradicionais                    255699\n",
       "Trabalhadores Industriais                            98787\n",
       "Gestantes                                            49228\n",
       "Trabalhadores de Transporte                          39886\n",
       "Forças de Segurança e Salvamento                     38344\n",
       "Pessoas com Deficiência                              29897\n",
       "Pessoas de 60 anos ou mais institucionalizadas       27369\n",
       "Povos Indígenas                                      27357\n",
       "Outros                                               20508\n",
       "Trabalhadores Portuários                             17675\n",
       "Trabalhadores de Limpeza Urbana                      13309\n",
       "Puérperas                                            11191\n",
       "Funcionário do Sistema de Privação de Liberdade       9058\n",
       "População Privada de Liberdade                        7150\n",
       "Forças Armadas (membros ativos)                       2235\n",
       "Pessoas em Situação de Rua                             398\n",
       "Name: vacina_categoria, dtype: int64"
      ]
     },
     "execution_count": 19,
     "metadata": {},
     "output_type": "execute_result"
    }
   ],
   "source": [
    "df_regvac2.vacina_categoria.value_counts()"
   ]
  },
  {
   "cell_type": "markdown",
   "metadata": {},
   "source": [
    "O atributo vacina_categoria informa o grupo atendido na vacinação, o que definia as prioridades das pessoas vacinadas, mas observamos que este atributo está fortemente relacionado ao paciente.\\\n",
    "Resolvemos renomear o atributo."
   ]
  },
  {
   "cell_type": "code",
   "execution_count": 20,
   "metadata": {},
   "outputs": [],
   "source": [
    "df_regvac2 = df_regvac2.rename(columns={'vacina_categoria':'paciente_categoria'})"
   ]
  },
  {
   "cell_type": "code",
   "execution_count": 21,
   "metadata": {},
   "outputs": [],
   "source": [
    "df_regvac2 = df_regvac2.reindex(columns=['paciente_id','paciente_idade','paciente_dt_nasc','paciente_sexo','paciente_raca',\n",
    "                                         'paciente_cod_municp','paciente_nm_municp','paciente_categoria','vacina_nm_municp',\n",
    "                                         'vacina_dt_aplic','vacina_desc_dose','vacina_nome'])"
   ]
  },
  {
   "cell_type": "code",
   "execution_count": 22,
   "metadata": {},
   "outputs": [
    {
     "name": "stdout",
     "output_type": "stream",
     "text": [
      "<class 'pandas.core.frame.DataFrame'>\n",
      "Int64Index: 8646480 entries, 0 to 9564663\n",
      "Data columns (total 12 columns):\n",
      " #   Column               Dtype         \n",
      "---  ------               -----         \n",
      " 0   paciente_id          object        \n",
      " 1   paciente_idade       float64       \n",
      " 2   paciente_dt_nasc     datetime64[ns]\n",
      " 3   paciente_sexo        object        \n",
      " 4   paciente_raca        object        \n",
      " 5   paciente_cod_municp  object        \n",
      " 6   paciente_nm_municp   object        \n",
      " 7   paciente_categoria   object        \n",
      " 8   vacina_nm_municp     object        \n",
      " 9   vacina_dt_aplic      datetime64[ns]\n",
      " 10  vacina_desc_dose     object        \n",
      " 11  vacina_nome          object        \n",
      "dtypes: datetime64[ns](2), float64(1), object(9)\n",
      "memory usage: 857.6+ MB\n"
     ]
    }
   ],
   "source": [
    "df_regvac2.info()"
   ]
  },
  {
   "cell_type": "markdown",
   "metadata": {},
   "source": [
    "Esta será a estrutura básica do nosso dataset Registro de Vacinas."
   ]
  },
  {
   "cell_type": "code",
   "execution_count": null,
   "metadata": {},
   "outputs": [],
   "source": []
  },
  {
   "cell_type": "markdown",
   "metadata": {},
   "source": [
    "## 3.2.9 Verificando registros duplicados"
   ]
  },
  {
   "cell_type": "code",
   "execution_count": 23,
   "metadata": {},
   "outputs": [
    {
     "data": {
      "text/plain": [
       "7613"
      ]
     },
     "execution_count": 23,
     "metadata": {},
     "output_type": "execute_result"
    }
   ],
   "source": [
    "# Verificando a quantidade de registros duplicados\n",
    "df_regvac2.duplicated().sum()"
   ]
  },
  {
   "cell_type": "code",
   "execution_count": 24,
   "metadata": {},
   "outputs": [],
   "source": [
    "df_regvac2.reset_index(drop=True, inplace=True)"
   ]
  },
  {
   "cell_type": "code",
   "execution_count": 25,
   "metadata": {},
   "outputs": [
    {
     "data": {
      "text/html": [
       "<div>\n",
       "<style scoped>\n",
       "    .dataframe tbody tr th:only-of-type {\n",
       "        vertical-align: middle;\n",
       "    }\n",
       "\n",
       "    .dataframe tbody tr th {\n",
       "        vertical-align: top;\n",
       "    }\n",
       "\n",
       "    .dataframe thead th {\n",
       "        text-align: right;\n",
       "    }\n",
       "</style>\n",
       "<table border=\"1\" class=\"dataframe\">\n",
       "  <thead>\n",
       "    <tr style=\"text-align: right;\">\n",
       "      <th></th>\n",
       "      <th>paciente_id</th>\n",
       "      <th>paciente_idade</th>\n",
       "      <th>paciente_dt_nasc</th>\n",
       "      <th>paciente_sexo</th>\n",
       "      <th>paciente_raca</th>\n",
       "      <th>paciente_cod_municp</th>\n",
       "      <th>paciente_nm_municp</th>\n",
       "      <th>paciente_categoria</th>\n",
       "      <th>vacina_nm_municp</th>\n",
       "      <th>vacina_dt_aplic</th>\n",
       "      <th>vacina_desc_dose</th>\n",
       "      <th>vacina_nome</th>\n",
       "    </tr>\n",
       "  </thead>\n",
       "  <tbody>\n",
       "    <tr>\n",
       "      <th>85324</th>\n",
       "      <td>c91177b9d304b2261724a068504465dc08cfdcb41294e1...</td>\n",
       "      <td>46.0</td>\n",
       "      <td>1975-02-22</td>\n",
       "      <td>F</td>\n",
       "      <td>AMARELA</td>\n",
       "      <td>210930</td>\n",
       "      <td>PRESIDENTE VARGAS</td>\n",
       "      <td>Trabalhadores de Saúde</td>\n",
       "      <td>PRESIDENTE VARGAS</td>\n",
       "      <td>2021-06-10</td>\n",
       "      <td>1ª Dose</td>\n",
       "      <td>AstraZeneca</td>\n",
       "    </tr>\n",
       "    <tr>\n",
       "      <th>86641</th>\n",
       "      <td>1d8916336c2e2a869a9549b422d710b2e18d16db935b66...</td>\n",
       "      <td>50.0</td>\n",
       "      <td>1971-04-14</td>\n",
       "      <td>F</td>\n",
       "      <td>AMARELA</td>\n",
       "      <td>210232</td>\n",
       "      <td>BURITICUPU</td>\n",
       "      <td>Faixa Etária</td>\n",
       "      <td>BURITICUPU</td>\n",
       "      <td>2021-10-14</td>\n",
       "      <td>1ª Dose</td>\n",
       "      <td>Pfizer</td>\n",
       "    </tr>\n",
       "    <tr>\n",
       "      <th>105854</th>\n",
       "      <td>ffc7246ae37d4e61f286b18a987917a333805e8b90139f...</td>\n",
       "      <td>15.0</td>\n",
       "      <td>2006-01-13</td>\n",
       "      <td>F</td>\n",
       "      <td>PARDA</td>\n",
       "      <td>210232</td>\n",
       "      <td>BURITICUPU</td>\n",
       "      <td>Faixa Etária</td>\n",
       "      <td>SANTA INES</td>\n",
       "      <td>2021-11-22</td>\n",
       "      <td>2ª Dose</td>\n",
       "      <td>Pfizer</td>\n",
       "    </tr>\n",
       "    <tr>\n",
       "      <th>145351</th>\n",
       "      <td>684ac5e1e170758fe303fa37000fba0a32fa82ba437786...</td>\n",
       "      <td>91.0</td>\n",
       "      <td>1929-11-29</td>\n",
       "      <td>F</td>\n",
       "      <td>PARDA</td>\n",
       "      <td>211270</td>\n",
       "      <td>VARGEM GRANDE</td>\n",
       "      <td>Faixa Etária</td>\n",
       "      <td>VARGEM GRANDE</td>\n",
       "      <td>2021-04-12</td>\n",
       "      <td>2ª Dose</td>\n",
       "      <td>Coronavac</td>\n",
       "    </tr>\n",
       "    <tr>\n",
       "      <th>175801</th>\n",
       "      <td>ff47c308864cd3ece5b44dbf3591e5132dea3f49981f31...</td>\n",
       "      <td>76.0</td>\n",
       "      <td>1945-02-28</td>\n",
       "      <td>F</td>\n",
       "      <td>AMARELA</td>\n",
       "      <td>510263</td>\n",
       "      <td>CAMPO NOVO DO PARECIS</td>\n",
       "      <td>Faixa Etária</td>\n",
       "      <td>TIMON</td>\n",
       "      <td>2021-09-28</td>\n",
       "      <td>1ª Dose</td>\n",
       "      <td>Coronavac</td>\n",
       "    </tr>\n",
       "    <tr>\n",
       "      <th>...</th>\n",
       "      <td>...</td>\n",
       "      <td>...</td>\n",
       "      <td>...</td>\n",
       "      <td>...</td>\n",
       "      <td>...</td>\n",
       "      <td>...</td>\n",
       "      <td>...</td>\n",
       "      <td>...</td>\n",
       "      <td>...</td>\n",
       "      <td>...</td>\n",
       "      <td>...</td>\n",
       "      <td>...</td>\n",
       "    </tr>\n",
       "    <tr>\n",
       "      <th>8645889</th>\n",
       "      <td>02c02ef7a4132047acb11361f0b24d8843a3b0dc12a208...</td>\n",
       "      <td>37.0</td>\n",
       "      <td>1983-05-08</td>\n",
       "      <td>F</td>\n",
       "      <td>PARDA</td>\n",
       "      <td>211130</td>\n",
       "      <td>SAO LUIS</td>\n",
       "      <td>Trabalhadores da Educação</td>\n",
       "      <td>PRESIDENTE VARGAS</td>\n",
       "      <td>2021-05-05</td>\n",
       "      <td>1ª Dose</td>\n",
       "      <td>AstraZeneca</td>\n",
       "    </tr>\n",
       "    <tr>\n",
       "      <th>8646158</th>\n",
       "      <td>5219a80c4d4f108d677260f27f88c5aac4d8be05cedd90...</td>\n",
       "      <td>69.0</td>\n",
       "      <td>1951-05-07</td>\n",
       "      <td>F</td>\n",
       "      <td>PARDA</td>\n",
       "      <td>210047</td>\n",
       "      <td>ALTO ALEGRE DO PINDARE</td>\n",
       "      <td>NaN</td>\n",
       "      <td>ALTO ALEGRE DO PINDARE</td>\n",
       "      <td>2021-03-23</td>\n",
       "      <td>1ª Dose</td>\n",
       "      <td>Coronavac</td>\n",
       "    </tr>\n",
       "    <tr>\n",
       "      <th>8646176</th>\n",
       "      <td>3019acd7e18294827e03b532eef4db2fc70b297918b292...</td>\n",
       "      <td>42.0</td>\n",
       "      <td>1978-11-17</td>\n",
       "      <td>F</td>\n",
       "      <td>AMARELA</td>\n",
       "      <td>210930</td>\n",
       "      <td>PRESIDENTE VARGAS</td>\n",
       "      <td>Faixa Etária</td>\n",
       "      <td>PRESIDENTE VARGAS</td>\n",
       "      <td>2021-07-15</td>\n",
       "      <td>Dose</td>\n",
       "      <td>Janssen</td>\n",
       "    </tr>\n",
       "    <tr>\n",
       "      <th>8646294</th>\n",
       "      <td>a76ef4e01f0088821cd84673e2b6905d6ffde1c9dfcca4...</td>\n",
       "      <td>81.0</td>\n",
       "      <td>1940-01-20</td>\n",
       "      <td>M</td>\n",
       "      <td>BRANCA</td>\n",
       "      <td>210920</td>\n",
       "      <td>PRESIDENTE JUSCELINO</td>\n",
       "      <td>Faixa Etária</td>\n",
       "      <td>PRESIDENTE JUSCELINO</td>\n",
       "      <td>2021-03-09</td>\n",
       "      <td>1ª Dose</td>\n",
       "      <td>Coronavac</td>\n",
       "    </tr>\n",
       "    <tr>\n",
       "      <th>8646404</th>\n",
       "      <td>a03dd05d39ca460e98d87a21667330c2230d089478284c...</td>\n",
       "      <td>15.0</td>\n",
       "      <td>2006-04-26</td>\n",
       "      <td>M</td>\n",
       "      <td>PARDA</td>\n",
       "      <td>210270</td>\n",
       "      <td>CANTANHEDE</td>\n",
       "      <td>Faixa Etária</td>\n",
       "      <td>CANTANHEDE</td>\n",
       "      <td>2021-09-03</td>\n",
       "      <td>1ª Dose</td>\n",
       "      <td>Pfizer</td>\n",
       "    </tr>\n",
       "  </tbody>\n",
       "</table>\n",
       "<p>16115 rows × 12 columns</p>\n",
       "</div>"
      ],
      "text/plain": [
       "                                               paciente_id  paciente_idade  \\\n",
       "85324    c91177b9d304b2261724a068504465dc08cfdcb41294e1...            46.0   \n",
       "86641    1d8916336c2e2a869a9549b422d710b2e18d16db935b66...            50.0   \n",
       "105854   ffc7246ae37d4e61f286b18a987917a333805e8b90139f...            15.0   \n",
       "145351   684ac5e1e170758fe303fa37000fba0a32fa82ba437786...            91.0   \n",
       "175801   ff47c308864cd3ece5b44dbf3591e5132dea3f49981f31...            76.0   \n",
       "...                                                    ...             ...   \n",
       "8645889  02c02ef7a4132047acb11361f0b24d8843a3b0dc12a208...            37.0   \n",
       "8646158  5219a80c4d4f108d677260f27f88c5aac4d8be05cedd90...            69.0   \n",
       "8646176  3019acd7e18294827e03b532eef4db2fc70b297918b292...            42.0   \n",
       "8646294  a76ef4e01f0088821cd84673e2b6905d6ffde1c9dfcca4...            81.0   \n",
       "8646404  a03dd05d39ca460e98d87a21667330c2230d089478284c...            15.0   \n",
       "\n",
       "        paciente_dt_nasc paciente_sexo paciente_raca paciente_cod_municp  \\\n",
       "85324         1975-02-22             F       AMARELA              210930   \n",
       "86641         1971-04-14             F       AMARELA              210232   \n",
       "105854        2006-01-13             F         PARDA              210232   \n",
       "145351        1929-11-29             F         PARDA              211270   \n",
       "175801        1945-02-28             F       AMARELA              510263   \n",
       "...                  ...           ...           ...                 ...   \n",
       "8645889       1983-05-08             F         PARDA              211130   \n",
       "8646158       1951-05-07             F         PARDA              210047   \n",
       "8646176       1978-11-17             F       AMARELA              210930   \n",
       "8646294       1940-01-20             M        BRANCA              210920   \n",
       "8646404       2006-04-26             M         PARDA              210270   \n",
       "\n",
       "             paciente_nm_municp         paciente_categoria  \\\n",
       "85324         PRESIDENTE VARGAS     Trabalhadores de Saúde   \n",
       "86641                BURITICUPU               Faixa Etária   \n",
       "105854               BURITICUPU               Faixa Etária   \n",
       "145351            VARGEM GRANDE               Faixa Etária   \n",
       "175801    CAMPO NOVO DO PARECIS               Faixa Etária   \n",
       "...                         ...                        ...   \n",
       "8645889                SAO LUIS  Trabalhadores da Educação   \n",
       "8646158  ALTO ALEGRE DO PINDARE                        NaN   \n",
       "8646176       PRESIDENTE VARGAS               Faixa Etária   \n",
       "8646294    PRESIDENTE JUSCELINO               Faixa Etária   \n",
       "8646404              CANTANHEDE               Faixa Etária   \n",
       "\n",
       "               vacina_nm_municp vacina_dt_aplic vacina_desc_dose  vacina_nome  \n",
       "85324         PRESIDENTE VARGAS      2021-06-10          1ª Dose  AstraZeneca  \n",
       "86641                BURITICUPU      2021-10-14          1ª Dose       Pfizer  \n",
       "105854               SANTA INES      2021-11-22          2ª Dose       Pfizer  \n",
       "145351            VARGEM GRANDE      2021-04-12          2ª Dose    Coronavac  \n",
       "175801                    TIMON      2021-09-28          1ª Dose    Coronavac  \n",
       "...                         ...             ...              ...          ...  \n",
       "8645889       PRESIDENTE VARGAS      2021-05-05          1ª Dose  AstraZeneca  \n",
       "8646158  ALTO ALEGRE DO PINDARE      2021-03-23          1ª Dose    Coronavac  \n",
       "8646176       PRESIDENTE VARGAS      2021-07-15             Dose      Janssen  \n",
       "8646294    PRESIDENTE JUSCELINO      2021-03-09          1ª Dose    Coronavac  \n",
       "8646404              CANTANHEDE      2021-09-03          1ª Dose       Pfizer  \n",
       "\n",
       "[16115 rows x 12 columns]"
      ]
     },
     "execution_count": 25,
     "metadata": {},
     "output_type": "execute_result"
    }
   ],
   "source": [
    "ck_duplic = ['paciente_id','paciente_idade','paciente_dt_nasc','paciente_sexo','paciente_raca','vacina_nm_municp',\n",
    "             'vacina_dt_aplic','vacina_desc_dose']\n",
    "df_regvac2[df_regvac2.duplicated(subset=ck_duplic)]"
   ]
  },
  {
   "cell_type": "code",
   "execution_count": 26,
   "metadata": {},
   "outputs": [
    {
     "data": {
      "text/html": [
       "<div>\n",
       "<style scoped>\n",
       "    .dataframe tbody tr th:only-of-type {\n",
       "        vertical-align: middle;\n",
       "    }\n",
       "\n",
       "    .dataframe tbody tr th {\n",
       "        vertical-align: top;\n",
       "    }\n",
       "\n",
       "    .dataframe thead th {\n",
       "        text-align: right;\n",
       "    }\n",
       "</style>\n",
       "<table border=\"1\" class=\"dataframe\">\n",
       "  <thead>\n",
       "    <tr style=\"text-align: right;\">\n",
       "      <th></th>\n",
       "      <th>paciente_id</th>\n",
       "      <th>paciente_dt_nasc</th>\n",
       "      <th>paciente_nm_municp</th>\n",
       "      <th>vacina_dt_aplic</th>\n",
       "      <th>vacina_desc_dose</th>\n",
       "    </tr>\n",
       "  </thead>\n",
       "  <tbody>\n",
       "    <tr>\n",
       "      <th>0</th>\n",
       "      <td>57ef873fe42e8f297cdb99c28d2f0815756b41d4ee632b...</td>\n",
       "      <td>1976-08-02</td>\n",
       "      <td>MIRANDA DO NORTE</td>\n",
       "      <td>2021-12-22</td>\n",
       "      <td>1ª Dose</td>\n",
       "    </tr>\n",
       "    <tr>\n",
       "      <th>1</th>\n",
       "      <td>b54c174fb4491eed8b83c67e6daf153b76e48c4c2c31f2...</td>\n",
       "      <td>1969-07-24</td>\n",
       "      <td>SAO LUIS</td>\n",
       "      <td>2021-08-25</td>\n",
       "      <td>2ª Dose</td>\n",
       "    </tr>\n",
       "    <tr>\n",
       "      <th>2</th>\n",
       "      <td>82f6fda10ff79424c50a75a25389fefd199db1527d7f20...</td>\n",
       "      <td>1969-03-22</td>\n",
       "      <td>SAO LUIS</td>\n",
       "      <td>2021-08-24</td>\n",
       "      <td>2ª Dose</td>\n",
       "    </tr>\n",
       "    <tr>\n",
       "      <th>3</th>\n",
       "      <td>9bf4a3972748b5f60654bc2920206985a53ad5108c6e49...</td>\n",
       "      <td>1950-07-30</td>\n",
       "      <td>PERITORO</td>\n",
       "      <td>2021-10-27</td>\n",
       "      <td>Reforço</td>\n",
       "    </tr>\n",
       "    <tr>\n",
       "      <th>4</th>\n",
       "      <td>312943d0aadee9b6c00dc18ed0f45aef884047188baf2e...</td>\n",
       "      <td>1962-11-13</td>\n",
       "      <td>SAO LUIS</td>\n",
       "      <td>2021-04-23</td>\n",
       "      <td>1ª Dose</td>\n",
       "    </tr>\n",
       "    <tr>\n",
       "      <th>...</th>\n",
       "      <td>...</td>\n",
       "      <td>...</td>\n",
       "      <td>...</td>\n",
       "      <td>...</td>\n",
       "      <td>...</td>\n",
       "    </tr>\n",
       "    <tr>\n",
       "      <th>8646475</th>\n",
       "      <td>f19e213a3969ccf819fb9a96c597673f8f0d01be9108a9...</td>\n",
       "      <td>1945-11-15</td>\n",
       "      <td>LAGO DA PEDRA</td>\n",
       "      <td>2021-03-29</td>\n",
       "      <td>1ª Dose</td>\n",
       "    </tr>\n",
       "    <tr>\n",
       "      <th>8646476</th>\n",
       "      <td>cc95279445065d3d4bb1ee9451c0f9cd8e327ddec8cd38...</td>\n",
       "      <td>1977-11-28</td>\n",
       "      <td>SAO LUIS</td>\n",
       "      <td>2021-04-25</td>\n",
       "      <td>1ª Dose</td>\n",
       "    </tr>\n",
       "    <tr>\n",
       "      <th>8646477</th>\n",
       "      <td>54ad29220638a1802b334251cd9fef0941f696c8dbe1e8...</td>\n",
       "      <td>2005-12-02</td>\n",
       "      <td>ROSARIO</td>\n",
       "      <td>2021-07-23</td>\n",
       "      <td>1ª Dose</td>\n",
       "    </tr>\n",
       "    <tr>\n",
       "      <th>8646478</th>\n",
       "      <td>cae814e1c00c6abb1787ae1604acee8734acd8b1068108...</td>\n",
       "      <td>2001-01-30</td>\n",
       "      <td>SAO LUIS</td>\n",
       "      <td>2021-08-13</td>\n",
       "      <td>1ª Dose</td>\n",
       "    </tr>\n",
       "    <tr>\n",
       "      <th>8646479</th>\n",
       "      <td>5ba5839a07bfffc2c44e2de49bcc721d9e10fcc46be0e4...</td>\n",
       "      <td>2006-12-08</td>\n",
       "      <td>CHAPADINHA</td>\n",
       "      <td>2021-09-28</td>\n",
       "      <td>1ª Dose</td>\n",
       "    </tr>\n",
       "  </tbody>\n",
       "</table>\n",
       "<p>8646480 rows × 5 columns</p>\n",
       "</div>"
      ],
      "text/plain": [
       "                                               paciente_id paciente_dt_nasc  \\\n",
       "0        57ef873fe42e8f297cdb99c28d2f0815756b41d4ee632b...       1976-08-02   \n",
       "1        b54c174fb4491eed8b83c67e6daf153b76e48c4c2c31f2...       1969-07-24   \n",
       "2        82f6fda10ff79424c50a75a25389fefd199db1527d7f20...       1969-03-22   \n",
       "3        9bf4a3972748b5f60654bc2920206985a53ad5108c6e49...       1950-07-30   \n",
       "4        312943d0aadee9b6c00dc18ed0f45aef884047188baf2e...       1962-11-13   \n",
       "...                                                    ...              ...   \n",
       "8646475  f19e213a3969ccf819fb9a96c597673f8f0d01be9108a9...       1945-11-15   \n",
       "8646476  cc95279445065d3d4bb1ee9451c0f9cd8e327ddec8cd38...       1977-11-28   \n",
       "8646477  54ad29220638a1802b334251cd9fef0941f696c8dbe1e8...       2005-12-02   \n",
       "8646478  cae814e1c00c6abb1787ae1604acee8734acd8b1068108...       2001-01-30   \n",
       "8646479  5ba5839a07bfffc2c44e2de49bcc721d9e10fcc46be0e4...       2006-12-08   \n",
       "\n",
       "        paciente_nm_municp vacina_dt_aplic vacina_desc_dose  \n",
       "0         MIRANDA DO NORTE      2021-12-22          1ª Dose  \n",
       "1                 SAO LUIS      2021-08-25          2ª Dose  \n",
       "2                 SAO LUIS      2021-08-24          2ª Dose  \n",
       "3                 PERITORO      2021-10-27          Reforço  \n",
       "4                 SAO LUIS      2021-04-23          1ª Dose  \n",
       "...                    ...             ...              ...  \n",
       "8646475      LAGO DA PEDRA      2021-03-29          1ª Dose  \n",
       "8646476           SAO LUIS      2021-04-25          1ª Dose  \n",
       "8646477            ROSARIO      2021-07-23          1ª Dose  \n",
       "8646478           SAO LUIS      2021-08-13          1ª Dose  \n",
       "8646479         CHAPADINHA      2021-09-28          1ª Dose  \n",
       "\n",
       "[8646480 rows x 5 columns]"
      ]
     },
     "execution_count": 26,
     "metadata": {},
     "output_type": "execute_result"
    }
   ],
   "source": [
    "df_regvac2.loc[:,['paciente_id','paciente_dt_nasc','paciente_nm_municp','vacina_dt_aplic','vacina_desc_dose']]"
   ]
  },
  {
   "cell_type": "code",
   "execution_count": 27,
   "metadata": {},
   "outputs": [],
   "source": [
    "df_regvac2.sort_values('paciente_id', inplace=True)"
   ]
  },
  {
   "cell_type": "code",
   "execution_count": 28,
   "metadata": {},
   "outputs": [
    {
     "data": {
      "text/plain": [
       "357fb31c6bda2296e11d6c2545bec1dd2e443a924985ccd954ae73475c6c45fb    8\n",
       "f30dce82db0c8fc285117e50531f40b6797ac8362e653cb692fcf459fb1b9b62    8\n",
       "4d7f46a384ef4a4b0b2ae21bc51c8eadcf81add910f73d4a51cad51b48403690    8\n",
       "fc663f20fadd69fcf11d3231e4abc53753ef8627cc2824347eb701d763adf6ac    7\n",
       "c7a906583c49472af301351bb0b598288f1ab9180d2f35e3139bc2b9a4cf8835    7\n",
       "                                                                   ..\n",
       "3e9ce07c52718a472e9e85d94afe9e985f84fed4f4fd0fbab87be376b51a9c14    1\n",
       "038f8d6cd57b526b1b77f1094097a88708146f88354fa97109ed939446cadeee    1\n",
       "e0e942e908e3cc2d69ce73eda5b0aa993f86dbdab8fb053cdff6afe2ac2057d5    1\n",
       "4aff1cc25fb04e4f61cd1396a28383b2514698a8b9d8def8847ad1ff3c2fa4a2    1\n",
       "256699429b3bb51a21bf52efd43abf31b1fac1b921a9691fe37479c734df6b33    1\n",
       "Name: paciente_id, Length: 4614250, dtype: int64"
      ]
     },
     "execution_count": 28,
     "metadata": {},
     "output_type": "execute_result"
    }
   ],
   "source": [
    "df_regvac2.paciente_id.value_counts()"
   ]
  },
  {
   "cell_type": "markdown",
   "metadata": {},
   "source": [
    "Normalmente um paciente deveria ter 3 registros de vacinação, correspondentes a 1ª e 2ª doses e dose reforço.\n",
    "\n",
    "Conforme acima, observamos que a quantidade total de pacientes é 4.614.250, entretanto alguns pacientes possuem registros acima do esperado.\n",
    "\n",
    "Para tentar resolver esta situação resolvemos criar novas bases, por doses (1º dose, 2ª dose e dose reforço). "
   ]
  },
  {
   "cell_type": "code",
   "execution_count": null,
   "metadata": {},
   "outputs": [],
   "source": []
  },
  {
   "cell_type": "markdown",
   "metadata": {},
   "source": [
    "## 3.2.10 Separando os registros por doses"
   ]
  },
  {
   "cell_type": "markdown",
   "metadata": {},
   "source": [
    "### 3.2.10.1 DataFrame 1ª dose"
   ]
  },
  {
   "cell_type": "code",
   "execution_count": 29,
   "metadata": {},
   "outputs": [],
   "source": [
    "# Criando DataFrame para receber informações da 1ª dose\n",
    "df_regvac_D1 = df_regvac2.query('vacina_desc_dose == \"1ª Dose\" ')"
   ]
  },
  {
   "cell_type": "code",
   "execution_count": 30,
   "metadata": {},
   "outputs": [
    {
     "data": {
      "text/plain": [
       "1ª Dose    4432440\n",
       "Name: vacina_desc_dose, dtype: int64"
      ]
     },
     "execution_count": 30,
     "metadata": {},
     "output_type": "execute_result"
    }
   ],
   "source": [
    "df_regvac_D1.vacina_desc_dose.value_counts()"
   ]
  },
  {
   "cell_type": "code",
   "execution_count": 31,
   "metadata": {},
   "outputs": [
    {
     "data": {
      "text/html": [
       "<div>\n",
       "<style scoped>\n",
       "    .dataframe tbody tr th:only-of-type {\n",
       "        vertical-align: middle;\n",
       "    }\n",
       "\n",
       "    .dataframe tbody tr th {\n",
       "        vertical-align: top;\n",
       "    }\n",
       "\n",
       "    .dataframe thead th {\n",
       "        text-align: right;\n",
       "    }\n",
       "</style>\n",
       "<table border=\"1\" class=\"dataframe\">\n",
       "  <thead>\n",
       "    <tr style=\"text-align: right;\">\n",
       "      <th></th>\n",
       "      <th>paciente_id</th>\n",
       "      <th>paciente_idade</th>\n",
       "      <th>paciente_dt_nasc</th>\n",
       "      <th>paciente_sexo</th>\n",
       "      <th>paciente_raca</th>\n",
       "      <th>paciente_cod_municp</th>\n",
       "      <th>paciente_nm_municp</th>\n",
       "      <th>paciente_categoria</th>\n",
       "      <th>vacina_nm_municp</th>\n",
       "      <th>vacina_dt_aplic</th>\n",
       "      <th>vacina_desc_dose</th>\n",
       "      <th>vacina_nome</th>\n",
       "    </tr>\n",
       "  </thead>\n",
       "  <tbody>\n",
       "    <tr>\n",
       "      <th>6274449</th>\n",
       "      <td>000004050e20191103d19e89b76542ac762c35912838ad...</td>\n",
       "      <td>14.0</td>\n",
       "      <td>2007-09-28</td>\n",
       "      <td>M</td>\n",
       "      <td>AMARELA</td>\n",
       "      <td>210340</td>\n",
       "      <td>COELHO NETO</td>\n",
       "      <td>Faixa Etária</td>\n",
       "      <td>COELHO NETO</td>\n",
       "      <td>2021-10-08</td>\n",
       "      <td>1ª Dose</td>\n",
       "      <td>Pfizer</td>\n",
       "    </tr>\n",
       "    <tr>\n",
       "      <th>3277453</th>\n",
       "      <td>0000073e1d449a8f1ae24b5ceac7f4ac5bfd1daf2203ce...</td>\n",
       "      <td>57.0</td>\n",
       "      <td>1963-11-03</td>\n",
       "      <td>M</td>\n",
       "      <td>BRANCA</td>\n",
       "      <td>211130</td>\n",
       "      <td>SAO LUIS</td>\n",
       "      <td>Faixa Etária</td>\n",
       "      <td>SAO LUIS</td>\n",
       "      <td>2021-05-27</td>\n",
       "      <td>1ª Dose</td>\n",
       "      <td>Pfizer</td>\n",
       "    </tr>\n",
       "    <tr>\n",
       "      <th>5751671</th>\n",
       "      <td>00000c08e215dfabf66a513ada8cce634347971b469333...</td>\n",
       "      <td>16.0</td>\n",
       "      <td>2005-08-29</td>\n",
       "      <td>M</td>\n",
       "      <td>AMARELA</td>\n",
       "      <td>211130</td>\n",
       "      <td>SAO LUIS</td>\n",
       "      <td>Faixa Etária</td>\n",
       "      <td>ANAJATUBA</td>\n",
       "      <td>2021-12-21</td>\n",
       "      <td>1ª Dose</td>\n",
       "      <td>Pfizer</td>\n",
       "    </tr>\n",
       "    <tr>\n",
       "      <th>8071057</th>\n",
       "      <td>00000daced6a84b616569aeab4bda96f74971c8ebd31b6...</td>\n",
       "      <td>29.0</td>\n",
       "      <td>1992-03-06</td>\n",
       "      <td>M</td>\n",
       "      <td>AMARELA</td>\n",
       "      <td>210340</td>\n",
       "      <td>COELHO NETO</td>\n",
       "      <td>Faixa Etária</td>\n",
       "      <td>COELHO NETO</td>\n",
       "      <td>2021-11-11</td>\n",
       "      <td>1ª Dose</td>\n",
       "      <td>Coronavac</td>\n",
       "    </tr>\n",
       "    <tr>\n",
       "      <th>931857</th>\n",
       "      <td>00000ee6399e2172e8eaa164c22f5e6a6e86cbdab71a76...</td>\n",
       "      <td>39.0</td>\n",
       "      <td>1982-02-14</td>\n",
       "      <td>F</td>\n",
       "      <td>AMARELA</td>\n",
       "      <td>211130</td>\n",
       "      <td>SAO LUIS</td>\n",
       "      <td>Faixa Etária</td>\n",
       "      <td>SAO LUIS</td>\n",
       "      <td>2021-07-01</td>\n",
       "      <td>1ª Dose</td>\n",
       "      <td>Pfizer</td>\n",
       "    </tr>\n",
       "  </tbody>\n",
       "</table>\n",
       "</div>"
      ],
      "text/plain": [
       "                                               paciente_id  paciente_idade  \\\n",
       "6274449  000004050e20191103d19e89b76542ac762c35912838ad...            14.0   \n",
       "3277453  0000073e1d449a8f1ae24b5ceac7f4ac5bfd1daf2203ce...            57.0   \n",
       "5751671  00000c08e215dfabf66a513ada8cce634347971b469333...            16.0   \n",
       "8071057  00000daced6a84b616569aeab4bda96f74971c8ebd31b6...            29.0   \n",
       "931857   00000ee6399e2172e8eaa164c22f5e6a6e86cbdab71a76...            39.0   \n",
       "\n",
       "        paciente_dt_nasc paciente_sexo paciente_raca paciente_cod_municp  \\\n",
       "6274449       2007-09-28             M       AMARELA              210340   \n",
       "3277453       1963-11-03             M        BRANCA              211130   \n",
       "5751671       2005-08-29             M       AMARELA              211130   \n",
       "8071057       1992-03-06             M       AMARELA              210340   \n",
       "931857        1982-02-14             F       AMARELA              211130   \n",
       "\n",
       "        paciente_nm_municp paciente_categoria vacina_nm_municp  \\\n",
       "6274449        COELHO NETO       Faixa Etária      COELHO NETO   \n",
       "3277453           SAO LUIS       Faixa Etária         SAO LUIS   \n",
       "5751671           SAO LUIS       Faixa Etária        ANAJATUBA   \n",
       "8071057        COELHO NETO       Faixa Etária      COELHO NETO   \n",
       "931857            SAO LUIS       Faixa Etária         SAO LUIS   \n",
       "\n",
       "        vacina_dt_aplic vacina_desc_dose vacina_nome  \n",
       "6274449      2021-10-08          1ª Dose      Pfizer  \n",
       "3277453      2021-05-27          1ª Dose      Pfizer  \n",
       "5751671      2021-12-21          1ª Dose      Pfizer  \n",
       "8071057      2021-11-11          1ª Dose   Coronavac  \n",
       "931857       2021-07-01          1ª Dose      Pfizer  "
      ]
     },
     "execution_count": 31,
     "metadata": {},
     "output_type": "execute_result"
    }
   ],
   "source": [
    "df_regvac_D1.head()"
   ]
  },
  {
   "cell_type": "code",
   "execution_count": 32,
   "metadata": {},
   "outputs": [],
   "source": [
    "# Renomeando as colunas de atributos das vacinas\n",
    "df_regvac_D1 = df_regvac_D1.rename(columns={'vacina_nm_municp':'vacina_nm_municp_d1',\n",
    "                                            'vacina_dt_aplic':'vacina_dt_aplic_d1',\n",
    "                                            'vacina_desc_dose':'vacina_desc_dose_d1',\n",
    "                                            'vacina_nome':'vacina_nome_d1'})                               \n"
   ]
  },
  {
   "cell_type": "code",
   "execution_count": 33,
   "metadata": {},
   "outputs": [
    {
     "data": {
      "text/plain": [
       "1ª Dose    4432440\n",
       "Name: vacina_desc_dose_d1, dtype: int64"
      ]
     },
     "execution_count": 33,
     "metadata": {},
     "output_type": "execute_result"
    }
   ],
   "source": [
    "df_regvac_D1['vacina_desc_dose_d1'].value_counts()"
   ]
  },
  {
   "cell_type": "code",
   "execution_count": 34,
   "metadata": {},
   "outputs": [
    {
     "name": "stdout",
     "output_type": "stream",
     "text": [
      "<class 'pandas.core.frame.DataFrame'>\n",
      "Int64Index: 4432440 entries, 6274449 to 4453538\n",
      "Data columns (total 12 columns):\n",
      " #   Column               Dtype         \n",
      "---  ------               -----         \n",
      " 0   paciente_id          object        \n",
      " 1   paciente_idade       float64       \n",
      " 2   paciente_dt_nasc     datetime64[ns]\n",
      " 3   paciente_sexo        object        \n",
      " 4   paciente_raca        object        \n",
      " 5   paciente_cod_municp  object        \n",
      " 6   paciente_nm_municp   object        \n",
      " 7   paciente_categoria   object        \n",
      " 8   vacina_nm_municp_d1  object        \n",
      " 9   vacina_dt_aplic_d1   datetime64[ns]\n",
      " 10  vacina_desc_dose_d1  object        \n",
      " 11  vacina_nome_d1       object        \n",
      "dtypes: datetime64[ns](2), float64(1), object(9)\n",
      "memory usage: 439.6+ MB\n"
     ]
    }
   ],
   "source": [
    "df_regvac_D1.info()"
   ]
  },
  {
   "cell_type": "code",
   "execution_count": null,
   "metadata": {},
   "outputs": [],
   "source": []
  },
  {
   "cell_type": "markdown",
   "metadata": {},
   "source": [
    "### 3.2.10.2 DataFrame 2ª dose"
   ]
  },
  {
   "cell_type": "code",
   "execution_count": 35,
   "metadata": {},
   "outputs": [],
   "source": [
    "# Criando DataFrames para receber informações da 2ª dose, dose Janssen e adicionais\n",
    "df_regvac_D2 = df_regvac2.query('vacina_desc_dose == \"2ª Dose\" ')\n",
    "df_regvac_D2d = df_regvac2.query('vacina_desc_dose == \"Dose\" ')                                 \n",
    "df_regvac_D2ad = df_regvac2.query('vacina_desc_dose == \"Dose Adicional\" ')                                 \n",
    "df_regvac_D21d = df_regvac2.query('vacina_desc_dose == \"1ª Dose Revacinação\" ')"
   ]
  },
  {
   "cell_type": "code",
   "execution_count": 36,
   "metadata": {},
   "outputs": [],
   "source": [
    "# Concatenando as bases com as informações da 2ª dose, dose Janssen e adicionais\n",
    "df_regvac_D2 = pd.concat([df_regvac_D2,df_regvac_D2d,df_regvac_D2ad,df_regvac_D21d],ignore_index=True)"
   ]
  },
  {
   "cell_type": "code",
   "execution_count": 37,
   "metadata": {},
   "outputs": [
    {
     "data": {
      "text/plain": [
       "2ª Dose                3539385\n",
       "Dose                    110987\n",
       "Dose Adicional           39619\n",
       "1ª Dose Revacinação          2\n",
       "Name: vacina_desc_dose, dtype: int64"
      ]
     },
     "execution_count": 37,
     "metadata": {},
     "output_type": "execute_result"
    }
   ],
   "source": [
    "df_regvac_D2.vacina_desc_dose.value_counts()"
   ]
  },
  {
   "cell_type": "code",
   "execution_count": 38,
   "metadata": {},
   "outputs": [
    {
     "data": {
      "text/plain": [
       "3689993"
      ]
     },
     "execution_count": 38,
     "metadata": {},
     "output_type": "execute_result"
    }
   ],
   "source": [
    "df_regvac_D2.vacina_desc_dose.value_counts().sum()"
   ]
  },
  {
   "cell_type": "code",
   "execution_count": 39,
   "metadata": {},
   "outputs": [],
   "source": [
    "# Definindo como 2ª dose o tributo vacina_desc_dose do dataset\n",
    "df_regvac_D2['vacina_desc_dose'] = df_regvac_D2['vacina_desc_dose'].replace(['Dose','Dose Adicional','1ª Dose Revacinação'],\n",
    "                                                                            '2ª Dose')"
   ]
  },
  {
   "cell_type": "code",
   "execution_count": 40,
   "metadata": {},
   "outputs": [],
   "source": [
    "# Renomeando as colunas para simplificar\n",
    "df_regvac_D2 = df_regvac_D2.rename(columns={'vacina_nm_municp':'vacina_nm_municp_d2',\n",
    "                                            'vacina_dt_aplic':'vacina_dt_aplic_d2',\n",
    "                                            'vacina_desc_dose':'vacina_desc_dose_d2',\n",
    "                                            'vacina_nome':'vacina_nome_d2'})                               \n"
   ]
  },
  {
   "cell_type": "code",
   "execution_count": 41,
   "metadata": {},
   "outputs": [
    {
     "data": {
      "text/plain": [
       "array(['2ª Dose'], dtype=object)"
      ]
     },
     "execution_count": 41,
     "metadata": {},
     "output_type": "execute_result"
    }
   ],
   "source": [
    "df_regvac_D2['vacina_desc_dose_d2'].unique()"
   ]
  },
  {
   "cell_type": "code",
   "execution_count": 42,
   "metadata": {},
   "outputs": [
    {
     "data": {
      "text/plain": [
       "2ª Dose    3689993\n",
       "Name: vacina_desc_dose_d2, dtype: int64"
      ]
     },
     "execution_count": 42,
     "metadata": {},
     "output_type": "execute_result"
    }
   ],
   "source": [
    "df_regvac_D2['vacina_desc_dose_d2'].value_counts()"
   ]
  },
  {
   "cell_type": "code",
   "execution_count": 43,
   "metadata": {},
   "outputs": [
    {
     "name": "stdout",
     "output_type": "stream",
     "text": [
      "<class 'pandas.core.frame.DataFrame'>\n",
      "RangeIndex: 3689993 entries, 0 to 3689992\n",
      "Data columns (total 12 columns):\n",
      " #   Column               Dtype         \n",
      "---  ------               -----         \n",
      " 0   paciente_id          object        \n",
      " 1   paciente_idade       float64       \n",
      " 2   paciente_dt_nasc     datetime64[ns]\n",
      " 3   paciente_sexo        object        \n",
      " 4   paciente_raca        object        \n",
      " 5   paciente_cod_municp  object        \n",
      " 6   paciente_nm_municp   object        \n",
      " 7   paciente_categoria   object        \n",
      " 8   vacina_nm_municp_d2  object        \n",
      " 9   vacina_dt_aplic_d2   datetime64[ns]\n",
      " 10  vacina_desc_dose_d2  object        \n",
      " 11  vacina_nome_d2       object        \n",
      "dtypes: datetime64[ns](2), float64(1), object(9)\n",
      "memory usage: 337.8+ MB\n"
     ]
    }
   ],
   "source": [
    "df_regvac_D2.info()"
   ]
  },
  {
   "cell_type": "code",
   "execution_count": null,
   "metadata": {},
   "outputs": [],
   "source": []
  },
  {
   "cell_type": "markdown",
   "metadata": {},
   "source": [
    "### 3.2.10.3 DataFrame dose reforço"
   ]
  },
  {
   "cell_type": "code",
   "execution_count": 44,
   "metadata": {},
   "outputs": [],
   "source": [
    "# Criando Dataframes para receber informações da dose de reforço\n",
    "df_regvac_Dr = df_regvac2.query('vacina_desc_dose == \"Reforço\" ')"
   ]
  },
  {
   "cell_type": "code",
   "execution_count": 45,
   "metadata": {},
   "outputs": [],
   "source": [
    "# Renomeando as colunas para simplificar\n",
    "df_regvac_Dr = df_regvac_Dr.rename(columns={'vacina_nm_municp':'vacina_nm_municp_dr',\n",
    "                                            'vacina_dt_aplic':'vacina_dt_aplic_dr',\n",
    "                                            'vacina_desc_dose':'vacina_desc_dose_dr',\n",
    "                                            'vacina_nome':'vacina_nome_dr'})               "
   ]
  },
  {
   "cell_type": "code",
   "execution_count": 46,
   "metadata": {},
   "outputs": [
    {
     "data": {
      "text/plain": [
       "Reforço    524045\n",
       "Name: vacina_desc_dose_dr, dtype: int64"
      ]
     },
     "execution_count": 46,
     "metadata": {},
     "output_type": "execute_result"
    }
   ],
   "source": [
    "df_regvac_Dr['vacina_desc_dose_dr'].value_counts()"
   ]
  },
  {
   "cell_type": "code",
   "execution_count": 47,
   "metadata": {},
   "outputs": [
    {
     "name": "stdout",
     "output_type": "stream",
     "text": [
      "<class 'pandas.core.frame.DataFrame'>\n",
      "Int64Index: 524045 entries, 7134543 to 2290631\n",
      "Data columns (total 12 columns):\n",
      " #   Column               Non-Null Count   Dtype         \n",
      "---  ------               --------------   -----         \n",
      " 0   paciente_id          524045 non-null  object        \n",
      " 1   paciente_idade       524045 non-null  float64       \n",
      " 2   paciente_dt_nasc     524045 non-null  datetime64[ns]\n",
      " 3   paciente_sexo        524045 non-null  object        \n",
      " 4   paciente_raca        524045 non-null  object        \n",
      " 5   paciente_cod_municp  524045 non-null  object        \n",
      " 6   paciente_nm_municp   524045 non-null  object        \n",
      " 7   paciente_categoria   524008 non-null  object        \n",
      " 8   vacina_nm_municp_dr  524045 non-null  object        \n",
      " 9   vacina_dt_aplic_dr   524045 non-null  datetime64[ns]\n",
      " 10  vacina_desc_dose_dr  524045 non-null  object        \n",
      " 11  vacina_nome_dr       524045 non-null  object        \n",
      "dtypes: datetime64[ns](2), float64(1), object(9)\n",
      "memory usage: 52.0+ MB\n"
     ]
    }
   ],
   "source": [
    "df_regvac_Dr.info()"
   ]
  },
  {
   "cell_type": "code",
   "execution_count": 48,
   "metadata": {},
   "outputs": [
    {
     "data": {
      "text/plain": [
       "paciente_id             0\n",
       "paciente_idade          0\n",
       "paciente_dt_nasc        0\n",
       "paciente_sexo           0\n",
       "paciente_raca           0\n",
       "paciente_cod_municp     0\n",
       "paciente_nm_municp      0\n",
       "paciente_categoria     37\n",
       "vacina_nm_municp_dr     0\n",
       "vacina_dt_aplic_dr      0\n",
       "vacina_desc_dose_dr     0\n",
       "vacina_nome_dr          0\n",
       "dtype: int64"
      ]
     },
     "execution_count": 48,
     "metadata": {},
     "output_type": "execute_result"
    }
   ],
   "source": [
    "df_regvac_Dr.isnull().sum()"
   ]
  },
  {
   "cell_type": "code",
   "execution_count": null,
   "metadata": {},
   "outputs": [],
   "source": []
  },
  {
   "cell_type": "code",
   "execution_count": null,
   "metadata": {},
   "outputs": [],
   "source": []
  },
  {
   "cell_type": "markdown",
   "metadata": {},
   "source": [
    "## 3.2.11 Remontando o dataset dos registros de vacinação "
   ]
  },
  {
   "cell_type": "code",
   "execution_count": 49,
   "metadata": {},
   "outputs": [],
   "source": [
    "# Juntando os DataFrames da 1ª dose e 2ª dose\n",
    "df_regvac3 = df_regvac_D1.merge(df_regvac_D2, on='paciente_id', how='outer')"
   ]
  },
  {
   "cell_type": "markdown",
   "metadata": {},
   "source": [
    "Optou-se pelo full outer join para agrupar todos registros"
   ]
  },
  {
   "cell_type": "code",
   "execution_count": 50,
   "metadata": {},
   "outputs": [
    {
     "name": "stdout",
     "output_type": "stream",
     "text": [
      "<class 'pandas.core.frame.DataFrame'>\n",
      "Int64Index: 4681309 entries, 0 to 4681308\n",
      "Data columns (total 23 columns):\n",
      " #   Column                 Dtype         \n",
      "---  ------                 -----         \n",
      " 0   paciente_id            object        \n",
      " 1   paciente_idade_x       float64       \n",
      " 2   paciente_dt_nasc_x     datetime64[ns]\n",
      " 3   paciente_sexo_x        object        \n",
      " 4   paciente_raca_x        object        \n",
      " 5   paciente_cod_municp_x  object        \n",
      " 6   paciente_nm_municp_x   object        \n",
      " 7   paciente_categoria_x   object        \n",
      " 8   vacina_nm_municp_d1    object        \n",
      " 9   vacina_dt_aplic_d1     datetime64[ns]\n",
      " 10  vacina_desc_dose_d1    object        \n",
      " 11  vacina_nome_d1         object        \n",
      " 12  paciente_idade_y       float64       \n",
      " 13  paciente_dt_nasc_y     datetime64[ns]\n",
      " 14  paciente_sexo_y        object        \n",
      " 15  paciente_raca_y        object        \n",
      " 16  paciente_cod_municp_y  object        \n",
      " 17  paciente_nm_municp_y   object        \n",
      " 18  paciente_categoria_y   object        \n",
      " 19  vacina_nm_municp_d2    object        \n",
      " 20  vacina_dt_aplic_d2     datetime64[ns]\n",
      " 21  vacina_desc_dose_d2    object        \n",
      " 22  vacina_nome_d2         object        \n",
      "dtypes: datetime64[ns](4), float64(2), object(17)\n",
      "memory usage: 857.2+ MB\n"
     ]
    }
   ],
   "source": [
    "df_regvac3.info()"
   ]
  },
  {
   "cell_type": "code",
   "execution_count": 51,
   "metadata": {},
   "outputs": [],
   "source": [
    "# Criando variáveis para a cobertura vacinal\n",
    "totd1 = df_regvac3.vacina_nm_municp_d1.value_counts()\n",
    "totd2 = df_regvac3.vacina_nm_municp_d2.value_counts()\n",
    "total = totd1 + totd2 - totd2"
   ]
  },
  {
   "cell_type": "code",
   "execution_count": 52,
   "metadata": {},
   "outputs": [
    {
     "data": {
      "text/plain": [
       "1ª Dose    4484090\n",
       "Name: vacina_desc_dose_d1, dtype: int64"
      ]
     },
     "execution_count": 52,
     "metadata": {},
     "output_type": "execute_result"
    }
   ],
   "source": [
    "df_regvac3.vacina_desc_dose_d1.value_counts()"
   ]
  },
  {
   "cell_type": "code",
   "execution_count": 53,
   "metadata": {},
   "outputs": [
    {
     "data": {
      "text/plain": [
       "2ª Dose    3707417\n",
       "Name: vacina_desc_dose_d2, dtype: int64"
      ]
     },
     "execution_count": 53,
     "metadata": {},
     "output_type": "execute_result"
    }
   ],
   "source": [
    "df_regvac3.vacina_desc_dose_d2.value_counts()"
   ]
  },
  {
   "cell_type": "code",
   "execution_count": 54,
   "metadata": {},
   "outputs": [
    {
     "data": {
      "text/plain": [
       "973892"
      ]
     },
     "execution_count": 54,
     "metadata": {},
     "output_type": "execute_result"
    }
   ],
   "source": [
    "df_regvac3.vacina_desc_dose_d2.isnull().sum()"
   ]
  },
  {
   "cell_type": "markdown",
   "metadata": {},
   "source": [
    "##### 973.892 pacientes receberam a 1ª dose mas não retornaram para receber a 2ª dose."
   ]
  },
  {
   "cell_type": "code",
   "execution_count": 55,
   "metadata": {},
   "outputs": [],
   "source": [
    "df_regvac3 = df_regvac3.query('vacina_desc_dose_d2 != \"2ª Dose\" ')"
   ]
  },
  {
   "cell_type": "code",
   "execution_count": 56,
   "metadata": {},
   "outputs": [
    {
     "data": {
      "text/html": [
       "<div>\n",
       "<style scoped>\n",
       "    .dataframe tbody tr th:only-of-type {\n",
       "        vertical-align: middle;\n",
       "    }\n",
       "\n",
       "    .dataframe tbody tr th {\n",
       "        vertical-align: top;\n",
       "    }\n",
       "\n",
       "    .dataframe thead th {\n",
       "        text-align: right;\n",
       "    }\n",
       "</style>\n",
       "<table border=\"1\" class=\"dataframe\">\n",
       "  <thead>\n",
       "    <tr style=\"text-align: right;\">\n",
       "      <th></th>\n",
       "      <th>paciente_id</th>\n",
       "      <th>vacina_desc_dose_d1</th>\n",
       "      <th>vacina_desc_dose_d2</th>\n",
       "    </tr>\n",
       "  </thead>\n",
       "  <tbody>\n",
       "    <tr>\n",
       "      <th>2</th>\n",
       "      <td>00000c08e215dfabf66a513ada8cce634347971b469333...</td>\n",
       "      <td>1ª Dose</td>\n",
       "      <td>NaN</td>\n",
       "    </tr>\n",
       "    <tr>\n",
       "      <th>5</th>\n",
       "      <td>000012af7d1821b858c18ea6fa5979452a03a075f2b1de...</td>\n",
       "      <td>1ª Dose</td>\n",
       "      <td>NaN</td>\n",
       "    </tr>\n",
       "    <tr>\n",
       "      <th>20</th>\n",
       "      <td>000056c394336799c421d63bec4b68fcbc430cd1f28e60...</td>\n",
       "      <td>1ª Dose</td>\n",
       "      <td>NaN</td>\n",
       "    </tr>\n",
       "    <tr>\n",
       "      <th>21</th>\n",
       "      <td>0000572bf104caf9bf034d66d41d71166c53028d8a134b...</td>\n",
       "      <td>1ª Dose</td>\n",
       "      <td>NaN</td>\n",
       "    </tr>\n",
       "    <tr>\n",
       "      <th>24</th>\n",
       "      <td>00006066823922011f7321afe64af68df26345fc16c37a...</td>\n",
       "      <td>1ª Dose</td>\n",
       "      <td>NaN</td>\n",
       "    </tr>\n",
       "    <tr>\n",
       "      <th>25</th>\n",
       "      <td>000066893a0ec7cf8adbccff86b02148fc7673544e1636...</td>\n",
       "      <td>1ª Dose</td>\n",
       "      <td>NaN</td>\n",
       "    </tr>\n",
       "    <tr>\n",
       "      <th>28</th>\n",
       "      <td>000070d671037aa94bd574e5d2fa84fee90bc052dc10b8...</td>\n",
       "      <td>1ª Dose</td>\n",
       "      <td>NaN</td>\n",
       "    </tr>\n",
       "    <tr>\n",
       "      <th>31</th>\n",
       "      <td>000079a8371afb83a0e07210754da7fc03a9d92f5f2e22...</td>\n",
       "      <td>1ª Dose</td>\n",
       "      <td>NaN</td>\n",
       "    </tr>\n",
       "    <tr>\n",
       "      <th>33</th>\n",
       "      <td>000085618a8e185cafc576fb84cf909399ae6d5e8b320e...</td>\n",
       "      <td>1ª Dose</td>\n",
       "      <td>NaN</td>\n",
       "    </tr>\n",
       "    <tr>\n",
       "      <th>39</th>\n",
       "      <td>00009496d93279fdaecc1cf2bd392e1860988058f677f8...</td>\n",
       "      <td>1ª Dose</td>\n",
       "      <td>NaN</td>\n",
       "    </tr>\n",
       "    <tr>\n",
       "      <th>43</th>\n",
       "      <td>0000a74da533edf5ee8dcfd221a00a2493aa5260884054...</td>\n",
       "      <td>1ª Dose</td>\n",
       "      <td>NaN</td>\n",
       "    </tr>\n",
       "    <tr>\n",
       "      <th>47</th>\n",
       "      <td>0000b9159533d579bb7417109cad8ca0b25da40f3fa27b...</td>\n",
       "      <td>1ª Dose</td>\n",
       "      <td>NaN</td>\n",
       "    </tr>\n",
       "    <tr>\n",
       "      <th>51</th>\n",
       "      <td>0000c1688b1ee5f22c121806c0f000034a9f8b86dafd16...</td>\n",
       "      <td>1ª Dose</td>\n",
       "      <td>NaN</td>\n",
       "    </tr>\n",
       "    <tr>\n",
       "      <th>52</th>\n",
       "      <td>0000c298737c4d70ce2a31d44f5870dc7aea397aaa7088...</td>\n",
       "      <td>1ª Dose</td>\n",
       "      <td>NaN</td>\n",
       "    </tr>\n",
       "    <tr>\n",
       "      <th>54</th>\n",
       "      <td>0000c4bb812eeb70ae2db875a5c255df71f17185660bfc...</td>\n",
       "      <td>1ª Dose</td>\n",
       "      <td>NaN</td>\n",
       "    </tr>\n",
       "  </tbody>\n",
       "</table>\n",
       "</div>"
      ],
      "text/plain": [
       "                                          paciente_id vacina_desc_dose_d1  \\\n",
       "2   00000c08e215dfabf66a513ada8cce634347971b469333...             1ª Dose   \n",
       "5   000012af7d1821b858c18ea6fa5979452a03a075f2b1de...             1ª Dose   \n",
       "20  000056c394336799c421d63bec4b68fcbc430cd1f28e60...             1ª Dose   \n",
       "21  0000572bf104caf9bf034d66d41d71166c53028d8a134b...             1ª Dose   \n",
       "24  00006066823922011f7321afe64af68df26345fc16c37a...             1ª Dose   \n",
       "25  000066893a0ec7cf8adbccff86b02148fc7673544e1636...             1ª Dose   \n",
       "28  000070d671037aa94bd574e5d2fa84fee90bc052dc10b8...             1ª Dose   \n",
       "31  000079a8371afb83a0e07210754da7fc03a9d92f5f2e22...             1ª Dose   \n",
       "33  000085618a8e185cafc576fb84cf909399ae6d5e8b320e...             1ª Dose   \n",
       "39  00009496d93279fdaecc1cf2bd392e1860988058f677f8...             1ª Dose   \n",
       "43  0000a74da533edf5ee8dcfd221a00a2493aa5260884054...             1ª Dose   \n",
       "47  0000b9159533d579bb7417109cad8ca0b25da40f3fa27b...             1ª Dose   \n",
       "51  0000c1688b1ee5f22c121806c0f000034a9f8b86dafd16...             1ª Dose   \n",
       "52  0000c298737c4d70ce2a31d44f5870dc7aea397aaa7088...             1ª Dose   \n",
       "54  0000c4bb812eeb70ae2db875a5c255df71f17185660bfc...             1ª Dose   \n",
       "\n",
       "   vacina_desc_dose_d2  \n",
       "2                  NaN  \n",
       "5                  NaN  \n",
       "20                 NaN  \n",
       "21                 NaN  \n",
       "24                 NaN  \n",
       "25                 NaN  \n",
       "28                 NaN  \n",
       "31                 NaN  \n",
       "33                 NaN  \n",
       "39                 NaN  \n",
       "43                 NaN  \n",
       "47                 NaN  \n",
       "51                 NaN  \n",
       "52                 NaN  \n",
       "54                 NaN  "
      ]
     },
     "execution_count": 56,
     "metadata": {},
     "output_type": "execute_result"
    }
   ],
   "source": [
    "df_regvac3.loc[:,['paciente_id','vacina_desc_dose_d1','vacina_desc_dose_d2']].head(15)"
   ]
  },
  {
   "cell_type": "code",
   "execution_count": 57,
   "metadata": {},
   "outputs": [],
   "source": [
    "# Eliminando as colunas duplicadas\n",
    "col_drop = ['paciente_idade_y','paciente_dt_nasc_y','paciente_sexo_y','paciente_raca_y','paciente_cod_municp_y',\n",
    "            'paciente_nm_municp_y','paciente_categoria_y','vacina_nm_municp_d2','vacina_dt_aplic_d2','vacina_desc_dose_d2',\n",
    "            'vacina_nome_d2']\n",
    "df_regvac3 = df_regvac3.drop(col_drop, axis=1)"
   ]
  },
  {
   "cell_type": "code",
   "execution_count": 58,
   "metadata": {},
   "outputs": [],
   "source": [
    "# Renomeando para o original\n",
    "df_regvac3 = df_regvac3.rename(columns={'paciente_idade_x':'paciente_idade',\n",
    "                                        'paciente_dt_nasc_x':'paciente_dt_nasc',\n",
    "                                        'paciente_sexo_x':'paciente_sexo',\n",
    "                                        'paciente_raca_x':'paciente_raca',\n",
    "                                        'paciente_cod_municp_x':'paciente_cod_municp',\n",
    "                                        'paciente_nm_municp_x':'paciente_nm_municp',\n",
    "                                        'paciente_categoria_x':'paciente_categoria',\n",
    "                                        'vacina_nm_municp_d1':'vacina_nm_municp',\n",
    "                                        'vacina_dt_aplic_d1':'vacina_dt_aplic',\n",
    "                                        'vacina_desc_dose_d1':'vacina_desc_dose',\n",
    "                                        'vacina_nome_d1':'vacina_nome'})               "
   ]
  },
  {
   "cell_type": "code",
   "execution_count": 59,
   "metadata": {},
   "outputs": [
    {
     "data": {
      "text/html": [
       "<div>\n",
       "<style scoped>\n",
       "    .dataframe tbody tr th:only-of-type {\n",
       "        vertical-align: middle;\n",
       "    }\n",
       "\n",
       "    .dataframe tbody tr th {\n",
       "        vertical-align: top;\n",
       "    }\n",
       "\n",
       "    .dataframe thead th {\n",
       "        text-align: right;\n",
       "    }\n",
       "</style>\n",
       "<table border=\"1\" class=\"dataframe\">\n",
       "  <thead>\n",
       "    <tr style=\"text-align: right;\">\n",
       "      <th></th>\n",
       "      <th>paciente_id</th>\n",
       "      <th>paciente_idade</th>\n",
       "      <th>paciente_dt_nasc</th>\n",
       "      <th>paciente_sexo</th>\n",
       "      <th>paciente_raca</th>\n",
       "      <th>paciente_cod_municp</th>\n",
       "      <th>paciente_nm_municp</th>\n",
       "      <th>paciente_categoria</th>\n",
       "      <th>vacina_nm_municp</th>\n",
       "      <th>vacina_dt_aplic</th>\n",
       "      <th>vacina_desc_dose</th>\n",
       "      <th>vacina_nome</th>\n",
       "    </tr>\n",
       "  </thead>\n",
       "  <tbody>\n",
       "    <tr>\n",
       "      <th>3194</th>\n",
       "      <td>002f909b57c9f25259778e696644557d80b141212832ed...</td>\n",
       "      <td>57.0</td>\n",
       "      <td>1964-03-16</td>\n",
       "      <td>M</td>\n",
       "      <td>SEM INFORMACAO</td>\n",
       "      <td>210820</td>\n",
       "      <td>PEDREIRAS</td>\n",
       "      <td>Comorbidades</td>\n",
       "      <td>PEDREIRAS</td>\n",
       "      <td>2021-06-24</td>\n",
       "      <td>1ª Dose</td>\n",
       "      <td>Pfizer</td>\n",
       "    </tr>\n",
       "    <tr>\n",
       "      <th>3232</th>\n",
       "      <td>0030455897960f0a1a844d0b2c5237ad1a6987e6902a93...</td>\n",
       "      <td>40.0</td>\n",
       "      <td>1980-11-08</td>\n",
       "      <td>M</td>\n",
       "      <td>AMARELA</td>\n",
       "      <td>211170</td>\n",
       "      <td>SAO VICENTE FERRER</td>\n",
       "      <td>Povos e Comunidades Tradicionais</td>\n",
       "      <td>SAO VICENTE FERRER</td>\n",
       "      <td>2021-04-15</td>\n",
       "      <td>1ª Dose</td>\n",
       "      <td>AstraZeneca</td>\n",
       "    </tr>\n",
       "    <tr>\n",
       "      <th>4012</th>\n",
       "      <td>003b5fe2e9f980dd52c447aaaba7fe31f13354d5fc8c85...</td>\n",
       "      <td>77.0</td>\n",
       "      <td>1943-06-11</td>\n",
       "      <td>F</td>\n",
       "      <td>AMARELA</td>\n",
       "      <td>210300</td>\n",
       "      <td>CAXIAS</td>\n",
       "      <td>Faixa Etária</td>\n",
       "      <td>CAXIAS</td>\n",
       "      <td>2021-03-11</td>\n",
       "      <td>1ª Dose</td>\n",
       "      <td>AstraZeneca</td>\n",
       "    </tr>\n",
       "    <tr>\n",
       "      <th>4275</th>\n",
       "      <td>003f459622e160cc57cd717cb54b3381ff0448141c6200...</td>\n",
       "      <td>39.0</td>\n",
       "      <td>1981-10-26</td>\n",
       "      <td>F</td>\n",
       "      <td>PRETA</td>\n",
       "      <td>210177</td>\n",
       "      <td>BELA VISTA DO MARANHAO</td>\n",
       "      <td>Faixa Etária</td>\n",
       "      <td>BELA VISTA DO MARANHAO</td>\n",
       "      <td>2021-07-27</td>\n",
       "      <td>1ª Dose</td>\n",
       "      <td>AstraZeneca</td>\n",
       "    </tr>\n",
       "    <tr>\n",
       "      <th>5374</th>\n",
       "      <td>004f10b23f2a38172fbbb2fa1ff638d0e0cfc91bf24e2f...</td>\n",
       "      <td>43.0</td>\n",
       "      <td>1978-05-16</td>\n",
       "      <td>F</td>\n",
       "      <td>SEM INFORMACAO</td>\n",
       "      <td>210080</td>\n",
       "      <td>ANAPURUS</td>\n",
       "      <td>Faixa Etária</td>\n",
       "      <td>ANAPURUS</td>\n",
       "      <td>2021-07-28</td>\n",
       "      <td>1ª Dose</td>\n",
       "      <td>AstraZeneca</td>\n",
       "    </tr>\n",
       "    <tr>\n",
       "      <th>...</th>\n",
       "      <td>...</td>\n",
       "      <td>...</td>\n",
       "      <td>...</td>\n",
       "      <td>...</td>\n",
       "      <td>...</td>\n",
       "      <td>...</td>\n",
       "      <td>...</td>\n",
       "      <td>...</td>\n",
       "      <td>...</td>\n",
       "      <td>...</td>\n",
       "      <td>...</td>\n",
       "      <td>...</td>\n",
       "    </tr>\n",
       "    <tr>\n",
       "      <th>4480958</th>\n",
       "      <td>ffd391ab633c80ae6761adb34537bd641d655d4702d4ee...</td>\n",
       "      <td>73.0</td>\n",
       "      <td>1948-02-04</td>\n",
       "      <td>M</td>\n",
       "      <td>AMARELA</td>\n",
       "      <td>210405</td>\n",
       "      <td>ESTREITO</td>\n",
       "      <td>Faixa Etária</td>\n",
       "      <td>ESTREITO</td>\n",
       "      <td>2021-10-06</td>\n",
       "      <td>1ª Dose</td>\n",
       "      <td>Coronavac</td>\n",
       "    </tr>\n",
       "    <tr>\n",
       "      <th>4482727</th>\n",
       "      <td>ffec48763655ae52fbf7f4f8f9796acacd19a7bbcf72c1...</td>\n",
       "      <td>23.0</td>\n",
       "      <td>1998-05-04</td>\n",
       "      <td>M</td>\n",
       "      <td>AMARELA</td>\n",
       "      <td>211130</td>\n",
       "      <td>SAO LUIS</td>\n",
       "      <td>Faixa Etária</td>\n",
       "      <td>SAO LUIS</td>\n",
       "      <td>2021-08-18</td>\n",
       "      <td>1ª Dose</td>\n",
       "      <td>Coronavac</td>\n",
       "    </tr>\n",
       "    <tr>\n",
       "      <th>4482728</th>\n",
       "      <td>ffec48763655ae52fbf7f4f8f9796acacd19a7bbcf72c1...</td>\n",
       "      <td>23.0</td>\n",
       "      <td>1998-05-04</td>\n",
       "      <td>M</td>\n",
       "      <td>AMARELA</td>\n",
       "      <td>211130</td>\n",
       "      <td>SAO LUIS</td>\n",
       "      <td>Faixa Etária</td>\n",
       "      <td>SAO LUIS</td>\n",
       "      <td>2021-08-18</td>\n",
       "      <td>1ª Dose</td>\n",
       "      <td>Coronavac</td>\n",
       "    </tr>\n",
       "    <tr>\n",
       "      <th>4483578</th>\n",
       "      <td>fff8d35ce3bf049e7c74302fa8e65ae88e8718463b9be1...</td>\n",
       "      <td>49.0</td>\n",
       "      <td>1972-06-03</td>\n",
       "      <td>M</td>\n",
       "      <td>AMARELA</td>\n",
       "      <td>210310</td>\n",
       "      <td>CEDRAL</td>\n",
       "      <td>Faixa Etária</td>\n",
       "      <td>CEDRAL</td>\n",
       "      <td>2021-08-20</td>\n",
       "      <td>1ª Dose</td>\n",
       "      <td>AstraZeneca</td>\n",
       "    </tr>\n",
       "    <tr>\n",
       "      <th>4483579</th>\n",
       "      <td>fff8d35ce3bf049e7c74302fa8e65ae88e8718463b9be1...</td>\n",
       "      <td>49.0</td>\n",
       "      <td>1972-06-03</td>\n",
       "      <td>M</td>\n",
       "      <td>AMARELA</td>\n",
       "      <td>210310</td>\n",
       "      <td>CEDRAL</td>\n",
       "      <td>Faixa Etária</td>\n",
       "      <td>CEDRAL</td>\n",
       "      <td>2021-08-20</td>\n",
       "      <td>1ª Dose</td>\n",
       "      <td>AstraZeneca</td>\n",
       "    </tr>\n",
       "  </tbody>\n",
       "</table>\n",
       "<p>4520 rows × 12 columns</p>\n",
       "</div>"
      ],
      "text/plain": [
       "                                               paciente_id  paciente_idade  \\\n",
       "3194     002f909b57c9f25259778e696644557d80b141212832ed...            57.0   \n",
       "3232     0030455897960f0a1a844d0b2c5237ad1a6987e6902a93...            40.0   \n",
       "4012     003b5fe2e9f980dd52c447aaaba7fe31f13354d5fc8c85...            77.0   \n",
       "4275     003f459622e160cc57cd717cb54b3381ff0448141c6200...            39.0   \n",
       "5374     004f10b23f2a38172fbbb2fa1ff638d0e0cfc91bf24e2f...            43.0   \n",
       "...                                                    ...             ...   \n",
       "4480958  ffd391ab633c80ae6761adb34537bd641d655d4702d4ee...            73.0   \n",
       "4482727  ffec48763655ae52fbf7f4f8f9796acacd19a7bbcf72c1...            23.0   \n",
       "4482728  ffec48763655ae52fbf7f4f8f9796acacd19a7bbcf72c1...            23.0   \n",
       "4483578  fff8d35ce3bf049e7c74302fa8e65ae88e8718463b9be1...            49.0   \n",
       "4483579  fff8d35ce3bf049e7c74302fa8e65ae88e8718463b9be1...            49.0   \n",
       "\n",
       "        paciente_dt_nasc paciente_sexo   paciente_raca paciente_cod_municp  \\\n",
       "3194          1964-03-16             M  SEM INFORMACAO              210820   \n",
       "3232          1980-11-08             M         AMARELA              211170   \n",
       "4012          1943-06-11             F         AMARELA              210300   \n",
       "4275          1981-10-26             F           PRETA              210177   \n",
       "5374          1978-05-16             F  SEM INFORMACAO              210080   \n",
       "...                  ...           ...             ...                 ...   \n",
       "4480958       1948-02-04             M         AMARELA              210405   \n",
       "4482727       1998-05-04             M         AMARELA              211130   \n",
       "4482728       1998-05-04             M         AMARELA              211130   \n",
       "4483578       1972-06-03             M         AMARELA              210310   \n",
       "4483579       1972-06-03             M         AMARELA              210310   \n",
       "\n",
       "             paciente_nm_municp                paciente_categoria  \\\n",
       "3194                  PEDREIRAS                      Comorbidades   \n",
       "3232         SAO VICENTE FERRER  Povos e Comunidades Tradicionais   \n",
       "4012                     CAXIAS                      Faixa Etária   \n",
       "4275     BELA VISTA DO MARANHAO                      Faixa Etária   \n",
       "5374                   ANAPURUS                      Faixa Etária   \n",
       "...                         ...                               ...   \n",
       "4480958                ESTREITO                      Faixa Etária   \n",
       "4482727                SAO LUIS                      Faixa Etária   \n",
       "4482728                SAO LUIS                      Faixa Etária   \n",
       "4483578                  CEDRAL                      Faixa Etária   \n",
       "4483579                  CEDRAL                      Faixa Etária   \n",
       "\n",
       "               vacina_nm_municp vacina_dt_aplic vacina_desc_dose  vacina_nome  \n",
       "3194                  PEDREIRAS      2021-06-24          1ª Dose       Pfizer  \n",
       "3232         SAO VICENTE FERRER      2021-04-15          1ª Dose  AstraZeneca  \n",
       "4012                     CAXIAS      2021-03-11          1ª Dose  AstraZeneca  \n",
       "4275     BELA VISTA DO MARANHAO      2021-07-27          1ª Dose  AstraZeneca  \n",
       "5374                   ANAPURUS      2021-07-28          1ª Dose  AstraZeneca  \n",
       "...                         ...             ...              ...          ...  \n",
       "4480958                ESTREITO      2021-10-06          1ª Dose    Coronavac  \n",
       "4482727                SAO LUIS      2021-08-18          1ª Dose    Coronavac  \n",
       "4482728                SAO LUIS      2021-08-18          1ª Dose    Coronavac  \n",
       "4483578                  CEDRAL      2021-08-20          1ª Dose  AstraZeneca  \n",
       "4483579                  CEDRAL      2021-08-20          1ª Dose  AstraZeneca  \n",
       "\n",
       "[4520 rows x 12 columns]"
      ]
     },
     "execution_count": 59,
     "metadata": {},
     "output_type": "execute_result"
    }
   ],
   "source": [
    "# Verificando registros repetidos\n",
    "ck_duplic = ['paciente_id','paciente_idade','paciente_dt_nasc','paciente_sexo','paciente_raca','paciente_cod_municp',\n",
    "             'paciente_nm_municp','paciente_categoria']\n",
    "df_regvac3[df_regvac3.duplicated(subset=ck_duplic)]"
   ]
  },
  {
   "cell_type": "markdown",
   "metadata": {},
   "source": [
    "Após a reconstrução do Dataset verificamos a existência de registros duplicados novamente. \\\n",
    "Encontrados 4.520 registros duplicados. \\\n",
    "Optou-se pela exclusão dos registros."
   ]
  },
  {
   "cell_type": "code",
   "execution_count": 60,
   "metadata": {},
   "outputs": [],
   "source": [
    "# Excluindo registros repetidos\n",
    "df_regvac3 = df_regvac3.drop_duplicates(subset=ck_duplic, keep='first', inplace=False)"
   ]
  },
  {
   "cell_type": "code",
   "execution_count": 61,
   "metadata": {},
   "outputs": [
    {
     "data": {
      "text/html": [
       "<div>\n",
       "<style scoped>\n",
       "    .dataframe tbody tr th:only-of-type {\n",
       "        vertical-align: middle;\n",
       "    }\n",
       "\n",
       "    .dataframe tbody tr th {\n",
       "        vertical-align: top;\n",
       "    }\n",
       "\n",
       "    .dataframe thead th {\n",
       "        text-align: right;\n",
       "    }\n",
       "</style>\n",
       "<table border=\"1\" class=\"dataframe\">\n",
       "  <thead>\n",
       "    <tr style=\"text-align: right;\">\n",
       "      <th></th>\n",
       "      <th>paciente_id</th>\n",
       "      <th>paciente_idade</th>\n",
       "      <th>paciente_dt_nasc</th>\n",
       "      <th>paciente_sexo</th>\n",
       "      <th>paciente_raca</th>\n",
       "      <th>paciente_cod_municp</th>\n",
       "      <th>paciente_nm_municp</th>\n",
       "      <th>paciente_categoria</th>\n",
       "      <th>vacina_nm_municp</th>\n",
       "      <th>vacina_dt_aplic</th>\n",
       "      <th>vacina_desc_dose</th>\n",
       "      <th>vacina_nome</th>\n",
       "    </tr>\n",
       "  </thead>\n",
       "  <tbody>\n",
       "  </tbody>\n",
       "</table>\n",
       "</div>"
      ],
      "text/plain": [
       "Empty DataFrame\n",
       "Columns: [paciente_id, paciente_idade, paciente_dt_nasc, paciente_sexo, paciente_raca, paciente_cod_municp, paciente_nm_municp, paciente_categoria, vacina_nm_municp, vacina_dt_aplic, vacina_desc_dose, vacina_nome]\n",
       "Index: []"
      ]
     },
     "execution_count": 61,
     "metadata": {},
     "output_type": "execute_result"
    }
   ],
   "source": [
    "# Verificando registros repetidos\n",
    "ck_duplic = ['paciente_id','paciente_idade','paciente_dt_nasc','paciente_sexo','paciente_raca','paciente_cod_municp',\n",
    "             'paciente_nm_municp','paciente_categoria']\n",
    "df_regvac3[df_regvac3.duplicated(subset=ck_duplic)]"
   ]
  },
  {
   "cell_type": "code",
   "execution_count": 62,
   "metadata": {},
   "outputs": [
    {
     "data": {
      "text/plain": [
       "0"
      ]
     },
     "execution_count": 62,
     "metadata": {},
     "output_type": "execute_result"
    }
   ],
   "source": [
    "df_regvac3.duplicated().sum()"
   ]
  },
  {
   "cell_type": "code",
   "execution_count": 63,
   "metadata": {
    "scrolled": true
   },
   "outputs": [
    {
     "data": {
      "text/plain": [
       "paciente_id              0\n",
       "paciente_idade           0\n",
       "paciente_dt_nasc         0\n",
       "paciente_sexo            0\n",
       "paciente_raca            0\n",
       "paciente_cod_municp      0\n",
       "paciente_nm_municp       0\n",
       "paciente_categoria     357\n",
       "vacina_nm_municp         0\n",
       "vacina_dt_aplic          0\n",
       "vacina_desc_dose         0\n",
       "vacina_nome              0\n",
       "dtype: int64"
      ]
     },
     "execution_count": 63,
     "metadata": {},
     "output_type": "execute_result"
    }
   ],
   "source": [
    "df_regvac3.isnull().sum()"
   ]
  },
  {
   "cell_type": "code",
   "execution_count": 64,
   "metadata": {},
   "outputs": [],
   "source": [
    "df_regvac3.reset_index(drop=True, inplace=True)"
   ]
  },
  {
   "cell_type": "code",
   "execution_count": 65,
   "metadata": {},
   "outputs": [],
   "source": [
    "df_regvac3bk = df_regvac3.copy()"
   ]
  },
  {
   "cell_type": "code",
   "execution_count": 66,
   "metadata": {},
   "outputs": [],
   "source": [
    "#df_regvac3 = df_regvac3bk"
   ]
  },
  {
   "cell_type": "markdown",
   "metadata": {},
   "source": [
    "Considerando que nosso escopo de estudo é 2021 e o intervalo recomendado entre as doses, precisamos retirar deste grupo pacientes:\n",
    "- vacinados após 01/11/2021 no caso da Pfizer ou AstraZeneca.\n",
    "- vacinados após 01/12/2021 que tomaram Coronavac"
   ]
  },
  {
   "cell_type": "code",
   "execution_count": 67,
   "metadata": {},
   "outputs": [],
   "source": [
    "df_regvac3a = df_regvac3.query('vacina_dt_aplic < \"2021-12-01\" and vacina_nome == \"Coronavac\" ')\n",
    "df_regvac3b = df_regvac3.query('vacina_dt_aplic < \"2021-11-01\" and (vacina_nome == \"Pfizer\" or vacina_nome == \"AstraZeneca\")')"
   ]
  },
  {
   "cell_type": "code",
   "execution_count": 68,
   "metadata": {},
   "outputs": [],
   "source": [
    "df_regvac3 = pd.concat([df_regvac3a,df_regvac3b],ignore_index=True)"
   ]
  },
  {
   "cell_type": "code",
   "execution_count": null,
   "metadata": {},
   "outputs": [],
   "source": []
  },
  {
   "cell_type": "code",
   "execution_count": 69,
   "metadata": {},
   "outputs": [
    {
     "name": "stdout",
     "output_type": "stream",
     "text": [
      "<class 'pandas.core.frame.DataFrame'>\n",
      "RangeIndex: 822693 entries, 0 to 822692\n",
      "Data columns (total 12 columns):\n",
      " #   Column               Non-Null Count   Dtype         \n",
      "---  ------               --------------   -----         \n",
      " 0   paciente_id          822693 non-null  object        \n",
      " 1   paciente_idade       822693 non-null  float64       \n",
      " 2   paciente_dt_nasc     822693 non-null  datetime64[ns]\n",
      " 3   paciente_sexo        822693 non-null  object        \n",
      " 4   paciente_raca        822693 non-null  object        \n",
      " 5   paciente_cod_municp  822693 non-null  object        \n",
      " 6   paciente_nm_municp   822693 non-null  object        \n",
      " 7   paciente_categoria   822371 non-null  object        \n",
      " 8   vacina_nm_municp     822693 non-null  object        \n",
      " 9   vacina_dt_aplic      822693 non-null  datetime64[ns]\n",
      " 10  vacina_desc_dose     822693 non-null  object        \n",
      " 11  vacina_nome          822693 non-null  object        \n",
      "dtypes: datetime64[ns](2), float64(1), object(9)\n",
      "memory usage: 75.3+ MB\n"
     ]
    }
   ],
   "source": [
    "df_regvac3.info()"
   ]
  },
  {
   "cell_type": "code",
   "execution_count": null,
   "metadata": {},
   "outputs": [],
   "source": []
  },
  {
   "cell_type": "code",
   "execution_count": null,
   "metadata": {},
   "outputs": [],
   "source": []
  },
  {
   "cell_type": "markdown",
   "metadata": {},
   "source": [
    "## 3.3 Tratamento dataset IDH Municípios (AtlasBR)"
   ]
  },
  {
   "cell_type": "markdown",
   "metadata": {},
   "source": [
    "Dataset com informações socioeconômicas dos municípios brasileiros.\n",
    "\n",
    "fonte: http://www.atlasbrasil.org.br/acervo/biblioteca\n",
    "\n",
    "Download em 10/02/2022"
   ]
  },
  {
   "cell_type": "code",
   "execution_count": 70,
   "metadata": {},
   "outputs": [],
   "source": [
    "# Importando planilha do PIB Municípios\n",
    "df_idhm = pd.read_excel('Atlas 2013_municipal, estadual e Brasil.xlsx', sheet_name=1 )"
   ]
  },
  {
   "cell_type": "code",
   "execution_count": 71,
   "metadata": {},
   "outputs": [
    {
     "name": "stdout",
     "output_type": "stream",
     "text": [
      "<class 'pandas.core.frame.DataFrame'>\n",
      "RangeIndex: 16695 entries, 0 to 16694\n",
      "Columns: 237 entries, ANO to IDHM_R\n",
      "dtypes: float64(167), int64(69), object(1)\n",
      "memory usage: 30.2+ MB\n"
     ]
    }
   ],
   "source": [
    "df_idhm.info()"
   ]
  },
  {
   "cell_type": "code",
   "execution_count": 72,
   "metadata": {},
   "outputs": [
    {
     "data": {
      "text/plain": [
       "array([1991, 2000, 2010], dtype=int64)"
      ]
     },
     "execution_count": 72,
     "metadata": {},
     "output_type": "execute_result"
    }
   ],
   "source": [
    "df_idhm.ANO.unique()"
   ]
  },
  {
   "cell_type": "markdown",
   "metadata": {},
   "source": [
    " ### 3.3.1 Selecionando o ano 2010 e o cod UF do Maranhão"
   ]
  },
  {
   "cell_type": "code",
   "execution_count": 73,
   "metadata": {},
   "outputs": [],
   "source": [
    "df_idhm2 = df_idhm.query('ANO == 2010')\n",
    "df_idhm2 = df_idhm2.reset_index(drop=True)\n",
    "\n",
    "df_idhm2 = df_idhm2.query('UF == 21')\n",
    "df_idhm2 = df_idhm2.reset_index(drop=True)"
   ]
  },
  {
   "cell_type": "code",
   "execution_count": 74,
   "metadata": {},
   "outputs": [
    {
     "name": "stdout",
     "output_type": "stream",
     "text": [
      "Index(['ANO', 'UF', 'Codmun6', 'Codmun7', 'Município', 'ESPVIDA', 'FECTOT',\n",
      "       'MORT1', 'MORT5', 'RAZDEP',\n",
      "       ...\n",
      "       'PIA1517', 'PIA18M', 'POP', 'POPT', 'I_ESCOLARIDADE', 'I_FREQ_PROP',\n",
      "       'IDHM', 'IDHM_E', 'IDHM_L', 'IDHM_R'],\n",
      "      dtype='object', length=237)\n"
     ]
    }
   ],
   "source": [
    "print(df_idhm2.columns)"
   ]
  },
  {
   "cell_type": "markdown",
   "metadata": {},
   "source": [
    "### 3.3.2 Excluindo as colunas que não serão usadas"
   ]
  },
  {
   "cell_type": "code",
   "execution_count": 75,
   "metadata": {},
   "outputs": [],
   "source": [
    "# Eliminando colunas que não serão usadas neste dataset \n",
    "\n",
    "df_idhm2.drop(columns=['ANO','UF','FECTOT','MORT5','RAZDEP','SOBRE40','SOBRE60','T_ANALF11A14','T_ANALF15A17',\n",
    "                       'T_ANALF15M','T_ANALF18A24','T_ANALF25A29','T_ANALF25M','T_ENV','T_ATRASO_1_BASICO','T_ATRASO_1_FUND',\n",
    "                       'T_ATRASO_1_MED','T_ATRASO_2_BASICO','T_ATRASO_2_FUND','T_ATRASO_2_MED','T_FREQ0A3','T_FREQ11A14',\n",
    "                       'T_FREQ15A17','T_FREQ18A24','T_FREQ25A29','T_FREQ4A5','T_FREQ4A6','T_FREQ5A6','T_FREQ6','T_FREQ6A14',\n",
    "                       'T_FREQ6A17','T_FREQFUND1517','T_FREQFUND1824','T_FREQFUND45','T_FREQMED1824','T_FREQMED614',\n",
    "                       'T_FREQSUPER1517','T_FUND11A13','T_FUND12A14','T_FUND15A17','T_FUND16A18','T_FUND18A24','CORTE1',\n",
    "                       'CORTE2','CORTE3','CORTE4','CORTE9','GINI','PIND','PINDCRI','PMPOB','PMPOBCRI','PPOB','PPOBCRI',\n",
    "                       'PREN10RICOS','PREN20','PREN20RICOS','PREN40','PREN60','PREN80','PRENTRAB','R1040', 'R2040','RDPC1',\n",
    "                       'RDPC10','RDPC2','RDPC3','RDPC4','RDPC5','RDPCT','RIND','RMPOB','RPOB','THEIL','CPR','EMP',\n",
    "                       'THEILtrab','TRABCC','TRABSC','T_CRIFUNDIN_TODOS','T_FORA4A5','T_FORA6A14','T_FUNDIN_TODOS',\n",
    "                       'T_FUNDIN_TODOS_MMEIO','T_FUNDIN18MINF','T_M10A14CF','T_M15A17CF','T_MULCHEFEFIF014',\n",
    "                       'T_NESTUDA_NTRAB_MMEIO','T_OCUPDESLOC_1','T_RMAXIDOSO','HOMEM0A4','HOMEM10A14','HOMEM15A19',\n",
    "                       'HOMEM20A24','HOMEM25A29','HOMEM30A34','HOMEM35A39','HOMEM40A44','HOMEM45A49','HOMEM50A54',\n",
    "                       'HOMEM55A59','HOMEM5A9','HOMEM60A64','HOMEM65A69','HOMEM70A74','HOMEM75A79','HOMEMTOT','HOMENS80',\n",
    "                       'MULH0A4','MULH10A14','MULH15A19','MULH20A24','MULH25A29','MULH30A34','MULH35A39','MULH40A44',\n",
    "                       'MULH45A49','MULH50A54','MULH55A59','MULH5A9','MULH60A64','MULH65A69','MULH70A74','MULH75A79',\n",
    "                       'MULHER80','MULHERTOT','PEA','PEA1014','PEA1517','peso1','PESO1114','PESO1113','PESO1214',\n",
    "                       'peso13','PESO15','peso1517','PESO1524','PESO1618','Peso1820','PESO1824','Peso1921','PESO25','peso4',\n",
    "                       'peso5','peso6','PESO610','Peso617','PESO65','PESOM1014','PESOM1517','PESOM15M','PESOM25M','PIA',\n",
    "                       'PIA1014','PIA1517','T_FUND25M','T_MED18A20','T_MED18A24','T_MED18M','T_MED19A21','T_MED25M',\n",
    "                       'T_SUPER25M','T_ATIV1014','T_ATIV1517','T_ATIV1824','T_ATIV2529','T_DES1014','T_DES1517','T_DES1824',\n",
    "                       'T_DES2529','T_ATRASO_0_BASICO','T_ATRASO_0_FUND','T_ATRASO_0_MED','T_FBBAS','T_FBFUND','T_FBMED',\n",
    "                       'T_FBPRE','T_FBSUPER','T_FLBAS','T_FLFUND','T_FLMED','T_FLPRE','T_FLSUPER','P_CONSTR','P_EXTR','P_MED',\n",
    "                       'P_SIUP','P_SUPER','P_TRANSF','REN0','REN2','REN3','REN5','T_ATIV','T_DES','T_LIXO','T_DENS',\n",
    "                       'I_FREQ_PROP','POPT','REN1','P_FUND','T_ATIV18M','T_DES18M','T_SLUZ','PIA18M','POP','E_ANOSESTUDO',\n",
    "                       'T_FUND18M','PESO18','T_BANAGUA','PAREDE','ESPVIDA','P_AGRO','P_COM','P_SERV','TRABPUB','P_FORMAL',\n",
    "                       'PEA18M','pesoRUR','pesourb'], axis=1, inplace=True)"
   ]
  },
  {
   "cell_type": "code",
   "execution_count": 76,
   "metadata": {},
   "outputs": [
    {
     "data": {
      "text/html": [
       "<div>\n",
       "<style scoped>\n",
       "    .dataframe tbody tr th:only-of-type {\n",
       "        vertical-align: middle;\n",
       "    }\n",
       "\n",
       "    .dataframe tbody tr th {\n",
       "        vertical-align: top;\n",
       "    }\n",
       "\n",
       "    .dataframe thead th {\n",
       "        text-align: right;\n",
       "    }\n",
       "</style>\n",
       "<table border=\"1\" class=\"dataframe\">\n",
       "  <thead>\n",
       "    <tr style=\"text-align: right;\">\n",
       "      <th></th>\n",
       "      <th>municp_cod6</th>\n",
       "      <th>municp_codibge</th>\n",
       "      <th>municp_nome</th>\n",
       "      <th>municp_mort_inf</th>\n",
       "      <th>municp_tx_analf</th>\n",
       "      <th>municp_rend_pcap</th>\n",
       "      <th>municp_rend_med_ocup</th>\n",
       "      <th>municp_domic_agua</th>\n",
       "      <th>municp_domic_luz</th>\n",
       "      <th>municp_domic_agua&amp;esg</th>\n",
       "      <th>municp_pop_total</th>\n",
       "      <th>municp_niv_escol_pop</th>\n",
       "      <th>municp_idhm</th>\n",
       "      <th>municp_idhm_educ</th>\n",
       "      <th>municp_idhm_longev</th>\n",
       "      <th>municp_idhm_renda</th>\n",
       "    </tr>\n",
       "  </thead>\n",
       "  <tbody>\n",
       "    <tr>\n",
       "      <th>0</th>\n",
       "      <td>210005</td>\n",
       "      <td>2100055</td>\n",
       "      <td>AÇAILÂNDIA</td>\n",
       "      <td>23.2</td>\n",
       "      <td>19.22</td>\n",
       "      <td>438.56</td>\n",
       "      <td>974.92</td>\n",
       "      <td>89.57</td>\n",
       "      <td>99.34</td>\n",
       "      <td>17.03</td>\n",
       "      <td>104047</td>\n",
       "      <td>0.464</td>\n",
       "      <td>0.672</td>\n",
       "      <td>0.602</td>\n",
       "      <td>0.785</td>\n",
       "      <td>0.643</td>\n",
       "    </tr>\n",
       "    <tr>\n",
       "      <th>1</th>\n",
       "      <td>210010</td>\n",
       "      <td>2100105</td>\n",
       "      <td>AFONSO CUNHA</td>\n",
       "      <td>34.4</td>\n",
       "      <td>38.74</td>\n",
       "      <td>149.78</td>\n",
       "      <td>522.88</td>\n",
       "      <td>67.77</td>\n",
       "      <td>97.20</td>\n",
       "      <td>16.54</td>\n",
       "      <td>5905</td>\n",
       "      <td>0.260</td>\n",
       "      <td>0.529</td>\n",
       "      <td>0.434</td>\n",
       "      <td>0.725</td>\n",
       "      <td>0.471</td>\n",
       "    </tr>\n",
       "    <tr>\n",
       "      <th>2</th>\n",
       "      <td>210015</td>\n",
       "      <td>2100154</td>\n",
       "      <td>ÁGUA DOCE DO MARANHÃO</td>\n",
       "      <td>40.6</td>\n",
       "      <td>39.10</td>\n",
       "      <td>172.55</td>\n",
       "      <td>367.65</td>\n",
       "      <td>86.73</td>\n",
       "      <td>97.78</td>\n",
       "      <td>25.56</td>\n",
       "      <td>11581</td>\n",
       "      <td>0.187</td>\n",
       "      <td>0.500</td>\n",
       "      <td>0.363</td>\n",
       "      <td>0.697</td>\n",
       "      <td>0.494</td>\n",
       "    </tr>\n",
       "    <tr>\n",
       "      <th>3</th>\n",
       "      <td>210020</td>\n",
       "      <td>2100204</td>\n",
       "      <td>ALCÂNTARA</td>\n",
       "      <td>28.8</td>\n",
       "      <td>24.16</td>\n",
       "      <td>209.27</td>\n",
       "      <td>405.47</td>\n",
       "      <td>73.63</td>\n",
       "      <td>98.34</td>\n",
       "      <td>38.05</td>\n",
       "      <td>21851</td>\n",
       "      <td>0.379</td>\n",
       "      <td>0.573</td>\n",
       "      <td>0.475</td>\n",
       "      <td>0.753</td>\n",
       "      <td>0.525</td>\n",
       "    </tr>\n",
       "    <tr>\n",
       "      <th>4</th>\n",
       "      <td>210030</td>\n",
       "      <td>2100303</td>\n",
       "      <td>ALDEIAS ALTAS</td>\n",
       "      <td>35.3</td>\n",
       "      <td>40.35</td>\n",
       "      <td>179.92</td>\n",
       "      <td>350.15</td>\n",
       "      <td>77.26</td>\n",
       "      <td>87.00</td>\n",
       "      <td>30.28</td>\n",
       "      <td>23952</td>\n",
       "      <td>0.231</td>\n",
       "      <td>0.513</td>\n",
       "      <td>0.374</td>\n",
       "      <td>0.720</td>\n",
       "      <td>0.500</td>\n",
       "    </tr>\n",
       "  </tbody>\n",
       "</table>\n",
       "</div>"
      ],
      "text/plain": [
       "   municp_cod6  municp_codibge            municp_nome  municp_mort_inf  \\\n",
       "0       210005         2100055             AÇAILÂNDIA             23.2   \n",
       "1       210010         2100105           AFONSO CUNHA             34.4   \n",
       "2       210015         2100154  ÁGUA DOCE DO MARANHÃO             40.6   \n",
       "3       210020         2100204              ALCÂNTARA             28.8   \n",
       "4       210030         2100303          ALDEIAS ALTAS             35.3   \n",
       "\n",
       "   municp_tx_analf  municp_rend_pcap  municp_rend_med_ocup  municp_domic_agua  \\\n",
       "0            19.22            438.56                974.92              89.57   \n",
       "1            38.74            149.78                522.88              67.77   \n",
       "2            39.10            172.55                367.65              86.73   \n",
       "3            24.16            209.27                405.47              73.63   \n",
       "4            40.35            179.92                350.15              77.26   \n",
       "\n",
       "   municp_domic_luz  municp_domic_agua&esg  municp_pop_total  \\\n",
       "0             99.34                  17.03            104047   \n",
       "1             97.20                  16.54              5905   \n",
       "2             97.78                  25.56             11581   \n",
       "3             98.34                  38.05             21851   \n",
       "4             87.00                  30.28             23952   \n",
       "\n",
       "   municp_niv_escol_pop  municp_idhm  municp_idhm_educ  municp_idhm_longev  \\\n",
       "0                 0.464        0.672             0.602               0.785   \n",
       "1                 0.260        0.529             0.434               0.725   \n",
       "2                 0.187        0.500             0.363               0.697   \n",
       "3                 0.379        0.573             0.475               0.753   \n",
       "4                 0.231        0.513             0.374               0.720   \n",
       "\n",
       "   municp_idhm_renda  \n",
       "0              0.643  \n",
       "1              0.471  \n",
       "2              0.494  \n",
       "3              0.525  \n",
       "4              0.500  "
      ]
     },
     "execution_count": 76,
     "metadata": {},
     "output_type": "execute_result"
    }
   ],
   "source": [
    "# Renomeando as colunas para simplificar\n",
    "df_idhm3 = df_idhm2.rename(columns={'Codmun6':'municp_cod6',\n",
    "                                    'Codmun7':'municp_codibge',\n",
    "                                    'Município':'municp_nome',\n",
    "                                    \n",
    "                                    'MORT1':'municp_mort_inf',\n",
    "                                    'T_AGUA':'municp_domic_agua',\n",
    "                                    'T_LUZ':'municp_domic_luz',\n",
    "                                    'AGUA_ESGOTO':'municp_domic_agua&esg',\n",
    "                                    \n",
    "                                    'pesotot':'municp_pop_total',\n",
    "                                    'RENOCUP':'municp_rend_med_ocup',\n",
    "                                    'RDPC':'municp_rend_pcap',\n",
    "                                    'T_ANALF18M':'municp_tx_analf',\n",
    "                                    'I_ESCOLARIDADE':'municp_niv_escol_pop',\n",
    "                                    \n",
    "                                    'IDHM' : 'municp_idhm',\n",
    "                                    'IDHM_E':'municp_idhm_educ',\n",
    "                                    'IDHM_L':'municp_idhm_longev',\n",
    "                                    'IDHM_R':'municp_idhm_renda'})\n",
    "df_idhm3.head()                                       "
   ]
  },
  {
   "cell_type": "code",
   "execution_count": 77,
   "metadata": {},
   "outputs": [
    {
     "data": {
      "text/plain": [
       "['municp_cod6',\n",
       " 'municp_codibge',\n",
       " 'municp_nome',\n",
       " 'municp_mort_inf',\n",
       " 'municp_tx_analf',\n",
       " 'municp_rend_pcap',\n",
       " 'municp_rend_med_ocup',\n",
       " 'municp_domic_agua',\n",
       " 'municp_domic_luz',\n",
       " 'municp_domic_agua&esg',\n",
       " 'municp_pop_total',\n",
       " 'municp_niv_escol_pop',\n",
       " 'municp_idhm',\n",
       " 'municp_idhm_educ',\n",
       " 'municp_idhm_longev',\n",
       " 'municp_idhm_renda']"
      ]
     },
     "execution_count": 77,
     "metadata": {},
     "output_type": "execute_result"
    }
   ],
   "source": [
    "list(df_idhm3.columns)"
   ]
  },
  {
   "cell_type": "code",
   "execution_count": 78,
   "metadata": {},
   "outputs": [
    {
     "data": {
      "text/plain": [
       "municp_cod6              0\n",
       "municp_codibge           0\n",
       "municp_nome              0\n",
       "municp_mort_inf          0\n",
       "municp_tx_analf          0\n",
       "municp_rend_pcap         0\n",
       "municp_rend_med_ocup     0\n",
       "municp_domic_agua        0\n",
       "municp_domic_luz         0\n",
       "municp_domic_agua&esg    0\n",
       "municp_pop_total         0\n",
       "municp_niv_escol_pop     0\n",
       "municp_idhm              0\n",
       "municp_idhm_educ         0\n",
       "municp_idhm_longev       0\n",
       "municp_idhm_renda        0\n",
       "dtype: int64"
      ]
     },
     "execution_count": 78,
     "metadata": {},
     "output_type": "execute_result"
    }
   ],
   "source": [
    "df_idhm3.isna().sum()"
   ]
  },
  {
   "cell_type": "code",
   "execution_count": 79,
   "metadata": {},
   "outputs": [
    {
     "name": "stdout",
     "output_type": "stream",
     "text": [
      "<class 'pandas.core.frame.DataFrame'>\n",
      "RangeIndex: 217 entries, 0 to 216\n",
      "Data columns (total 16 columns):\n",
      " #   Column                 Non-Null Count  Dtype  \n",
      "---  ------                 --------------  -----  \n",
      " 0   municp_cod6            217 non-null    int64  \n",
      " 1   municp_codibge         217 non-null    int64  \n",
      " 2   municp_nome            217 non-null    object \n",
      " 3   municp_mort_inf        217 non-null    float64\n",
      " 4   municp_tx_analf        217 non-null    float64\n",
      " 5   municp_rend_pcap       217 non-null    float64\n",
      " 6   municp_rend_med_ocup   217 non-null    float64\n",
      " 7   municp_domic_agua      217 non-null    float64\n",
      " 8   municp_domic_luz       217 non-null    float64\n",
      " 9   municp_domic_agua&esg  217 non-null    float64\n",
      " 10  municp_pop_total       217 non-null    int64  \n",
      " 11  municp_niv_escol_pop   217 non-null    float64\n",
      " 12  municp_idhm            217 non-null    float64\n",
      " 13  municp_idhm_educ       217 non-null    float64\n",
      " 14  municp_idhm_longev     217 non-null    float64\n",
      " 15  municp_idhm_renda      217 non-null    float64\n",
      "dtypes: float64(12), int64(3), object(1)\n",
      "memory usage: 27.2+ KB\n"
     ]
    }
   ],
   "source": [
    "df_idhm3.info()"
   ]
  },
  {
   "cell_type": "code",
   "execution_count": null,
   "metadata": {},
   "outputs": [],
   "source": []
  },
  {
   "cell_type": "code",
   "execution_count": null,
   "metadata": {},
   "outputs": [],
   "source": []
  },
  {
   "cell_type": "markdown",
   "metadata": {},
   "source": [
    "## 3.4 Tratamento dataset Estimativa População 2021 (IBGE)"
   ]
  },
  {
   "cell_type": "markdown",
   "metadata": {},
   "source": [
    "Arquivo no formato xls disponibilizado no site do IBGE com a estimativa da população para 2021. (https://www.ibge.gov.br/estatisticas/sociais/populacao/9103-estimativas-de-populacao.html?=&t=downloads).\n",
    "\n",
    "Download em 11/02/2022."
   ]
  },
  {
   "cell_type": "code",
   "execution_count": 80,
   "metadata": {},
   "outputs": [],
   "source": [
    "# Importando planilha da População \n",
    "df_pop = pd.read_excel('estimativa_dou_2021.xls', sheet_name=1, header=1, dtype=str)"
   ]
  },
  {
   "cell_type": "code",
   "execution_count": 81,
   "metadata": {},
   "outputs": [
    {
     "name": "stdout",
     "output_type": "stream",
     "text": [
      "<class 'pandas.core.frame.DataFrame'>\n",
      "RangeIndex: 5593 entries, 0 to 5592\n",
      "Data columns (total 5 columns):\n",
      " #   Column              Non-Null Count  Dtype \n",
      "---  ------              --------------  ----- \n",
      " 0   UF                  5591 non-null   object\n",
      " 1   COD. UF             5570 non-null   object\n",
      " 2   COD. MUNIC          5570 non-null   object\n",
      " 3   NOME DO MUNICÍPIO   5570 non-null   object\n",
      " 4   POPULAÇÃO ESTIMADA  5570 non-null   object\n",
      "dtypes: object(5)\n",
      "memory usage: 218.6+ KB\n"
     ]
    }
   ],
   "source": [
    "df_pop.info()"
   ]
  },
  {
   "cell_type": "code",
   "execution_count": 82,
   "metadata": {},
   "outputs": [],
   "source": [
    "df_pop.columns = df_pop.columns.str.replace(' ', '') \n"
   ]
  },
  {
   "cell_type": "code",
   "execution_count": 83,
   "metadata": {},
   "outputs": [],
   "source": [
    "df_pop2 = df_pop.copy()\n",
    "df_pop2['cod_municp'] = df_pop['COD.UF'].astype(str)+df_pop['COD.MUNIC'].astype(str)"
   ]
  },
  {
   "cell_type": "code",
   "execution_count": 84,
   "metadata": {},
   "outputs": [],
   "source": [
    "df_pop3 = df_pop2.query('UF == \"MA\"')\n",
    "df_pop3 = df_pop3.reset_index(drop=True)"
   ]
  },
  {
   "cell_type": "code",
   "execution_count": 85,
   "metadata": {},
   "outputs": [
    {
     "data": {
      "text/html": [
       "<div>\n",
       "<style scoped>\n",
       "    .dataframe tbody tr th:only-of-type {\n",
       "        vertical-align: middle;\n",
       "    }\n",
       "\n",
       "    .dataframe tbody tr th {\n",
       "        vertical-align: top;\n",
       "    }\n",
       "\n",
       "    .dataframe thead th {\n",
       "        text-align: right;\n",
       "    }\n",
       "</style>\n",
       "<table border=\"1\" class=\"dataframe\">\n",
       "  <thead>\n",
       "    <tr style=\"text-align: right;\">\n",
       "      <th></th>\n",
       "      <th>UF</th>\n",
       "      <th>COD.UF</th>\n",
       "      <th>COD.MUNIC</th>\n",
       "      <th>NOMEDOMUNICÍPIO</th>\n",
       "      <th>POPULAÇÃOESTIMADA</th>\n",
       "      <th>cod_municp</th>\n",
       "    </tr>\n",
       "  </thead>\n",
       "  <tbody>\n",
       "    <tr>\n",
       "      <th>0</th>\n",
       "      <td>MA</td>\n",
       "      <td>21</td>\n",
       "      <td>00055</td>\n",
       "      <td>Açailândia</td>\n",
       "      <td>113783</td>\n",
       "      <td>2100055</td>\n",
       "    </tr>\n",
       "    <tr>\n",
       "      <th>1</th>\n",
       "      <td>MA</td>\n",
       "      <td>21</td>\n",
       "      <td>00105</td>\n",
       "      <td>Afonso Cunha</td>\n",
       "      <td>6631</td>\n",
       "      <td>2100105</td>\n",
       "    </tr>\n",
       "    <tr>\n",
       "      <th>2</th>\n",
       "      <td>MA</td>\n",
       "      <td>21</td>\n",
       "      <td>00154</td>\n",
       "      <td>Água Doce do Maranhão</td>\n",
       "      <td>12731</td>\n",
       "      <td>2100154</td>\n",
       "    </tr>\n",
       "    <tr>\n",
       "      <th>3</th>\n",
       "      <td>MA</td>\n",
       "      <td>21</td>\n",
       "      <td>00204</td>\n",
       "      <td>Alcântara</td>\n",
       "      <td>22126</td>\n",
       "      <td>2100204</td>\n",
       "    </tr>\n",
       "    <tr>\n",
       "      <th>4</th>\n",
       "      <td>MA</td>\n",
       "      <td>21</td>\n",
       "      <td>00303</td>\n",
       "      <td>Aldeias Altas</td>\n",
       "      <td>26979</td>\n",
       "      <td>2100303</td>\n",
       "    </tr>\n",
       "    <tr>\n",
       "      <th>...</th>\n",
       "      <td>...</td>\n",
       "      <td>...</td>\n",
       "      <td>...</td>\n",
       "      <td>...</td>\n",
       "      <td>...</td>\n",
       "      <td>...</td>\n",
       "    </tr>\n",
       "    <tr>\n",
       "      <th>212</th>\n",
       "      <td>MA</td>\n",
       "      <td>21</td>\n",
       "      <td>12803</td>\n",
       "      <td>Viana</td>\n",
       "      <td>52852</td>\n",
       "      <td>2112803</td>\n",
       "    </tr>\n",
       "    <tr>\n",
       "      <th>213</th>\n",
       "      <td>MA</td>\n",
       "      <td>21</td>\n",
       "      <td>12852</td>\n",
       "      <td>Vila Nova dos Martírios</td>\n",
       "      <td>13800</td>\n",
       "      <td>2112852</td>\n",
       "    </tr>\n",
       "    <tr>\n",
       "      <th>214</th>\n",
       "      <td>MA</td>\n",
       "      <td>21</td>\n",
       "      <td>12902</td>\n",
       "      <td>Vitória do Mearim</td>\n",
       "      <td>32956</td>\n",
       "      <td>2112902</td>\n",
       "    </tr>\n",
       "    <tr>\n",
       "      <th>215</th>\n",
       "      <td>MA</td>\n",
       "      <td>21</td>\n",
       "      <td>13009</td>\n",
       "      <td>Vitorino Freire</td>\n",
       "      <td>31520</td>\n",
       "      <td>2113009</td>\n",
       "    </tr>\n",
       "    <tr>\n",
       "      <th>216</th>\n",
       "      <td>MA</td>\n",
       "      <td>21</td>\n",
       "      <td>14007</td>\n",
       "      <td>Zé Doca</td>\n",
       "      <td>52190</td>\n",
       "      <td>2114007</td>\n",
       "    </tr>\n",
       "  </tbody>\n",
       "</table>\n",
       "<p>217 rows × 6 columns</p>\n",
       "</div>"
      ],
      "text/plain": [
       "     UF COD.UF COD.MUNIC          NOMEDOMUNICÍPIO POPULAÇÃOESTIMADA cod_municp\n",
       "0    MA     21     00055               Açailândia            113783    2100055\n",
       "1    MA     21     00105             Afonso Cunha              6631    2100105\n",
       "2    MA     21     00154    Água Doce do Maranhão             12731    2100154\n",
       "3    MA     21     00204                Alcântara             22126    2100204\n",
       "4    MA     21     00303            Aldeias Altas             26979    2100303\n",
       "..   ..    ...       ...                      ...               ...        ...\n",
       "212  MA     21     12803                    Viana             52852    2112803\n",
       "213  MA     21     12852  Vila Nova dos Martírios             13800    2112852\n",
       "214  MA     21     12902        Vitória do Mearim             32956    2112902\n",
       "215  MA     21     13009          Vitorino Freire             31520    2113009\n",
       "216  MA     21     14007                  Zé Doca             52190    2114007\n",
       "\n",
       "[217 rows x 6 columns]"
      ]
     },
     "execution_count": 85,
     "metadata": {},
     "output_type": "execute_result"
    }
   ],
   "source": [
    "df_pop3"
   ]
  },
  {
   "cell_type": "code",
   "execution_count": 86,
   "metadata": {},
   "outputs": [
    {
     "data": {
      "text/html": [
       "<div>\n",
       "<style scoped>\n",
       "    .dataframe tbody tr th:only-of-type {\n",
       "        vertical-align: middle;\n",
       "    }\n",
       "\n",
       "    .dataframe tbody tr th {\n",
       "        vertical-align: top;\n",
       "    }\n",
       "\n",
       "    .dataframe thead th {\n",
       "        text-align: right;\n",
       "    }\n",
       "</style>\n",
       "<table border=\"1\" class=\"dataframe\">\n",
       "  <thead>\n",
       "    <tr style=\"text-align: right;\">\n",
       "      <th></th>\n",
       "      <th>UF</th>\n",
       "      <th>COD.UF</th>\n",
       "      <th>COD.MUNIC</th>\n",
       "      <th>NOMEDOMUNICÍPIO</th>\n",
       "      <th>POPULAÇÃOESTIMADA</th>\n",
       "      <th>cod_municp</th>\n",
       "      <th>nm_municp</th>\n",
       "    </tr>\n",
       "  </thead>\n",
       "  <tbody>\n",
       "    <tr>\n",
       "      <th>0</th>\n",
       "      <td>MA</td>\n",
       "      <td>21</td>\n",
       "      <td>00055</td>\n",
       "      <td>Açailândia</td>\n",
       "      <td>113783</td>\n",
       "      <td>2100055</td>\n",
       "      <td>ACAILANDIA</td>\n",
       "    </tr>\n",
       "    <tr>\n",
       "      <th>1</th>\n",
       "      <td>MA</td>\n",
       "      <td>21</td>\n",
       "      <td>00105</td>\n",
       "      <td>Afonso Cunha</td>\n",
       "      <td>6631</td>\n",
       "      <td>2100105</td>\n",
       "      <td>AFONSO CUNHA</td>\n",
       "    </tr>\n",
       "    <tr>\n",
       "      <th>2</th>\n",
       "      <td>MA</td>\n",
       "      <td>21</td>\n",
       "      <td>00154</td>\n",
       "      <td>Água Doce do Maranhão</td>\n",
       "      <td>12731</td>\n",
       "      <td>2100154</td>\n",
       "      <td>AGUA DOCE DO MARANHAO</td>\n",
       "    </tr>\n",
       "    <tr>\n",
       "      <th>3</th>\n",
       "      <td>MA</td>\n",
       "      <td>21</td>\n",
       "      <td>00204</td>\n",
       "      <td>Alcântara</td>\n",
       "      <td>22126</td>\n",
       "      <td>2100204</td>\n",
       "      <td>ALCANTARA</td>\n",
       "    </tr>\n",
       "    <tr>\n",
       "      <th>4</th>\n",
       "      <td>MA</td>\n",
       "      <td>21</td>\n",
       "      <td>00303</td>\n",
       "      <td>Aldeias Altas</td>\n",
       "      <td>26979</td>\n",
       "      <td>2100303</td>\n",
       "      <td>ALDEIAS ALTAS</td>\n",
       "    </tr>\n",
       "  </tbody>\n",
       "</table>\n",
       "</div>"
      ],
      "text/plain": [
       "   UF COD.UF COD.MUNIC        NOMEDOMUNICÍPIO POPULAÇÃOESTIMADA cod_municp  \\\n",
       "0  MA     21     00055             Açailândia            113783    2100055   \n",
       "1  MA     21     00105           Afonso Cunha              6631    2100105   \n",
       "2  MA     21     00154  Água Doce do Maranhão             12731    2100154   \n",
       "3  MA     21     00204              Alcântara             22126    2100204   \n",
       "4  MA     21     00303          Aldeias Altas             26979    2100303   \n",
       "\n",
       "               nm_municp  \n",
       "0             ACAILANDIA  \n",
       "1           AFONSO CUNHA  \n",
       "2  AGUA DOCE DO MARANHAO  \n",
       "3              ALCANTARA  \n",
       "4          ALDEIAS ALTAS  "
      ]
     },
     "execution_count": 86,
     "metadata": {},
     "output_type": "execute_result"
    }
   ],
   "source": [
    "## Ajustando os nomes dos municípios\n",
    "df_pop3['nm_municp'] = df_pop3['NOMEDOMUNICÍPIO'].str.normalize('NFKD').str.encode('ascii',\n",
    "                                                                        errors='ignore').str.decode('utf-8')\n",
    "df_pop3['nm_municp'] = df_pop3['nm_municp'].apply(lambda x: x.upper())\n",
    "df_pop3.head()"
   ]
  },
  {
   "cell_type": "code",
   "execution_count": 87,
   "metadata": {},
   "outputs": [],
   "source": [
    "# Renomeando coluna\n",
    "df_pop3 = df_pop3.rename(columns={'POPULAÇÃOESTIMADA':'pop_estimada'})"
   ]
  },
  {
   "cell_type": "code",
   "execution_count": 88,
   "metadata": {},
   "outputs": [],
   "source": [
    "# Eliminando as colunas que não serão tratadas neste trabalho\n",
    "df_pop3.drop(columns=['UF','NOMEDOMUNICÍPIO','COD.UF','COD.MUNIC'],inplace=True)"
   ]
  },
  {
   "cell_type": "code",
   "execution_count": 89,
   "metadata": {},
   "outputs": [
    {
     "data": {
      "text/html": [
       "<div>\n",
       "<style scoped>\n",
       "    .dataframe tbody tr th:only-of-type {\n",
       "        vertical-align: middle;\n",
       "    }\n",
       "\n",
       "    .dataframe tbody tr th {\n",
       "        vertical-align: top;\n",
       "    }\n",
       "\n",
       "    .dataframe thead th {\n",
       "        text-align: right;\n",
       "    }\n",
       "</style>\n",
       "<table border=\"1\" class=\"dataframe\">\n",
       "  <thead>\n",
       "    <tr style=\"text-align: right;\">\n",
       "      <th></th>\n",
       "      <th>pop_estimada</th>\n",
       "      <th>cod_municp</th>\n",
       "      <th>nm_municp</th>\n",
       "    </tr>\n",
       "  </thead>\n",
       "  <tbody>\n",
       "    <tr>\n",
       "      <th>129</th>\n",
       "      <td>125.265(14)</td>\n",
       "      <td>2107506</td>\n",
       "      <td>PACO DO LUMIAR</td>\n",
       "    </tr>\n",
       "  </tbody>\n",
       "</table>\n",
       "</div>"
      ],
      "text/plain": [
       "    pop_estimada cod_municp       nm_municp\n",
       "129  125.265(14)    2107506  PACO DO LUMIAR"
      ]
     },
     "execution_count": 89,
     "metadata": {},
     "output_type": "execute_result"
    }
   ],
   "source": [
    "df_pop3.loc[df_pop3.nm_municp.str.contains('PACO DO LUMIAR')]"
   ]
  },
  {
   "cell_type": "markdown",
   "metadata": {},
   "source": [
    "A planilha original tinha uma observação (nota de rodapé) referente a população estimada da cidade de Paço do Lumiar. \\\n",
    "Removemos a observação."
   ]
  },
  {
   "cell_type": "code",
   "execution_count": 90,
   "metadata": {},
   "outputs": [],
   "source": [
    "# Limpando e corrigindo o valor\n",
    "df_pop3.loc[df_pop3.nm_municp.str.contains('PACO DO LUMIAR'),'pop_estimada'] = '125265'"
   ]
  },
  {
   "cell_type": "code",
   "execution_count": 91,
   "metadata": {},
   "outputs": [
    {
     "data": {
      "text/html": [
       "<div>\n",
       "<style scoped>\n",
       "    .dataframe tbody tr th:only-of-type {\n",
       "        vertical-align: middle;\n",
       "    }\n",
       "\n",
       "    .dataframe tbody tr th {\n",
       "        vertical-align: top;\n",
       "    }\n",
       "\n",
       "    .dataframe thead th {\n",
       "        text-align: right;\n",
       "    }\n",
       "</style>\n",
       "<table border=\"1\" class=\"dataframe\">\n",
       "  <thead>\n",
       "    <tr style=\"text-align: right;\">\n",
       "      <th></th>\n",
       "      <th>pop_estimada</th>\n",
       "      <th>cod_municp</th>\n",
       "      <th>nm_municp</th>\n",
       "    </tr>\n",
       "  </thead>\n",
       "  <tbody>\n",
       "    <tr>\n",
       "      <th>129</th>\n",
       "      <td>125265</td>\n",
       "      <td>2107506</td>\n",
       "      <td>PACO DO LUMIAR</td>\n",
       "    </tr>\n",
       "  </tbody>\n",
       "</table>\n",
       "</div>"
      ],
      "text/plain": [
       "    pop_estimada cod_municp       nm_municp\n",
       "129       125265    2107506  PACO DO LUMIAR"
      ]
     },
     "execution_count": 91,
     "metadata": {},
     "output_type": "execute_result"
    }
   ],
   "source": [
    "df_pop3.loc[df_pop3.nm_municp.str.contains('PACO DO LUMIAR')]"
   ]
  },
  {
   "cell_type": "code",
   "execution_count": 92,
   "metadata": {},
   "outputs": [],
   "source": [
    "df_pop3['pop_estimada'] = df_pop3['pop_estimada'].astype(int)\n",
    "df_pop3['cod_municp'] = df_pop3['cod_municp'].astype(int)"
   ]
  },
  {
   "cell_type": "markdown",
   "metadata": {},
   "source": [
    "### 3.4.1 Criando atributo cobertura vacinal"
   ]
  },
  {
   "cell_type": "code",
   "execution_count": 93,
   "metadata": {},
   "outputs": [],
   "source": [
    "# Incorporando o total das vacinações\n",
    "df_pop3['municp_qtdevac'] = total.values"
   ]
  },
  {
   "cell_type": "code",
   "execution_count": 94,
   "metadata": {},
   "outputs": [],
   "source": [
    "df_pop3['pop_estimada'] = pd.to_numeric(df_pop3['pop_estimada'], errors='coerce', downcast='integer')"
   ]
  },
  {
   "cell_type": "code",
   "execution_count": 95,
   "metadata": {},
   "outputs": [],
   "source": [
    "df_pop3['municp_cobert'] = df_pop3['municp_qtdevac'] / df_pop3['pop_estimada']"
   ]
  },
  {
   "cell_type": "code",
   "execution_count": 96,
   "metadata": {},
   "outputs": [
    {
     "data": {
      "text/html": [
       "<div>\n",
       "<style scoped>\n",
       "    .dataframe tbody tr th:only-of-type {\n",
       "        vertical-align: middle;\n",
       "    }\n",
       "\n",
       "    .dataframe tbody tr th {\n",
       "        vertical-align: top;\n",
       "    }\n",
       "\n",
       "    .dataframe thead th {\n",
       "        text-align: right;\n",
       "    }\n",
       "</style>\n",
       "<table border=\"1\" class=\"dataframe\">\n",
       "  <thead>\n",
       "    <tr style=\"text-align: right;\">\n",
       "      <th></th>\n",
       "      <th>pop_estimada</th>\n",
       "      <th>cod_municp</th>\n",
       "      <th>nm_municp</th>\n",
       "      <th>municp_qtdevac</th>\n",
       "      <th>municp_cobert</th>\n",
       "    </tr>\n",
       "  </thead>\n",
       "  <tbody>\n",
       "    <tr>\n",
       "      <th>0</th>\n",
       "      <td>113783</td>\n",
       "      <td>2100055</td>\n",
       "      <td>ACAILANDIA</td>\n",
       "      <td>65960</td>\n",
       "      <td>0.579700</td>\n",
       "    </tr>\n",
       "    <tr>\n",
       "      <th>1</th>\n",
       "      <td>6631</td>\n",
       "      <td>2100105</td>\n",
       "      <td>AFONSO CUNHA</td>\n",
       "      <td>4399</td>\n",
       "      <td>0.663399</td>\n",
       "    </tr>\n",
       "    <tr>\n",
       "      <th>2</th>\n",
       "      <td>12731</td>\n",
       "      <td>2100154</td>\n",
       "      <td>AGUA DOCE DO MARANHAO</td>\n",
       "      <td>9011</td>\n",
       "      <td>0.707800</td>\n",
       "    </tr>\n",
       "    <tr>\n",
       "      <th>3</th>\n",
       "      <td>22126</td>\n",
       "      <td>2100204</td>\n",
       "      <td>ALCANTARA</td>\n",
       "      <td>17856</td>\n",
       "      <td>0.807014</td>\n",
       "    </tr>\n",
       "    <tr>\n",
       "      <th>4</th>\n",
       "      <td>26979</td>\n",
       "      <td>2100303</td>\n",
       "      <td>ALDEIAS ALTAS</td>\n",
       "      <td>13841</td>\n",
       "      <td>0.513029</td>\n",
       "    </tr>\n",
       "    <tr>\n",
       "      <th>...</th>\n",
       "      <td>...</td>\n",
       "      <td>...</td>\n",
       "      <td>...</td>\n",
       "      <td>...</td>\n",
       "      <td>...</td>\n",
       "    </tr>\n",
       "    <tr>\n",
       "      <th>212</th>\n",
       "      <td>52852</td>\n",
       "      <td>2112803</td>\n",
       "      <td>VIANA</td>\n",
       "      <td>32328</td>\n",
       "      <td>0.611670</td>\n",
       "    </tr>\n",
       "    <tr>\n",
       "      <th>213</th>\n",
       "      <td>13800</td>\n",
       "      <td>2112852</td>\n",
       "      <td>VILA NOVA DOS MARTIRIOS</td>\n",
       "      <td>6681</td>\n",
       "      <td>0.484130</td>\n",
       "    </tr>\n",
       "    <tr>\n",
       "      <th>214</th>\n",
       "      <td>32956</td>\n",
       "      <td>2112902</td>\n",
       "      <td>VITORIA DO MEARIM</td>\n",
       "      <td>19819</td>\n",
       "      <td>0.601378</td>\n",
       "    </tr>\n",
       "    <tr>\n",
       "      <th>215</th>\n",
       "      <td>31520</td>\n",
       "      <td>2113009</td>\n",
       "      <td>VITORINO FREIRE</td>\n",
       "      <td>18819</td>\n",
       "      <td>0.597049</td>\n",
       "    </tr>\n",
       "    <tr>\n",
       "      <th>216</th>\n",
       "      <td>52190</td>\n",
       "      <td>2114007</td>\n",
       "      <td>ZE DOCA</td>\n",
       "      <td>30439</td>\n",
       "      <td>0.583234</td>\n",
       "    </tr>\n",
       "  </tbody>\n",
       "</table>\n",
       "<p>217 rows × 5 columns</p>\n",
       "</div>"
      ],
      "text/plain": [
       "     pop_estimada  cod_municp                nm_municp  municp_qtdevac  \\\n",
       "0          113783     2100055               ACAILANDIA           65960   \n",
       "1            6631     2100105             AFONSO CUNHA            4399   \n",
       "2           12731     2100154    AGUA DOCE DO MARANHAO            9011   \n",
       "3           22126     2100204                ALCANTARA           17856   \n",
       "4           26979     2100303            ALDEIAS ALTAS           13841   \n",
       "..            ...         ...                      ...             ...   \n",
       "212         52852     2112803                    VIANA           32328   \n",
       "213         13800     2112852  VILA NOVA DOS MARTIRIOS            6681   \n",
       "214         32956     2112902        VITORIA DO MEARIM           19819   \n",
       "215         31520     2113009          VITORINO FREIRE           18819   \n",
       "216         52190     2114007                  ZE DOCA           30439   \n",
       "\n",
       "     municp_cobert  \n",
       "0         0.579700  \n",
       "1         0.663399  \n",
       "2         0.707800  \n",
       "3         0.807014  \n",
       "4         0.513029  \n",
       "..             ...  \n",
       "212       0.611670  \n",
       "213       0.484130  \n",
       "214       0.601378  \n",
       "215       0.597049  \n",
       "216       0.583234  \n",
       "\n",
       "[217 rows x 5 columns]"
      ]
     },
     "execution_count": 96,
     "metadata": {},
     "output_type": "execute_result"
    }
   ],
   "source": [
    "df_pop3"
   ]
  },
  {
   "cell_type": "code",
   "execution_count": 97,
   "metadata": {},
   "outputs": [
    {
     "name": "stdout",
     "output_type": "stream",
     "text": [
      "<class 'pandas.core.frame.DataFrame'>\n",
      "RangeIndex: 217 entries, 0 to 216\n",
      "Data columns (total 5 columns):\n",
      " #   Column          Non-Null Count  Dtype  \n",
      "---  ------          --------------  -----  \n",
      " 0   pop_estimada    217 non-null    int32  \n",
      " 1   cod_municp      217 non-null    int32  \n",
      " 2   nm_municp       217 non-null    object \n",
      " 3   municp_qtdevac  217 non-null    int64  \n",
      " 4   municp_cobert   217 non-null    float64\n",
      "dtypes: float64(1), int32(2), int64(1), object(1)\n",
      "memory usage: 6.9+ KB\n"
     ]
    }
   ],
   "source": [
    "df_pop3.info()"
   ]
  },
  {
   "cell_type": "code",
   "execution_count": null,
   "metadata": {},
   "outputs": [],
   "source": []
  },
  {
   "cell_type": "code",
   "execution_count": 115,
   "metadata": {},
   "outputs": [
    {
     "data": {
      "text/html": [
       "<div>\n",
       "<style scoped>\n",
       "    .dataframe tbody tr th:only-of-type {\n",
       "        vertical-align: middle;\n",
       "    }\n",
       "\n",
       "    .dataframe tbody tr th {\n",
       "        vertical-align: top;\n",
       "    }\n",
       "\n",
       "    .dataframe thead th {\n",
       "        text-align: right;\n",
       "    }\n",
       "</style>\n",
       "<table border=\"1\" class=\"dataframe\">\n",
       "  <thead>\n",
       "    <tr style=\"text-align: right;\">\n",
       "      <th></th>\n",
       "      <th>pop_estimada</th>\n",
       "      <th>cod_municp</th>\n",
       "      <th>nm_municp</th>\n",
       "      <th>municp_qtdevac</th>\n",
       "      <th>municp_cobert</th>\n",
       "    </tr>\n",
       "  </thead>\n",
       "  <tbody>\n",
       "    <tr>\n",
       "      <th>0</th>\n",
       "      <td>113783</td>\n",
       "      <td>2100055</td>\n",
       "      <td>ACAILANDIA</td>\n",
       "      <td>65960</td>\n",
       "      <td>0.579700</td>\n",
       "    </tr>\n",
       "    <tr>\n",
       "      <th>1</th>\n",
       "      <td>6631</td>\n",
       "      <td>2100105</td>\n",
       "      <td>AFONSO CUNHA</td>\n",
       "      <td>4399</td>\n",
       "      <td>0.663399</td>\n",
       "    </tr>\n",
       "    <tr>\n",
       "      <th>2</th>\n",
       "      <td>12731</td>\n",
       "      <td>2100154</td>\n",
       "      <td>AGUA DOCE DO MARANHAO</td>\n",
       "      <td>9011</td>\n",
       "      <td>0.707800</td>\n",
       "    </tr>\n",
       "    <tr>\n",
       "      <th>3</th>\n",
       "      <td>22126</td>\n",
       "      <td>2100204</td>\n",
       "      <td>ALCANTARA</td>\n",
       "      <td>17856</td>\n",
       "      <td>0.807014</td>\n",
       "    </tr>\n",
       "    <tr>\n",
       "      <th>4</th>\n",
       "      <td>26979</td>\n",
       "      <td>2100303</td>\n",
       "      <td>ALDEIAS ALTAS</td>\n",
       "      <td>13841</td>\n",
       "      <td>0.513029</td>\n",
       "    </tr>\n",
       "    <tr>\n",
       "      <th>...</th>\n",
       "      <td>...</td>\n",
       "      <td>...</td>\n",
       "      <td>...</td>\n",
       "      <td>...</td>\n",
       "      <td>...</td>\n",
       "    </tr>\n",
       "    <tr>\n",
       "      <th>212</th>\n",
       "      <td>52852</td>\n",
       "      <td>2112803</td>\n",
       "      <td>VIANA</td>\n",
       "      <td>32328</td>\n",
       "      <td>0.611670</td>\n",
       "    </tr>\n",
       "    <tr>\n",
       "      <th>213</th>\n",
       "      <td>13800</td>\n",
       "      <td>2112852</td>\n",
       "      <td>VILA NOVA DOS MARTIRIOS</td>\n",
       "      <td>6681</td>\n",
       "      <td>0.484130</td>\n",
       "    </tr>\n",
       "    <tr>\n",
       "      <th>214</th>\n",
       "      <td>32956</td>\n",
       "      <td>2112902</td>\n",
       "      <td>VITORIA DO MEARIM</td>\n",
       "      <td>19819</td>\n",
       "      <td>0.601378</td>\n",
       "    </tr>\n",
       "    <tr>\n",
       "      <th>215</th>\n",
       "      <td>31520</td>\n",
       "      <td>2113009</td>\n",
       "      <td>VITORINO FREIRE</td>\n",
       "      <td>18819</td>\n",
       "      <td>0.597049</td>\n",
       "    </tr>\n",
       "    <tr>\n",
       "      <th>216</th>\n",
       "      <td>52190</td>\n",
       "      <td>2114007</td>\n",
       "      <td>ZE DOCA</td>\n",
       "      <td>30439</td>\n",
       "      <td>0.583234</td>\n",
       "    </tr>\n",
       "  </tbody>\n",
       "</table>\n",
       "<p>217 rows × 5 columns</p>\n",
       "</div>"
      ],
      "text/plain": [
       "     pop_estimada  cod_municp                nm_municp  municp_qtdevac  \\\n",
       "0          113783     2100055               ACAILANDIA           65960   \n",
       "1            6631     2100105             AFONSO CUNHA            4399   \n",
       "2           12731     2100154    AGUA DOCE DO MARANHAO            9011   \n",
       "3           22126     2100204                ALCANTARA           17856   \n",
       "4           26979     2100303            ALDEIAS ALTAS           13841   \n",
       "..            ...         ...                      ...             ...   \n",
       "212         52852     2112803                    VIANA           32328   \n",
       "213         13800     2112852  VILA NOVA DOS MARTIRIOS            6681   \n",
       "214         32956     2112902        VITORIA DO MEARIM           19819   \n",
       "215         31520     2113009          VITORINO FREIRE           18819   \n",
       "216         52190     2114007                  ZE DOCA           30439   \n",
       "\n",
       "     municp_cobert  \n",
       "0         0.579700  \n",
       "1         0.663399  \n",
       "2         0.707800  \n",
       "3         0.807014  \n",
       "4         0.513029  \n",
       "..             ...  \n",
       "212       0.611670  \n",
       "213       0.484130  \n",
       "214       0.601378  \n",
       "215       0.597049  \n",
       "216       0.583234  \n",
       "\n",
       "[217 rows x 5 columns]"
      ]
     },
     "execution_count": 115,
     "metadata": {},
     "output_type": "execute_result"
    }
   ],
   "source": [
    "df_pop3"
   ]
  },
  {
   "cell_type": "code",
   "execution_count": null,
   "metadata": {},
   "outputs": [],
   "source": []
  },
  {
   "cell_type": "code",
   "execution_count": null,
   "metadata": {},
   "outputs": [],
   "source": []
  },
  {
   "cell_type": "code",
   "execution_count": null,
   "metadata": {},
   "outputs": [],
   "source": []
  },
  {
   "cell_type": "markdown",
   "metadata": {},
   "source": [
    "## 3.5 Junção dos datasets "
   ]
  },
  {
   "cell_type": "markdown",
   "metadata": {},
   "source": [
    "### 3.5.1 Junção datasets IDHM e População dos Municípios"
   ]
  },
  {
   "cell_type": "code",
   "execution_count": 98,
   "metadata": {},
   "outputs": [
    {
     "name": "stdout",
     "output_type": "stream",
     "text": [
      "<class 'pandas.core.frame.DataFrame'>\n",
      "RangeIndex: 217 entries, 0 to 216\n",
      "Data columns (total 5 columns):\n",
      " #   Column          Non-Null Count  Dtype  \n",
      "---  ------          --------------  -----  \n",
      " 0   pop_estimada    217 non-null    int32  \n",
      " 1   cod_municp      217 non-null    int32  \n",
      " 2   nm_municp       217 non-null    object \n",
      " 3   municp_qtdevac  217 non-null    int64  \n",
      " 4   municp_cobert   217 non-null    float64\n",
      "dtypes: float64(1), int32(2), int64(1), object(1)\n",
      "memory usage: 6.9+ KB\n"
     ]
    }
   ],
   "source": [
    "df_pop3.info()"
   ]
  },
  {
   "cell_type": "code",
   "execution_count": 99,
   "metadata": {},
   "outputs": [
    {
     "name": "stdout",
     "output_type": "stream",
     "text": [
      "<class 'pandas.core.frame.DataFrame'>\n",
      "RangeIndex: 217 entries, 0 to 216\n",
      "Data columns (total 16 columns):\n",
      " #   Column                 Non-Null Count  Dtype  \n",
      "---  ------                 --------------  -----  \n",
      " 0   municp_cod6            217 non-null    int64  \n",
      " 1   municp_codibge         217 non-null    int64  \n",
      " 2   municp_nome            217 non-null    object \n",
      " 3   municp_mort_inf        217 non-null    float64\n",
      " 4   municp_tx_analf        217 non-null    float64\n",
      " 5   municp_rend_pcap       217 non-null    float64\n",
      " 6   municp_rend_med_ocup   217 non-null    float64\n",
      " 7   municp_domic_agua      217 non-null    float64\n",
      " 8   municp_domic_luz       217 non-null    float64\n",
      " 9   municp_domic_agua&esg  217 non-null    float64\n",
      " 10  municp_pop_total       217 non-null    int64  \n",
      " 11  municp_niv_escol_pop   217 non-null    float64\n",
      " 12  municp_idhm            217 non-null    float64\n",
      " 13  municp_idhm_educ       217 non-null    float64\n",
      " 14  municp_idhm_longev     217 non-null    float64\n",
      " 15  municp_idhm_renda      217 non-null    float64\n",
      "dtypes: float64(12), int64(3), object(1)\n",
      "memory usage: 27.2+ KB\n"
     ]
    }
   ],
   "source": [
    "df_idhm3.info()"
   ]
  },
  {
   "cell_type": "code",
   "execution_count": 100,
   "metadata": {},
   "outputs": [],
   "source": [
    "# Juntando os Datasets\n",
    "df_popidhm = df_pop3.merge(df_idhm3, left_on='cod_municp', right_on='municp_codibge', how='left')"
   ]
  },
  {
   "cell_type": "code",
   "execution_count": 101,
   "metadata": {},
   "outputs": [
    {
     "name": "stdout",
     "output_type": "stream",
     "text": [
      "<class 'pandas.core.frame.DataFrame'>\n",
      "Int64Index: 217 entries, 0 to 216\n",
      "Data columns (total 21 columns):\n",
      " #   Column                 Non-Null Count  Dtype  \n",
      "---  ------                 --------------  -----  \n",
      " 0   pop_estimada           217 non-null    int32  \n",
      " 1   cod_municp             217 non-null    int32  \n",
      " 2   nm_municp              217 non-null    object \n",
      " 3   municp_qtdevac         217 non-null    int64  \n",
      " 4   municp_cobert          217 non-null    float64\n",
      " 5   municp_cod6            217 non-null    int64  \n",
      " 6   municp_codibge         217 non-null    int64  \n",
      " 7   municp_nome            217 non-null    object \n",
      " 8   municp_mort_inf        217 non-null    float64\n",
      " 9   municp_tx_analf        217 non-null    float64\n",
      " 10  municp_rend_pcap       217 non-null    float64\n",
      " 11  municp_rend_med_ocup   217 non-null    float64\n",
      " 12  municp_domic_agua      217 non-null    float64\n",
      " 13  municp_domic_luz       217 non-null    float64\n",
      " 14  municp_domic_agua&esg  217 non-null    float64\n",
      " 15  municp_pop_total       217 non-null    int64  \n",
      " 16  municp_niv_escol_pop   217 non-null    float64\n",
      " 17  municp_idhm            217 non-null    float64\n",
      " 18  municp_idhm_educ       217 non-null    float64\n",
      " 19  municp_idhm_longev     217 non-null    float64\n",
      " 20  municp_idhm_renda      217 non-null    float64\n",
      "dtypes: float64(13), int32(2), int64(4), object(2)\n",
      "memory usage: 35.6+ KB\n"
     ]
    }
   ],
   "source": [
    "df_popidhm.info()"
   ]
  },
  {
   "cell_type": "code",
   "execution_count": 102,
   "metadata": {},
   "outputs": [
    {
     "data": {
      "text/html": [
       "<div>\n",
       "<style scoped>\n",
       "    .dataframe tbody tr th:only-of-type {\n",
       "        vertical-align: middle;\n",
       "    }\n",
       "\n",
       "    .dataframe tbody tr th {\n",
       "        vertical-align: top;\n",
       "    }\n",
       "\n",
       "    .dataframe thead th {\n",
       "        text-align: right;\n",
       "    }\n",
       "</style>\n",
       "<table border=\"1\" class=\"dataframe\">\n",
       "  <thead>\n",
       "    <tr style=\"text-align: right;\">\n",
       "      <th></th>\n",
       "      <th>nm_municp</th>\n",
       "      <th>pop_estimada</th>\n",
       "      <th>municp_pop_total</th>\n",
       "    </tr>\n",
       "  </thead>\n",
       "  <tbody>\n",
       "    <tr>\n",
       "      <th>0</th>\n",
       "      <td>ACAILANDIA</td>\n",
       "      <td>113783</td>\n",
       "      <td>104047</td>\n",
       "    </tr>\n",
       "    <tr>\n",
       "      <th>1</th>\n",
       "      <td>AFONSO CUNHA</td>\n",
       "      <td>6631</td>\n",
       "      <td>5905</td>\n",
       "    </tr>\n",
       "    <tr>\n",
       "      <th>2</th>\n",
       "      <td>AGUA DOCE DO MARANHAO</td>\n",
       "      <td>12731</td>\n",
       "      <td>11581</td>\n",
       "    </tr>\n",
       "    <tr>\n",
       "      <th>3</th>\n",
       "      <td>ALCANTARA</td>\n",
       "      <td>22126</td>\n",
       "      <td>21851</td>\n",
       "    </tr>\n",
       "    <tr>\n",
       "      <th>4</th>\n",
       "      <td>ALDEIAS ALTAS</td>\n",
       "      <td>26979</td>\n",
       "      <td>23952</td>\n",
       "    </tr>\n",
       "    <tr>\n",
       "      <th>...</th>\n",
       "      <td>...</td>\n",
       "      <td>...</td>\n",
       "      <td>...</td>\n",
       "    </tr>\n",
       "    <tr>\n",
       "      <th>212</th>\n",
       "      <td>VIANA</td>\n",
       "      <td>52852</td>\n",
       "      <td>49496</td>\n",
       "    </tr>\n",
       "    <tr>\n",
       "      <th>213</th>\n",
       "      <td>VILA NOVA DOS MARTIRIOS</td>\n",
       "      <td>13800</td>\n",
       "      <td>11258</td>\n",
       "    </tr>\n",
       "    <tr>\n",
       "      <th>214</th>\n",
       "      <td>VITORIA DO MEARIM</td>\n",
       "      <td>32956</td>\n",
       "      <td>31217</td>\n",
       "    </tr>\n",
       "    <tr>\n",
       "      <th>215</th>\n",
       "      <td>VITORINO FREIRE</td>\n",
       "      <td>31520</td>\n",
       "      <td>31658</td>\n",
       "    </tr>\n",
       "    <tr>\n",
       "      <th>216</th>\n",
       "      <td>ZE DOCA</td>\n",
       "      <td>52190</td>\n",
       "      <td>50173</td>\n",
       "    </tr>\n",
       "  </tbody>\n",
       "</table>\n",
       "<p>217 rows × 3 columns</p>\n",
       "</div>"
      ],
      "text/plain": [
       "                   nm_municp  pop_estimada  municp_pop_total\n",
       "0                 ACAILANDIA        113783            104047\n",
       "1               AFONSO CUNHA          6631              5905\n",
       "2      AGUA DOCE DO MARANHAO         12731             11581\n",
       "3                  ALCANTARA         22126             21851\n",
       "4              ALDEIAS ALTAS         26979             23952\n",
       "..                       ...           ...               ...\n",
       "212                    VIANA         52852             49496\n",
       "213  VILA NOVA DOS MARTIRIOS         13800             11258\n",
       "214        VITORIA DO MEARIM         32956             31217\n",
       "215          VITORINO FREIRE         31520             31658\n",
       "216                  ZE DOCA         52190             50173\n",
       "\n",
       "[217 rows x 3 columns]"
      ]
     },
     "execution_count": 102,
     "metadata": {},
     "output_type": "execute_result"
    }
   ],
   "source": [
    "df_popidhm.loc[:,['nm_municp','pop_estimada','municp_pop_total']]"
   ]
  },
  {
   "cell_type": "markdown",
   "metadata": {},
   "source": [
    "Houve uma evolução na população dos municípios entre as bases do IDHM (AtlasBR) e IBGE.\n",
    "\n",
    "Vamos considerar os valores do IBGE estimativas 2021."
   ]
  },
  {
   "cell_type": "code",
   "execution_count": 103,
   "metadata": {},
   "outputs": [],
   "source": [
    "# Eliminando e renomeando colunas após a junção\n",
    "\n",
    "df_popidhm.drop(columns=['nm_municp'], axis=1, inplace=True)\n",
    "df_popidhm.drop(columns=['municp_codibge'], axis=1, inplace=True)\n",
    "df_popidhm.drop(columns=['municp_pop_total'], axis=1, inplace=True)\n",
    "\n",
    "df_popidhm = df_popidhm.rename(columns={'pop_estimada':'municp_populacao'})\n",
    "df_popidhm = df_popidhm.rename(columns={'cod_municp':'municp_codigo'})"
   ]
  },
  {
   "cell_type": "code",
   "execution_count": 104,
   "metadata": {},
   "outputs": [
    {
     "name": "stdout",
     "output_type": "stream",
     "text": [
      "<class 'pandas.core.frame.DataFrame'>\n",
      "Int64Index: 217 entries, 0 to 216\n",
      "Data columns (total 18 columns):\n",
      " #   Column                 Non-Null Count  Dtype  \n",
      "---  ------                 --------------  -----  \n",
      " 0   municp_populacao       217 non-null    int32  \n",
      " 1   municp_codigo          217 non-null    int32  \n",
      " 2   municp_qtdevac         217 non-null    int64  \n",
      " 3   municp_cobert          217 non-null    float64\n",
      " 4   municp_cod6            217 non-null    int64  \n",
      " 5   municp_nome            217 non-null    object \n",
      " 6   municp_mort_inf        217 non-null    float64\n",
      " 7   municp_tx_analf        217 non-null    float64\n",
      " 8   municp_rend_pcap       217 non-null    float64\n",
      " 9   municp_rend_med_ocup   217 non-null    float64\n",
      " 10  municp_domic_agua      217 non-null    float64\n",
      " 11  municp_domic_luz       217 non-null    float64\n",
      " 12  municp_domic_agua&esg  217 non-null    float64\n",
      " 13  municp_niv_escol_pop   217 non-null    float64\n",
      " 14  municp_idhm            217 non-null    float64\n",
      " 15  municp_idhm_educ       217 non-null    float64\n",
      " 16  municp_idhm_longev     217 non-null    float64\n",
      " 17  municp_idhm_renda      217 non-null    float64\n",
      "dtypes: float64(13), int32(2), int64(2), object(1)\n",
      "memory usage: 30.5+ KB\n"
     ]
    }
   ],
   "source": [
    "df_popidhm.info()"
   ]
  },
  {
   "cell_type": "code",
   "execution_count": 105,
   "metadata": {},
   "outputs": [
    {
     "data": {
      "text/plain": [
       "municp_populacao         0\n",
       "municp_codigo            0\n",
       "municp_qtdevac           0\n",
       "municp_cobert            0\n",
       "municp_cod6              0\n",
       "municp_nome              0\n",
       "municp_mort_inf          0\n",
       "municp_tx_analf          0\n",
       "municp_rend_pcap         0\n",
       "municp_rend_med_ocup     0\n",
       "municp_domic_agua        0\n",
       "municp_domic_luz         0\n",
       "municp_domic_agua&esg    0\n",
       "municp_niv_escol_pop     0\n",
       "municp_idhm              0\n",
       "municp_idhm_educ         0\n",
       "municp_idhm_longev       0\n",
       "municp_idhm_renda        0\n",
       "dtype: int64"
      ]
     },
     "execution_count": 105,
     "metadata": {},
     "output_type": "execute_result"
    }
   ],
   "source": [
    "df_popidhm.isnull().sum()"
   ]
  },
  {
   "cell_type": "code",
   "execution_count": null,
   "metadata": {},
   "outputs": [],
   "source": []
  },
  {
   "cell_type": "code",
   "execution_count": null,
   "metadata": {},
   "outputs": [],
   "source": []
  },
  {
   "cell_type": "markdown",
   "metadata": {},
   "source": [
    "### 3.5.2 Junção datasets PopIDHM e Registros de Vacinação"
   ]
  },
  {
   "cell_type": "code",
   "execution_count": 106,
   "metadata": {},
   "outputs": [
    {
     "name": "stdout",
     "output_type": "stream",
     "text": [
      "<class 'pandas.core.frame.DataFrame'>\n",
      "RangeIndex: 822693 entries, 0 to 822692\n",
      "Data columns (total 12 columns):\n",
      " #   Column               Non-Null Count   Dtype         \n",
      "---  ------               --------------   -----         \n",
      " 0   paciente_id          822693 non-null  object        \n",
      " 1   paciente_idade       822693 non-null  float64       \n",
      " 2   paciente_dt_nasc     822693 non-null  datetime64[ns]\n",
      " 3   paciente_sexo        822693 non-null  object        \n",
      " 4   paciente_raca        822693 non-null  object        \n",
      " 5   paciente_cod_municp  822693 non-null  object        \n",
      " 6   paciente_nm_municp   822693 non-null  object        \n",
      " 7   paciente_categoria   822371 non-null  object        \n",
      " 8   vacina_nm_municp     822693 non-null  object        \n",
      " 9   vacina_dt_aplic      822693 non-null  datetime64[ns]\n",
      " 10  vacina_desc_dose     822693 non-null  object        \n",
      " 11  vacina_nome          822693 non-null  object        \n",
      "dtypes: datetime64[ns](2), float64(1), object(9)\n",
      "memory usage: 75.3+ MB\n"
     ]
    }
   ],
   "source": [
    "df_regvac3.info()"
   ]
  },
  {
   "cell_type": "code",
   "execution_count": 107,
   "metadata": {},
   "outputs": [
    {
     "name": "stdout",
     "output_type": "stream",
     "text": [
      "<class 'pandas.core.frame.DataFrame'>\n",
      "Int64Index: 217 entries, 0 to 216\n",
      "Data columns (total 18 columns):\n",
      " #   Column                 Non-Null Count  Dtype  \n",
      "---  ------                 --------------  -----  \n",
      " 0   municp_populacao       217 non-null    int32  \n",
      " 1   municp_codigo          217 non-null    int32  \n",
      " 2   municp_qtdevac         217 non-null    int64  \n",
      " 3   municp_cobert          217 non-null    float64\n",
      " 4   municp_cod6            217 non-null    int64  \n",
      " 5   municp_nome            217 non-null    object \n",
      " 6   municp_mort_inf        217 non-null    float64\n",
      " 7   municp_tx_analf        217 non-null    float64\n",
      " 8   municp_rend_pcap       217 non-null    float64\n",
      " 9   municp_rend_med_ocup   217 non-null    float64\n",
      " 10  municp_domic_agua      217 non-null    float64\n",
      " 11  municp_domic_luz       217 non-null    float64\n",
      " 12  municp_domic_agua&esg  217 non-null    float64\n",
      " 13  municp_niv_escol_pop   217 non-null    float64\n",
      " 14  municp_idhm            217 non-null    float64\n",
      " 15  municp_idhm_educ       217 non-null    float64\n",
      " 16  municp_idhm_longev     217 non-null    float64\n",
      " 17  municp_idhm_renda      217 non-null    float64\n",
      "dtypes: float64(13), int32(2), int64(2), object(1)\n",
      "memory usage: 30.5+ KB\n"
     ]
    }
   ],
   "source": [
    "df_popidhm.info()"
   ]
  },
  {
   "cell_type": "code",
   "execution_count": 108,
   "metadata": {},
   "outputs": [],
   "source": [
    "df_regvac3['paciente_cod_municp'] = df_regvac3['paciente_cod_municp'].astype(int)"
   ]
  },
  {
   "cell_type": "code",
   "execution_count": 109,
   "metadata": {},
   "outputs": [],
   "source": [
    "# Junção dos Datasets\n",
    "df_regvac_final = df_regvac3.merge(df_popidhm, left_on='paciente_cod_municp', right_on='municp_cod6', how='inner')"
   ]
  },
  {
   "cell_type": "code",
   "execution_count": 110,
   "metadata": {},
   "outputs": [
    {
     "data": {
      "text/html": [
       "<div>\n",
       "<style scoped>\n",
       "    .dataframe tbody tr th:only-of-type {\n",
       "        vertical-align: middle;\n",
       "    }\n",
       "\n",
       "    .dataframe tbody tr th {\n",
       "        vertical-align: top;\n",
       "    }\n",
       "\n",
       "    .dataframe thead th {\n",
       "        text-align: right;\n",
       "    }\n",
       "</style>\n",
       "<table border=\"1\" class=\"dataframe\">\n",
       "  <thead>\n",
       "    <tr style=\"text-align: right;\">\n",
       "      <th></th>\n",
       "      <th>paciente_id</th>\n",
       "      <th>paciente_idade</th>\n",
       "      <th>paciente_dt_nasc</th>\n",
       "      <th>paciente_sexo</th>\n",
       "      <th>paciente_raca</th>\n",
       "      <th>paciente_cod_municp</th>\n",
       "      <th>paciente_nm_municp</th>\n",
       "      <th>paciente_categoria</th>\n",
       "      <th>vacina_nm_municp</th>\n",
       "      <th>vacina_dt_aplic</th>\n",
       "      <th>...</th>\n",
       "      <th>municp_rend_pcap</th>\n",
       "      <th>municp_rend_med_ocup</th>\n",
       "      <th>municp_domic_agua</th>\n",
       "      <th>municp_domic_luz</th>\n",
       "      <th>municp_domic_agua&amp;esg</th>\n",
       "      <th>municp_niv_escol_pop</th>\n",
       "      <th>municp_idhm</th>\n",
       "      <th>municp_idhm_educ</th>\n",
       "      <th>municp_idhm_longev</th>\n",
       "      <th>municp_idhm_renda</th>\n",
       "    </tr>\n",
       "  </thead>\n",
       "  <tbody>\n",
       "    <tr>\n",
       "      <th>0</th>\n",
       "      <td>000012af7d1821b858c18ea6fa5979452a03a075f2b1de...</td>\n",
       "      <td>55.0</td>\n",
       "      <td>1966-09-02</td>\n",
       "      <td>M</td>\n",
       "      <td>SEM INFORMACAO</td>\n",
       "      <td>210330</td>\n",
       "      <td>CODO</td>\n",
       "      <td>Faixa Etária</td>\n",
       "      <td>CODO</td>\n",
       "      <td>2021-11-09</td>\n",
       "      <td>...</td>\n",
       "      <td>273.45</td>\n",
       "      <td>536.85</td>\n",
       "      <td>87.21</td>\n",
       "      <td>97.78</td>\n",
       "      <td>18.2</td>\n",
       "      <td>0.345</td>\n",
       "      <td>0.595</td>\n",
       "      <td>0.492</td>\n",
       "      <td>0.754</td>\n",
       "      <td>0.568</td>\n",
       "    </tr>\n",
       "    <tr>\n",
       "      <th>1</th>\n",
       "      <td>000a80f7e537109a5015e304d5fda828226c08ff31c409...</td>\n",
       "      <td>18.0</td>\n",
       "      <td>2003-02-06</td>\n",
       "      <td>F</td>\n",
       "      <td>SEM INFORMACAO</td>\n",
       "      <td>210330</td>\n",
       "      <td>CODO</td>\n",
       "      <td>Faixa Etária</td>\n",
       "      <td>CODO</td>\n",
       "      <td>2021-08-12</td>\n",
       "      <td>...</td>\n",
       "      <td>273.45</td>\n",
       "      <td>536.85</td>\n",
       "      <td>87.21</td>\n",
       "      <td>97.78</td>\n",
       "      <td>18.2</td>\n",
       "      <td>0.345</td>\n",
       "      <td>0.595</td>\n",
       "      <td>0.492</td>\n",
       "      <td>0.754</td>\n",
       "      <td>0.568</td>\n",
       "    </tr>\n",
       "    <tr>\n",
       "      <th>2</th>\n",
       "      <td>001ce9ee07bc3bd4d429f95a4e586bf151cb28fae35383...</td>\n",
       "      <td>22.0</td>\n",
       "      <td>1999-09-08</td>\n",
       "      <td>M</td>\n",
       "      <td>PRETA</td>\n",
       "      <td>210330</td>\n",
       "      <td>CODO</td>\n",
       "      <td>Faixa Etária</td>\n",
       "      <td>CODO</td>\n",
       "      <td>2021-09-23</td>\n",
       "      <td>...</td>\n",
       "      <td>273.45</td>\n",
       "      <td>536.85</td>\n",
       "      <td>87.21</td>\n",
       "      <td>97.78</td>\n",
       "      <td>18.2</td>\n",
       "      <td>0.345</td>\n",
       "      <td>0.595</td>\n",
       "      <td>0.492</td>\n",
       "      <td>0.754</td>\n",
       "      <td>0.568</td>\n",
       "    </tr>\n",
       "    <tr>\n",
       "      <th>3</th>\n",
       "      <td>0056fa0163c206ccd1a9fdf9c1ccc2a026a556f12f7b23...</td>\n",
       "      <td>30.0</td>\n",
       "      <td>1991-01-09</td>\n",
       "      <td>F</td>\n",
       "      <td>AMARELA</td>\n",
       "      <td>210330</td>\n",
       "      <td>CODO</td>\n",
       "      <td>Faixa Etária</td>\n",
       "      <td>CODO</td>\n",
       "      <td>2021-11-29</td>\n",
       "      <td>...</td>\n",
       "      <td>273.45</td>\n",
       "      <td>536.85</td>\n",
       "      <td>87.21</td>\n",
       "      <td>97.78</td>\n",
       "      <td>18.2</td>\n",
       "      <td>0.345</td>\n",
       "      <td>0.595</td>\n",
       "      <td>0.492</td>\n",
       "      <td>0.754</td>\n",
       "      <td>0.568</td>\n",
       "    </tr>\n",
       "    <tr>\n",
       "      <th>4</th>\n",
       "      <td>0078b467fdbb85896fbc89b515d0b4a90dd95690ffaec6...</td>\n",
       "      <td>92.0</td>\n",
       "      <td>1928-07-02</td>\n",
       "      <td>F</td>\n",
       "      <td>AMARELA</td>\n",
       "      <td>210330</td>\n",
       "      <td>CODO</td>\n",
       "      <td>Comorbidades</td>\n",
       "      <td>CODO</td>\n",
       "      <td>2021-04-07</td>\n",
       "      <td>...</td>\n",
       "      <td>273.45</td>\n",
       "      <td>536.85</td>\n",
       "      <td>87.21</td>\n",
       "      <td>97.78</td>\n",
       "      <td>18.2</td>\n",
       "      <td>0.345</td>\n",
       "      <td>0.595</td>\n",
       "      <td>0.492</td>\n",
       "      <td>0.754</td>\n",
       "      <td>0.568</td>\n",
       "    </tr>\n",
       "  </tbody>\n",
       "</table>\n",
       "<p>5 rows × 30 columns</p>\n",
       "</div>"
      ],
      "text/plain": [
       "                                         paciente_id  paciente_idade  \\\n",
       "0  000012af7d1821b858c18ea6fa5979452a03a075f2b1de...            55.0   \n",
       "1  000a80f7e537109a5015e304d5fda828226c08ff31c409...            18.0   \n",
       "2  001ce9ee07bc3bd4d429f95a4e586bf151cb28fae35383...            22.0   \n",
       "3  0056fa0163c206ccd1a9fdf9c1ccc2a026a556f12f7b23...            30.0   \n",
       "4  0078b467fdbb85896fbc89b515d0b4a90dd95690ffaec6...            92.0   \n",
       "\n",
       "  paciente_dt_nasc paciente_sexo   paciente_raca  paciente_cod_municp  \\\n",
       "0       1966-09-02             M  SEM INFORMACAO               210330   \n",
       "1       2003-02-06             F  SEM INFORMACAO               210330   \n",
       "2       1999-09-08             M           PRETA               210330   \n",
       "3       1991-01-09             F         AMARELA               210330   \n",
       "4       1928-07-02             F         AMARELA               210330   \n",
       "\n",
       "  paciente_nm_municp paciente_categoria vacina_nm_municp vacina_dt_aplic  ...  \\\n",
       "0               CODO       Faixa Etária             CODO      2021-11-09  ...   \n",
       "1               CODO       Faixa Etária             CODO      2021-08-12  ...   \n",
       "2               CODO       Faixa Etária             CODO      2021-09-23  ...   \n",
       "3               CODO       Faixa Etária             CODO      2021-11-29  ...   \n",
       "4               CODO       Comorbidades             CODO      2021-04-07  ...   \n",
       "\n",
       "  municp_rend_pcap municp_rend_med_ocup  municp_domic_agua  municp_domic_luz  \\\n",
       "0           273.45               536.85              87.21             97.78   \n",
       "1           273.45               536.85              87.21             97.78   \n",
       "2           273.45               536.85              87.21             97.78   \n",
       "3           273.45               536.85              87.21             97.78   \n",
       "4           273.45               536.85              87.21             97.78   \n",
       "\n",
       "   municp_domic_agua&esg  municp_niv_escol_pop  municp_idhm municp_idhm_educ  \\\n",
       "0                   18.2                 0.345        0.595            0.492   \n",
       "1                   18.2                 0.345        0.595            0.492   \n",
       "2                   18.2                 0.345        0.595            0.492   \n",
       "3                   18.2                 0.345        0.595            0.492   \n",
       "4                   18.2                 0.345        0.595            0.492   \n",
       "\n",
       "   municp_idhm_longev  municp_idhm_renda  \n",
       "0               0.754              0.568  \n",
       "1               0.754              0.568  \n",
       "2               0.754              0.568  \n",
       "3               0.754              0.568  \n",
       "4               0.754              0.568  \n",
       "\n",
       "[5 rows x 30 columns]"
      ]
     },
     "execution_count": 110,
     "metadata": {},
     "output_type": "execute_result"
    }
   ],
   "source": [
    "df_regvac_final.head()"
   ]
  },
  {
   "cell_type": "code",
   "execution_count": 111,
   "metadata": {},
   "outputs": [
    {
     "name": "stdout",
     "output_type": "stream",
     "text": [
      "       municp_nome  paciente_cod_municp  municp_cod6  municp_codigo\n",
      "0             CODÓ               210330       210330        2103307\n",
      "1             CODÓ               210330       210330        2103307\n",
      "2             CODÓ               210330       210330        2103307\n",
      "3             CODÓ               210330       210330        2103307\n",
      "4             CODÓ               210330       210330        2103307\n",
      "...            ...                  ...          ...            ...\n",
      "736999  BACURITUBA               210135       210135        2101350\n",
      "737000  BACURITUBA               210135       210135        2101350\n",
      "737001  BACURITUBA               210135       210135        2101350\n",
      "737002  BACURITUBA               210135       210135        2101350\n",
      "737003  BACURITUBA               210135       210135        2101350\n",
      "\n",
      "[737004 rows x 4 columns] /n\n"
     ]
    }
   ],
   "source": [
    "print(df_regvac_final.loc[:,['municp_nome','paciente_cod_municp','municp_cod6','municp_codigo']],'/n')"
   ]
  },
  {
   "cell_type": "code",
   "execution_count": 112,
   "metadata": {},
   "outputs": [],
   "source": [
    "# Eliminando colunas do atributo código do municipio usadas exclusivamente para a junção dos datasets\n",
    "df_regvac_final.drop(columns=['paciente_cod_municp','municp_cod6'], axis=1, inplace=True)"
   ]
  },
  {
   "cell_type": "code",
   "execution_count": null,
   "metadata": {},
   "outputs": [],
   "source": []
  },
  {
   "cell_type": "code",
   "execution_count": 113,
   "metadata": {},
   "outputs": [
    {
     "name": "stdout",
     "output_type": "stream",
     "text": [
      "<class 'pandas.core.frame.DataFrame'>\n",
      "Int64Index: 737004 entries, 0 to 737003\n",
      "Data columns (total 28 columns):\n",
      " #   Column                 Non-Null Count   Dtype         \n",
      "---  ------                 --------------   -----         \n",
      " 0   paciente_id            737004 non-null  object        \n",
      " 1   paciente_idade         737004 non-null  float64       \n",
      " 2   paciente_dt_nasc       737004 non-null  datetime64[ns]\n",
      " 3   paciente_sexo          737004 non-null  object        \n",
      " 4   paciente_raca          737004 non-null  object        \n",
      " 5   paciente_nm_municp     737004 non-null  object        \n",
      " 6   paciente_categoria     736696 non-null  object        \n",
      " 7   vacina_nm_municp       737004 non-null  object        \n",
      " 8   vacina_dt_aplic        737004 non-null  datetime64[ns]\n",
      " 9   vacina_desc_dose       737004 non-null  object        \n",
      " 10  vacina_nome            737004 non-null  object        \n",
      " 11  municp_populacao       737004 non-null  int32         \n",
      " 12  municp_codigo          737004 non-null  int32         \n",
      " 13  municp_qtdevac         737004 non-null  int64         \n",
      " 14  municp_cobert          737004 non-null  float64       \n",
      " 15  municp_nome            737004 non-null  object        \n",
      " 16  municp_mort_inf        737004 non-null  float64       \n",
      " 17  municp_tx_analf        737004 non-null  float64       \n",
      " 18  municp_rend_pcap       737004 non-null  float64       \n",
      " 19  municp_rend_med_ocup   737004 non-null  float64       \n",
      " 20  municp_domic_agua      737004 non-null  float64       \n",
      " 21  municp_domic_luz       737004 non-null  float64       \n",
      " 22  municp_domic_agua&esg  737004 non-null  float64       \n",
      " 23  municp_niv_escol_pop   737004 non-null  float64       \n",
      " 24  municp_idhm            737004 non-null  float64       \n",
      " 25  municp_idhm_educ       737004 non-null  float64       \n",
      " 26  municp_idhm_longev     737004 non-null  float64       \n",
      " 27  municp_idhm_renda      737004 non-null  float64       \n",
      "dtypes: datetime64[ns](2), float64(14), int32(2), int64(1), object(9)\n",
      "memory usage: 157.4+ MB\n"
     ]
    }
   ],
   "source": [
    "df_regvac_final.info()"
   ]
  },
  {
   "cell_type": "markdown",
   "metadata": {},
   "source": [
    "Dataset final da fase tratamento de dados.\n",
    "\n",
    "##### Este será nosso dataset de estudo. "
   ]
  },
  {
   "cell_type": "code",
   "execution_count": null,
   "metadata": {},
   "outputs": [],
   "source": []
  },
  {
   "cell_type": "code",
   "execution_count": 114,
   "metadata": {},
   "outputs": [],
   "source": [
    "# Exportação do dataset em formato csv\n",
    "df_regvac_final.to_csv('RegVacinaMA_TratDados.csv')"
   ]
  },
  {
   "cell_type": "code",
   "execution_count": null,
   "metadata": {},
   "outputs": [],
   "source": []
  },
  {
   "cell_type": "code",
   "execution_count": null,
   "metadata": {},
   "outputs": [],
   "source": []
  }
 ],
 "metadata": {
  "kernelspec": {
   "display_name": "Python 3",
   "language": "python",
   "name": "python3"
  },
  "language_info": {
   "codemirror_mode": {
    "name": "ipython",
    "version": 3
   },
   "file_extension": ".py",
   "mimetype": "text/x-python",
   "name": "python",
   "nbconvert_exporter": "python",
   "pygments_lexer": "ipython3",
   "version": "3.8.5"
  }
 },
 "nbformat": 4,
 "nbformat_minor": 4
}
