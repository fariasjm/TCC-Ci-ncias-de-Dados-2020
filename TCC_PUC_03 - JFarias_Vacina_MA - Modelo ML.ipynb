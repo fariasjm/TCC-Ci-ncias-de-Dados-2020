{
 "cells": [
  {
   "cell_type": "markdown",
   "metadata": {},
   "source": [
    "# **PONTIFÍCIA UNIVERSIDADE CATÓLICA DE MINAS GERAIS - NÚCLEO DE EDUCAÇÃO A DISTÂNCIA**\n",
    "\n",
    "### Pós-graduação Lato Sensu em Ciência de Dados e Big Data"
   ]
  },
  {
   "cell_type": "markdown",
   "metadata": {},
   "source": [
    "# Clusterização do índice de vacinação no estado do Maranhão com base em indicadores Sócio-econômicos"
   ]
  },
  {
   "cell_type": "markdown",
   "metadata": {},
   "source": [
    "### Aluno: José de Ribamar Mendes Farias"
   ]
  },
  {
   "cell_type": "code",
   "execution_count": null,
   "metadata": {},
   "outputs": [],
   "source": []
  },
  {
   "cell_type": "markdown",
   "metadata": {},
   "source": [
    "## 5. Criação de Modelos de Machine Learning"
   ]
  },
  {
   "cell_type": "code",
   "execution_count": null,
   "metadata": {},
   "outputs": [],
   "source": []
  },
  {
   "cell_type": "markdown",
   "metadata": {},
   "source": [
    "Nesta fase usaremos o arquivo RegVacinaMA_AED.csv, criado no notebook TCC_PUC_02 - Vacina_MA - AED.ipynb"
   ]
  },
  {
   "cell_type": "markdown",
   "metadata": {},
   "source": [
    "## 5.1 Bibliotecas"
   ]
  },
  {
   "cell_type": "code",
   "execution_count": null,
   "metadata": {},
   "outputs": [],
   "source": [
    "#pip install scikit-fuzzy --upgrade"
   ]
  },
  {
   "cell_type": "code",
   "execution_count": 1,
   "metadata": {},
   "outputs": [],
   "source": [
    "import pandas as pd\n",
    "from datetime import datetime, date\n",
    "import numpy as np\n",
    "import seaborn as sns\n",
    "\n",
    "import matplotlib.pyplot as plt\n",
    "get_ipython().run_line_magic('matplotlib', 'inline')\n",
    "\n",
    "from matplotlib import pyplot as plt\n",
    "import scipy.cluster.hierarchy as sch\n",
    "\n",
    "from sklearn import metrics\n",
    "from sklearn.cluster import AgglomerativeClustering, KMeans\n",
    "from sklearn.cluster import KMeans\n",
    "import skfuzzy\n",
    "\n",
    "from sklearn.preprocessing import StandardScaler\n",
    "from sklearn.preprocessing import LabelEncoder\n",
    "\n",
    "import warnings\n",
    "warnings.filterwarnings('ignore')"
   ]
  },
  {
   "cell_type": "code",
   "execution_count": null,
   "metadata": {},
   "outputs": [],
   "source": []
  },
  {
   "cell_type": "markdown",
   "metadata": {},
   "source": [
    "## 4.2 Carregando a planilha de trabalho"
   ]
  },
  {
   "cell_type": "code",
   "execution_count": 2,
   "metadata": {},
   "outputs": [],
   "source": [
    "# Carregando a planilha registros da vacinação Covid-19/MA\n",
    "df_mml = pd.read_csv('RegVacinaMA_AED.csv', encoding='utf-8', sep=',', header=0, low_memory=False)"
   ]
  },
  {
   "cell_type": "code",
   "execution_count": 3,
   "metadata": {},
   "outputs": [
    {
     "name": "stdout",
     "output_type": "stream",
     "text": [
      "<class 'pandas.core.frame.DataFrame'>\n",
      "RangeIndex: 737003 entries, 0 to 737002\n",
      "Data columns (total 29 columns):\n",
      " #   Column                    Non-Null Count   Dtype  \n",
      "---  ------                    --------------   -----  \n",
      " 0   paciente_id               737003 non-null  object \n",
      " 1   paciente_idade            737003 non-null  float64\n",
      " 2   paciente_dt_nasc          737003 non-null  object \n",
      " 3   paciente_sexo             737003 non-null  object \n",
      " 4   paciente_raca             737003 non-null  object \n",
      " 5   paciente_nm_municp        737003 non-null  object \n",
      " 6   paciente_categoria        736695 non-null  object \n",
      " 7   vacina_nm_municp          737003 non-null  object \n",
      " 8   vacina_dt_aplic           737003 non-null  object \n",
      " 9   vacina_desc_dose          737003 non-null  object \n",
      " 10  vacina_nome               737003 non-null  object \n",
      " 11  municp_populacao          737003 non-null  int64  \n",
      " 12  municp_codigo             737003 non-null  int64  \n",
      " 13  municp_qtdevac            737003 non-null  int64  \n",
      " 14  municp_cobert             737003 non-null  float64\n",
      " 15  municp_nome               737003 non-null  object \n",
      " 16  municp_mort_inf           737003 non-null  float64\n",
      " 17  municp_tx_analf           737003 non-null  float64\n",
      " 18  municp_domic_agua&esg     737003 non-null  float64\n",
      " 19  municp_idhm               737003 non-null  float64\n",
      " 20  municp_idhm_educ          737003 non-null  float64\n",
      " 21  municp_idhm_longev        737003 non-null  float64\n",
      " 22  municp_idhm_renda         737003 non-null  float64\n",
      " 23  paciente_class_idade      737003 non-null  object \n",
      " 24  vacina_dose_mes           737003 non-null  object \n",
      " 25  municp_idhm_class         737003 non-null  object \n",
      " 26  municp_idhm_class_educ    737003 non-null  object \n",
      " 27  municp_idhm_class_longev  737003 non-null  object \n",
      " 28  municp_idhm_class_renda   737003 non-null  object \n",
      "dtypes: float64(9), int64(3), object(17)\n",
      "memory usage: 163.1+ MB\n"
     ]
    }
   ],
   "source": [
    "# Examinando o dataset\n",
    "df_mml.columns = df_mml.columns.str.replace(' ', '')\n",
    "df_mml.drop(columns=['Unnamed:0'], axis=1, inplace=True)\n",
    "df_mml.info()"
   ]
  },
  {
   "cell_type": "code",
   "execution_count": 4,
   "metadata": {},
   "outputs": [],
   "source": [
    "df_mml2 = df_mml.drop(columns=['paciente_id', 'paciente_idade', 'paciente_dt_nasc', 'paciente_sexo','paciente_raca',\n",
    "                               'paciente_nm_municp','paciente_categoria','vacina_nm_municp','vacina_dt_aplic',\n",
    "                               'vacina_desc_dose','vacina_nome','paciente_class_idade','paciente_class_idade',\n",
    "                               'vacina_dose_mes','municp_codigo','municp_mort_inf','municp_tx_analf','municp_domic_agua&esg',\n",
    "                               'municp_idhm_educ','municp_idhm_longev','municp_idhm_renda','municp_idhm_class_educ',\n",
    "                               'municp_idhm_class_longev','municp_idhm_class_renda'])"
   ]
  },
  {
   "cell_type": "code",
   "execution_count": 5,
   "metadata": {},
   "outputs": [],
   "source": [
    "ck_duplic = ['municp_populacao','municp_qtdevac','municp_cobert','municp_nome','municp_idhm']\n",
    "df_mml2 = df_mml2.drop_duplicates(subset=ck_duplic, keep='first', inplace=False)\n",
    "df_mml2 = df_mml2.reset_index(drop=True)"
   ]
  },
  {
   "cell_type": "code",
   "execution_count": 6,
   "metadata": {},
   "outputs": [
    {
     "name": "stdout",
     "output_type": "stream",
     "text": [
      "<class 'pandas.core.frame.DataFrame'>\n",
      "RangeIndex: 217 entries, 0 to 216\n",
      "Data columns (total 6 columns):\n",
      " #   Column             Non-Null Count  Dtype  \n",
      "---  ------             --------------  -----  \n",
      " 0   municp_populacao   217 non-null    int64  \n",
      " 1   municp_qtdevac     217 non-null    int64  \n",
      " 2   municp_cobert      217 non-null    float64\n",
      " 3   municp_nome        217 non-null    object \n",
      " 4   municp_idhm        217 non-null    float64\n",
      " 5   municp_idhm_class  217 non-null    object \n",
      "dtypes: float64(2), int64(2), object(2)\n",
      "memory usage: 10.3+ KB\n"
     ]
    }
   ],
   "source": [
    "df_mml2.info()"
   ]
  },
  {
   "cell_type": "code",
   "execution_count": 7,
   "metadata": {},
   "outputs": [],
   "source": [
    "df_mmlX = df_mml2.drop(columns=['municp_populacao','municp_qtdevac','municp_nome','municp_idhm_class'])"
   ]
  },
  {
   "cell_type": "code",
   "execution_count": 8,
   "metadata": {},
   "outputs": [],
   "source": [
    "df_mmlX_bk = df_mmlX.copy"
   ]
  },
  {
   "cell_type": "code",
   "execution_count": 9,
   "metadata": {},
   "outputs": [
    {
     "name": "stdout",
     "output_type": "stream",
     "text": [
      "<class 'pandas.core.frame.DataFrame'>\n",
      "RangeIndex: 217 entries, 0 to 216\n",
      "Data columns (total 2 columns):\n",
      " #   Column         Non-Null Count  Dtype  \n",
      "---  ------         --------------  -----  \n",
      " 0   municp_cobert  217 non-null    float64\n",
      " 1   municp_idhm    217 non-null    float64\n",
      "dtypes: float64(2)\n",
      "memory usage: 3.5 KB\n"
     ]
    }
   ],
   "source": [
    "df_mmlX.info()"
   ]
  },
  {
   "cell_type": "code",
   "execution_count": null,
   "metadata": {},
   "outputs": [],
   "source": []
  },
  {
   "cell_type": "code",
   "execution_count": null,
   "metadata": {},
   "outputs": [],
   "source": []
  },
  {
   "cell_type": "markdown",
   "metadata": {},
   "source": [
    "## Os métodos de agrupamento de dados podem ser divididos em duas grandes categorias:\n",
    "\n",
    "   - Métodos Hierárquicos\n",
    "   - Métodos Posicionais"
   ]
  },
  {
   "cell_type": "markdown",
   "metadata": {},
   "source": [
    "## 4.3  Algoritmos Hierárquicos"
   ]
  },
  {
   "cell_type": "markdown",
   "metadata": {},
   "source": [
    "## 4.3.1 Algoritmo Dendrograma"
   ]
  },
  {
   "cell_type": "code",
   "execution_count": null,
   "metadata": {},
   "outputs": [],
   "source": [
    "# Dispersão dos dados\n",
    "\n",
    "plt.subplots(figsize=(10,8))\n",
    "plt.scatter(df_mmlX['municp_idhm'], df_mmlX['municp_cobert'], marker='o', c='blue', alpha=0.7)\n",
    "plt.title('Dispersão dos dados')\n",
    "plt.xlabel('Cobertura Vacinal')\n",
    "plt.ylabel('Índice IDHM')\n",
    "\n",
    "sns.despine()"
   ]
  },
  {
   "cell_type": "code",
   "execution_count": null,
   "metadata": {},
   "outputs": [],
   "source": [
    "schX = sch.linkage(df_mmlX, 'ward')\n",
    "\n",
    "plt.figure(figsize=(10, 8))\n",
    "plt.grid(axis='y')\n",
    "plt.title('Clusters dos dados')\n",
    "plt.xticks(rotation=90)\n",
    "denX = sch.dendrogram(schX, labels=list(df_mmlX.index))"
   ]
  },
  {
   "cell_type": "code",
   "execution_count": null,
   "metadata": {},
   "outputs": [],
   "source": [
    "n_clusters = 3\n",
    "cluster = AgglomerativeClustering(n_clusters=n_clusters, affinity='euclidean', linkage='ward')\n",
    "den_cluster = cluster.fit_predict(df_mmlX)\n",
    "den_cluster"
   ]
  },
  {
   "cell_type": "code",
   "execution_count": null,
   "metadata": {},
   "outputs": [],
   "source": [
    "n_clusters"
   ]
  },
  {
   "cell_type": "code",
   "execution_count": null,
   "metadata": {},
   "outputs": [],
   "source": [
    "mun_nome = list(df_mml2.municp_nome)\n",
    "mun_group = {i: [] for i in range(n_clusters)}\n",
    "\n",
    "for mun, grp in zip(mun_nome, den_cluster):\n",
    "    mun_group[grp].append(mun)\n",
    "\n",
    "for gp, ctr in mun_group.items():\n",
    "    print(f'Cluster {gp}: {ctr}\\n')"
   ]
  },
  {
   "cell_type": "code",
   "execution_count": null,
   "metadata": {},
   "outputs": [],
   "source": [
    "# Copiando base para a etapa de análise de cluster\n",
    "df_dend = df_mml2.copy()"
   ]
  },
  {
   "cell_type": "code",
   "execution_count": null,
   "metadata": {},
   "outputs": [],
   "source": [
    "for i in range(len(den_cluster)):\n",
    "     df_dend['cluster'] = den_cluster"
   ]
  },
  {
   "cell_type": "code",
   "execution_count": null,
   "metadata": {},
   "outputs": [],
   "source": [
    "df_dend.cluster.value_counts()"
   ]
  },
  {
   "cell_type": "code",
   "execution_count": null,
   "metadata": {},
   "outputs": [],
   "source": [
    "# Visualização da quantidade de municípios por cluster\n",
    "\n",
    "plt.subplots(figsize=(10, 4))\n",
    "sns.countplot(x=den_cluster, palette = 'Blues')\n",
    "plt.title('Quantidade de municípios por cluster', fontsize = 14)\n",
    "plt.xlabel('Clusters')\n",
    "plt.ylabel('Quantidade')\n",
    "plt.show()"
   ]
  },
  {
   "cell_type": "code",
   "execution_count": null,
   "metadata": {},
   "outputs": [],
   "source": []
  },
  {
   "cell_type": "code",
   "execution_count": null,
   "metadata": {},
   "outputs": [],
   "source": []
  },
  {
   "cell_type": "markdown",
   "metadata": {},
   "source": [
    "## 4.4  Algoritmos Particionais"
   ]
  },
  {
   "cell_type": "markdown",
   "metadata": {},
   "source": [
    "## 4.4.1 Fuzzy C-Means (FCM)"
   ]
  },
  {
   "cell_type": "code",
   "execution_count": null,
   "metadata": {},
   "outputs": [],
   "source": [
    "df_X = df_mmlX[['municp_idhm','municp_cobert']]"
   ]
  },
  {
   "cell_type": "code",
   "execution_count": null,
   "metadata": {},
   "outputs": [],
   "source": [
    "# Dispersão dos dados\n",
    "\n",
    "plt.subplots(figsize=(10,8))\n",
    "plt.scatter(df_X['municp_idhm'], df_X['municp_cobert'], marker='o', c='brown', alpha=0.7)\n",
    "plt.title('Dispersão dos dados')\n",
    "plt.xlabel('Cobertura Vacinal')\n",
    "plt.ylabel('Índice de Vacinados')\n",
    "\n",
    "sns.despine()"
   ]
  },
  {
   "cell_type": "code",
   "execution_count": null,
   "metadata": {},
   "outputs": [],
   "source": [
    "# Normalizando os valores\n",
    "f_scaler = StandardScaler()\n",
    "df_norm = f_scaler.fit_transform(df_X)"
   ]
  },
  {
   "cell_type": "code",
   "execution_count": null,
   "metadata": {},
   "outputs": [],
   "source": [
    "f_fuzzy = skfuzzy.cmeans(data = df_norm.T, c = 3, m = 2, error=0.005, maxiter=1000, init=None)\n",
    "#f_fuzzy"
   ]
  },
  {
   "cell_type": "code",
   "execution_count": null,
   "metadata": {},
   "outputs": [],
   "source": [
    "c0 = f_fuzzy[0]\n",
    "c0"
   ]
  },
  {
   "cell_type": "code",
   "execution_count": null,
   "metadata": {},
   "outputs": [],
   "source": [
    "c0.shape"
   ]
  },
  {
   "cell_type": "code",
   "execution_count": null,
   "metadata": {},
   "outputs": [],
   "source": [
    "f_cluster1 = f_fuzzy[1]\n",
    "f_cluster1"
   ]
  },
  {
   "cell_type": "code",
   "execution_count": null,
   "metadata": {},
   "outputs": [],
   "source": [
    "f_cluster1.shape"
   ]
  },
  {
   "cell_type": "code",
   "execution_count": null,
   "metadata": {},
   "outputs": [],
   "source": [
    "tot_cluster = f_cluster1.argmax(axis=0)\n",
    "tot_cluster"
   ]
  },
  {
   "cell_type": "code",
   "execution_count": null,
   "metadata": {},
   "outputs": [],
   "source": [
    "# Copiando base para a etapa de análise de cluster\n",
    "df_fuzzy = df_mml2.copy()"
   ]
  },
  {
   "cell_type": "code",
   "execution_count": null,
   "metadata": {},
   "outputs": [],
   "source": [
    "for i in range(len(tot_cluster)):\n",
    "    df_fuzzy['cluster'] = tot_cluster"
   ]
  },
  {
   "cell_type": "code",
   "execution_count": null,
   "metadata": {},
   "outputs": [],
   "source": [
    "df_fuzzy.cluster.value_counts()"
   ]
  },
  {
   "cell_type": "code",
   "execution_count": null,
   "metadata": {},
   "outputs": [],
   "source": [
    "#plt.figure(figsize=(8, 6))\n",
    "\n",
    "plt.scatter(df_norm[tot_cluster == 0, 0], df_norm[tot_cluster == 0, 1], s=100, c='red', label='Cluster 1')\n",
    "plt.scatter(df_norm[tot_cluster == 1, 0], df_norm[tot_cluster == 1, 1], s=100, c='blue', label='Cluster 2')\n",
    "plt.scatter(df_norm[tot_cluster == 2, 0], df_norm[tot_cluster == 2, 1], s=100, c='green', label='Cluster 3')\n",
    "\n",
    "plt.title('Algoritmo Fuzzy C-Means\\n (Clusters=3)')\n",
    "plt.xlabel('Cobertura vacinal')\n",
    "plt.ylabel('Índice de Vacinados')\n",
    "plt.legend()"
   ]
  },
  {
   "cell_type": "code",
   "execution_count": null,
   "metadata": {},
   "outputs": [],
   "source": [
    "# Visualização da quantidade de municípios por cluster\n",
    "\n",
    "plt.subplots(figsize=(10, 4))\n",
    "sns.countplot(x=tot_cluster, palette = 'Blues')\n",
    "plt.title('Quantidade de municípios por cluster', fontsize = 14)\n",
    "plt.xlabel('Clusters')\n",
    "plt.ylabel('Quantidade')\n",
    "plt.show()"
   ]
  },
  {
   "cell_type": "code",
   "execution_count": null,
   "metadata": {},
   "outputs": [],
   "source": []
  },
  {
   "cell_type": "code",
   "execution_count": null,
   "metadata": {},
   "outputs": [],
   "source": []
  },
  {
   "cell_type": "markdown",
   "metadata": {},
   "source": [
    "## 4.4.2 Algoritmo K-Means"
   ]
  },
  {
   "cell_type": "markdown",
   "metadata": {},
   "source": [
    "### 4.4.2.1 Preparando modelo"
   ]
  },
  {
   "cell_type": "code",
   "execution_count": 11,
   "metadata": {},
   "outputs": [],
   "source": [
    "# Normalizando os valores\n",
    "#f_scaler = StandardScaler()\n",
    "#df_norm = f_scaler.fit_transform(df_X)"
   ]
  },
  {
   "cell_type": "code",
   "execution_count": 12,
   "metadata": {},
   "outputs": [],
   "source": [
    "# Normalizando os valores\n",
    "df_kmeans = df_mmlX\n",
    "df_norm = StandardScaler().fit_transform(df_kmeans)"
   ]
  },
  {
   "cell_type": "code",
   "execution_count": 14,
   "metadata": {},
   "outputs": [],
   "source": [
    "# Testando valores para k\n",
    "inertias = []\n",
    "for k in np.arange(1, 12):\n",
    "    kmeans = KMeans(n_clusters=k)\n",
    "    kmeans.fit(df_kmeans)\n",
    "    inertias.append(kmeans.inertia_)"
   ]
  },
  {
   "cell_type": "code",
   "execution_count": 15,
   "metadata": {},
   "outputs": [
    {
     "data": {
      "image/png": "[encoded data removed]",
      "text/plain": [
       "<Figure size 576x432 with 1 Axes>"
      ]
     },
     "metadata": {
      "needs_background": "light"
     },
     "output_type": "display_data"
    }
   ],
   "source": [
    "# Plotando o gráfico do Elbow Method\n",
    "plt.figure(figsize=(8, 6))\n",
    "plt.plot(np.arange(1, 12), inertias, marker='o')\n",
    "plt.title('Método Elbow (Cotovelo)')\n",
    "plt.xlabel('Numero de clusters')\n",
    "plt.ylabel('Inertia');"
   ]
  },
  {
   "cell_type": "code",
   "execution_count": null,
   "metadata": {},
   "outputs": [],
   "source": []
  },
  {
   "cell_type": "markdown",
   "metadata": {},
   "source": [
    "### 4.4.2.2 Aplicando modelo"
   ]
  },
  {
   "cell_type": "code",
   "execution_count": 16,
   "metadata": {},
   "outputs": [
    {
     "data": {
      "text/plain": [
       "array([1, 1, 0, 1, 3, 3, 3, 0, 1, 1, 2, 1, 2, 3, 3, 3, 1, 1, 2, 3, 1, 1,\n",
       "       1, 0, 0, 0, 0, 1, 0, 0, 2, 1, 1, 2, 0, 0, 1, 0, 2, 1, 0, 0, 0, 1,\n",
       "       0, 0, 1, 0, 0, 3, 1, 0, 3, 3, 3, 3, 1, 0, 0, 1, 1, 1, 1, 0, 1, 3,\n",
       "       1, 0, 2, 0, 3, 0, 1, 1, 1, 1, 1, 0, 0, 3, 1, 3, 1, 0, 1, 0, 0, 0,\n",
       "       0, 0, 0, 2, 1, 0, 1, 2, 3, 1, 1, 1, 1, 1, 3, 1, 0, 0, 0, 0, 2, 0,\n",
       "       0, 0, 3, 1, 1, 1, 1, 1, 0, 0, 0, 3, 1, 0, 2, 0, 2, 1, 1, 1, 3, 1,\n",
       "       0, 2, 1, 0, 1, 0, 0, 1, 1, 0, 1, 3, 3, 2, 0, 1, 2, 0, 2, 1, 1, 0,\n",
       "       1, 2, 0, 1, 1, 1, 0, 1, 1, 1, 0, 1, 2, 1, 0, 3, 1, 3, 3, 1, 0, 2,\n",
       "       2, 0, 1, 0, 1, 1, 0, 1, 1, 2, 1, 1, 1, 1, 3, 1, 1, 3, 3, 2, 3, 3,\n",
       "       0, 1, 1, 1, 0, 0, 1, 1, 2, 3, 3, 1, 3, 1, 1, 3, 2, 2, 1])"
      ]
     },
     "execution_count": 16,
     "metadata": {},
     "output_type": "execute_result"
    }
   ],
   "source": [
    "# Aplicando algoritmo k-means com o número de clusters = 4\n",
    "nclusters = 4\n",
    "kmeans = KMeans(n_clusters=nclusters)\n",
    "\n",
    "df_kmcluster = df_kmeans\n",
    "df_kmcluster['cluster'] = kmeans.fit_predict(df_kmeans)\n",
    "\n",
    "kmeans.cluster_centers_\n",
    "kmeans.labels_"
   ]
  },
  {
   "cell_type": "code",
   "execution_count": 18,
   "metadata": {},
   "outputs": [
    {
     "data": {
      "text/plain": [
       "1    91\n",
       "0    66\n",
       "3    35\n",
       "2    25\n",
       "Name: cluster, dtype: int64"
      ]
     },
     "execution_count": 18,
     "metadata": {},
     "output_type": "execute_result"
    }
   ],
   "source": [
    "df_kmcluster.cluster.value_counts()"
   ]
  },
  {
   "cell_type": "code",
   "execution_count": 19,
   "metadata": {},
   "outputs": [
    {
     "data": {
      "image/png": "[encoded data removed]",
      "text/plain": [
       "<Figure size 720x288 with 1 Axes>"
      ]
     },
     "metadata": {
      "needs_background": "light"
     },
     "output_type": "display_data"
    }
   ],
   "source": [
    "# Visualização da quantidade de municípios por cluster\n",
    "\n",
    "plt.subplots(figsize=(10, 4))\n",
    "sns.countplot(x='cluster', data=df_kmcluster, palette = 'Blues')\n",
    "plt.title('Quantidade de municípios por cluster', fontsize = 14)\n",
    "plt.xlabel('Clusters')\n",
    "plt.ylabel('Quantidade')\n",
    "plt.show()"
   ]
  },
  {
   "cell_type": "code",
   "execution_count": 20,
   "metadata": {},
   "outputs": [
    {
     "data": {
      "image/png": "[encoded data removed]",
      "text/plain": [
       "<Figure size 720x576 with 1 Axes>"
      ]
     },
     "metadata": {
      "needs_background": "light"
     },
     "output_type": "display_data"
    }
   ],
   "source": [
    "# Visualizando IDHM x cobertura vacinal\n",
    "plt.subplots(figsize=(10,8))\n",
    "plt.scatter(df_kmcluster['municp_idhm'], df_kmcluster['municp_cobert'], c=kmeans.labels_, s=50)\n",
    "plt.scatter(kmeans.cluster_centers_[:,1], kmeans.cluster_centers_[:,0],  c='blue', marker='o', label='Centroides', s = 50)\n",
    "plt.title('Algoritmo K-Means\\n (nº clusters = 4)')\n",
    "plt.xlabel('Cobertura Vacinal')\n",
    "plt.ylabel('Índice de Vacinados')\n",
    "plt.legend(title=' ', loc=4)\n",
    "plt.show()"
   ]
  },
  {
   "cell_type": "code",
   "execution_count": null,
   "metadata": {},
   "outputs": [],
   "source": []
  },
  {
   "cell_type": "code",
   "execution_count": null,
   "metadata": {},
   "outputs": [],
   "source": []
  },
  {
   "cell_type": "markdown",
   "metadata": {},
   "source": [
    "## 4.5 Análise dos Clusters"
   ]
  },
  {
   "cell_type": "markdown",
   "metadata": {},
   "source": [
    "## 4.5.1 Algoritmo Dendrograma"
   ]
  },
  {
   "cell_type": "markdown",
   "metadata": {},
   "source": [
    "### 4.5.1.1 Análise Cluster 0"
   ]
  },
  {
   "cell_type": "code",
   "execution_count": null,
   "metadata": {},
   "outputs": [],
   "source": [
    "df_dend_c0 = df_dend[df_dend['cluster'] == 0].sort_values('municp_cobert', ascending=True)\n",
    "df_dend_c0[['municp_populacao','municp_qtdevac','municp_cobert','municp_idhm']].describe().round(2)"
   ]
  },
  {
   "cell_type": "code",
   "execution_count": null,
   "metadata": {},
   "outputs": [],
   "source": [
    "df_class = df_dend_c0[['municp_idhm_class','municp_cobert','municp_populacao','municp_qtdevac']].groupby(['municp_idhm_class'])\n",
    "relat = df_class.mean().round(2)\n",
    "relat['nº de municípios'] = df_class['municp_qtdevac'].count()\n",
    "relat.head()"
   ]
  },
  {
   "cell_type": "code",
   "execution_count": null,
   "metadata": {},
   "outputs": [],
   "source": [
    "df_municp = df_dend_c0[['municp_nome','municp_cobert','municp_populacao','municp_qtdevac']].groupby(['municp_nome'])\n",
    "relat = df_municp.mean().round(2)\n",
    "relat = df_municp.mean().sort_values('municp_nome', ascending=True)\n",
    "relat.head()"
   ]
  },
  {
   "cell_type": "code",
   "execution_count": null,
   "metadata": {},
   "outputs": [],
   "source": [
    "# Distribuição cobertura vacinal\n",
    "sns.set(style='darkgrid')\n",
    "plt.scatter(x=df_dend_c0['municp_idhm'].loc[df_dend_c0['cluster'] == 0],\n",
    "            y=df_dend_c0['municp_cobert'].loc[df_dend_c0['cluster'] == 0], c='red')\n",
    "plt.title('Algoritmo Dendrograma\\n (Cluster 0)')\n",
    "plt.xlabel('Cobertura Vacinal')\n",
    "plt.ylabel('Índice de Vacinados')"
   ]
  },
  {
   "cell_type": "code",
   "execution_count": null,
   "metadata": {},
   "outputs": [],
   "source": []
  },
  {
   "cell_type": "markdown",
   "metadata": {},
   "source": [
    "### 4.5.1.2 Análise Cluster 1"
   ]
  },
  {
   "cell_type": "code",
   "execution_count": null,
   "metadata": {},
   "outputs": [],
   "source": [
    "df_dend_c1 = df_dend[df_dend['cluster'] == 1].sort_values('municp_cobert', ascending=True)\n",
    "df_dend_c1[['municp_populacao','municp_qtdevac','municp_cobert','municp_idhm',]].describe().round(2)"
   ]
  },
  {
   "cell_type": "code",
   "execution_count": null,
   "metadata": {},
   "outputs": [],
   "source": [
    "df_class = df_dend_c1[['municp_idhm_class','municp_cobert','municp_populacao','municp_qtdevac']].groupby(['municp_idhm_class'])\n",
    "relat = df_class.mean().round(2)\n",
    "relat['nº de municípios'] = df_class['municp_qtdevac'].count()\n",
    "relat.head()"
   ]
  },
  {
   "cell_type": "code",
   "execution_count": null,
   "metadata": {},
   "outputs": [],
   "source": [
    "df_municp = df_dend_c1[['municp_nome','municp_cobert','municp_populacao','municp_qtdevac']].groupby(['municp_nome'])\n",
    "relat = df_municp.mean().sort_values('municp_nome', ascending=True)\n",
    "relat.head()"
   ]
  },
  {
   "cell_type": "code",
   "execution_count": null,
   "metadata": {},
   "outputs": [],
   "source": [
    "# Distribuição cobertura vacinal\n",
    "sns.set(style='darkgrid')\n",
    "plt.scatter(x=df_dend_c1['municp_idhm'].loc[df_dend_c1['cluster'] == 1],\n",
    "            y=df_dend_c1['municp_cobert'].loc[df_dend_c1['cluster'] == 1], c='blue')\n",
    "plt.title('Algoritmo Dendrograma\\n (Cluster 1)')\n",
    "plt.xlabel('Cobertura Vacinal')\n",
    "plt.ylabel('Índice de Vacinados')"
   ]
  },
  {
   "cell_type": "code",
   "execution_count": null,
   "metadata": {},
   "outputs": [],
   "source": []
  },
  {
   "cell_type": "markdown",
   "metadata": {},
   "source": [
    "### 4.5.1.3 Análise Cluster 2"
   ]
  },
  {
   "cell_type": "code",
   "execution_count": null,
   "metadata": {},
   "outputs": [],
   "source": [
    "df_dend_c2 = df_dend[df_dend['cluster'] == 2].sort_values('municp_cobert', ascending=True)\n",
    "df_dend_c2[['municp_populacao','municp_qtdevac','municp_cobert','municp_idhm',]].describe().round(2)"
   ]
  },
  {
   "cell_type": "code",
   "execution_count": null,
   "metadata": {},
   "outputs": [],
   "source": [
    "df_class = df_dend_c2[['municp_idhm_class','municp_cobert','municp_populacao','municp_qtdevac']].groupby(['municp_idhm_class'])\n",
    "relat = df_class.mean().round(2)\n",
    "relat['nº de municípios'] = df_class['municp_qtdevac'].count()\n",
    "relat.head()"
   ]
  },
  {
   "cell_type": "code",
   "execution_count": null,
   "metadata": {},
   "outputs": [],
   "source": [
    "df_municp = df_dend_c2[['municp_nome','municp_cobert','municp_populacao','municp_qtdevac']].groupby(['municp_nome'])\n",
    "relat = df_municp.mean().sort_values('municp_nome', ascending=True)\n",
    "relat.head()"
   ]
  },
  {
   "cell_type": "code",
   "execution_count": null,
   "metadata": {},
   "outputs": [],
   "source": [
    "# Distribuição cobertura vacinal\n",
    "sns.set(style='darkgrid')\n",
    "plt.scatter(x=df_dend_c2['municp_idhm'].loc[df_dend_c2['cluster'] == 2],\n",
    "            y=df_dend_c2['municp_cobert'].loc[df_dend_c2['cluster'] == 2], c='green')\n",
    "plt.title('Algoritmo Dendrograma\\n (Cluster 2)')\n",
    "plt.xlabel('Cobertura Vacinal')\n",
    "plt.ylabel('Índice de Vacinados')"
   ]
  },
  {
   "cell_type": "code",
   "execution_count": null,
   "metadata": {},
   "outputs": [],
   "source": []
  },
  {
   "cell_type": "code",
   "execution_count": null,
   "metadata": {},
   "outputs": [],
   "source": [
    "# Distribuição cobertura vacinal\n",
    "sns.set(style='darkgrid')\n",
    "\n",
    "plt.scatter(x=df_dend_c0['municp_idhm'].loc[df_dend_c0['cluster'] == 0],\n",
    "            y=df_dend_c0['municp_cobert'].loc[df_dend_c0['cluster'] == 0], c='red')\n",
    "\n",
    "plt.scatter(x=df_dend_c1['municp_idhm'].loc[df_dend_c1['cluster'] == 1],\n",
    "            y=df_dend_c1['municp_cobert'].loc[df_dend_c1['cluster'] == 1], c='blue')\n",
    "\n",
    "plt.scatter(x=df_dend_c2['municp_idhm'].loc[df_dend_c2['cluster'] == 2],\n",
    "            y=df_dend_c2['municp_cobert'].loc[df_dend_c2['cluster'] == 2], c='green')\n",
    "\n",
    "plt.title('Algoritmo Dendrograma\\n (Qtde. Clusters = 3)')\n",
    "plt.xlabel('Cobertura Vacinal')\n",
    "plt.ylabel('Índice de Vacinados')"
   ]
  },
  {
   "cell_type": "code",
   "execution_count": null,
   "metadata": {},
   "outputs": [],
   "source": []
  },
  {
   "cell_type": "code",
   "execution_count": null,
   "metadata": {},
   "outputs": [],
   "source": []
  },
  {
   "cell_type": "markdown",
   "metadata": {},
   "source": [
    "## 4.5.2 Algoritmo Fuzzy k-means"
   ]
  },
  {
   "cell_type": "markdown",
   "metadata": {},
   "source": [
    "### 4.5.2.1 Análise Cluster 0"
   ]
  },
  {
   "cell_type": "code",
   "execution_count": null,
   "metadata": {},
   "outputs": [],
   "source": [
    "df_fuzzy_c0 = df_fuzzy[df_fuzzy['cluster'] == 0].sort_values('municp_cobert', ascending=True)\n",
    "df_fuzzy_c0[['municp_populacao','municp_qtdevac','municp_cobert','municp_idhm',]].describe().round(2)"
   ]
  },
  {
   "cell_type": "code",
   "execution_count": null,
   "metadata": {},
   "outputs": [],
   "source": [
    "df_class = df_fuzzy_c0[['municp_idhm_class','municp_cobert','municp_populacao','municp_qtdevac']].groupby(['municp_idhm_class'])\n",
    "relat = df_class.mean().round(2)\n",
    "relat['nº de municípios'] = df_class['municp_qtdevac'].count()\n",
    "relat.head()"
   ]
  },
  {
   "cell_type": "code",
   "execution_count": null,
   "metadata": {},
   "outputs": [],
   "source": [
    "df_municp = df_fuzzy_c0[['municp_nome','municp_cobert','municp_populacao','municp_qtdevac']].groupby(['municp_nome'])\n",
    "relat = df_municp.mean().sort_values('municp_nome', ascending=True)\n",
    "relat.head()"
   ]
  },
  {
   "cell_type": "code",
   "execution_count": null,
   "metadata": {},
   "outputs": [],
   "source": [
    "#plt.figure(figsize=(8, 6))\n",
    "\n",
    "plt.scatter(df_norm[tot_cluster == 0, 0], df_norm[tot_cluster == 0, 1], s=100, c='red', label='Cluster 0')\n",
    "\n",
    "plt.title('Algoritmo Fuzzy C-Means\\n (Cluster 0)')\n",
    "plt.xlabel('Cobertura Vacinal')\n",
    "plt.ylabel('Índice de Vacinados')\n",
    "\n",
    "plt.legend()\n"
   ]
  },
  {
   "cell_type": "code",
   "execution_count": null,
   "metadata": {},
   "outputs": [],
   "source": []
  },
  {
   "cell_type": "markdown",
   "metadata": {},
   "source": [
    "### 4.5.2.2 Análise Cluster 1"
   ]
  },
  {
   "cell_type": "code",
   "execution_count": null,
   "metadata": {},
   "outputs": [],
   "source": [
    "df_fuzzy_c1 = df_fuzzy[df_fuzzy['cluster'] == 1].sort_values('municp_cobert', ascending=True)\n",
    "df_fuzzy_c1[['municp_populacao','municp_qtdevac','municp_cobert','municp_idhm',]].describe().round(2)"
   ]
  },
  {
   "cell_type": "code",
   "execution_count": null,
   "metadata": {},
   "outputs": [],
   "source": [
    "df_class = df_fuzzy_c1[['municp_idhm_class','municp_cobert','municp_populacao','municp_qtdevac']].groupby(['municp_idhm_class'])\n",
    "relat = df_class.mean().round(2)\n",
    "relat['nº de municípios'] = df_class['municp_qtdevac'].count()\n",
    "relat.head()"
   ]
  },
  {
   "cell_type": "code",
   "execution_count": null,
   "metadata": {},
   "outputs": [],
   "source": [
    "df_municp = df_fuzzy_c1[['municp_nome','municp_cobert','municp_populacao','municp_qtdevac']].groupby(['municp_nome'])\n",
    "relat = df_municp.mean().sort_values('municp_nome', ascending=True)\n",
    "relat.head()"
   ]
  },
  {
   "cell_type": "code",
   "execution_count": null,
   "metadata": {},
   "outputs": [],
   "source": [
    "#plt.figure(figsize=(8, 6))\n",
    "\n",
    "plt.scatter(df_norm[tot_cluster == 1, 0], df_norm[tot_cluster == 1, 1], s=100, c='blue', label='Cluster 1')\n",
    "\n",
    "plt.title('Algoritmo Fuzzy C-Means\\n (Cluster 1)')\n",
    "plt.xlabel('Cobertura Vacinal')\n",
    "plt.ylabel('Índice de Vacinados')\n",
    "\n",
    "plt.legend()"
   ]
  },
  {
   "cell_type": "code",
   "execution_count": null,
   "metadata": {},
   "outputs": [],
   "source": []
  },
  {
   "cell_type": "markdown",
   "metadata": {},
   "source": [
    "### 4.5.2.3 Análise Cluster 2"
   ]
  },
  {
   "cell_type": "code",
   "execution_count": null,
   "metadata": {},
   "outputs": [],
   "source": [
    "df_fuzzy_c2 = df_fuzzy[df_fuzzy['cluster'] == 2].sort_values('municp_cobert', ascending=True)\n",
    "df_fuzzy_c2[['municp_populacao','municp_qtdevac','municp_cobert','municp_idhm',]].describe().round(2)"
   ]
  },
  {
   "cell_type": "code",
   "execution_count": null,
   "metadata": {},
   "outputs": [],
   "source": [
    "df_class = df_fuzzy_c2[['municp_idhm_class','municp_cobert','municp_populacao','municp_qtdevac']].groupby(['municp_idhm_class'])\n",
    "relat = df_class.mean().round(2)\n",
    "relat['nº de municípios'] = df_class['municp_qtdevac'].count()\n",
    "relat.head()"
   ]
  },
  {
   "cell_type": "code",
   "execution_count": null,
   "metadata": {},
   "outputs": [],
   "source": [
    "df_municp = df_fuzzy_c2[['municp_nome','municp_cobert','municp_populacao','municp_qtdevac']].groupby(['municp_nome'])\n",
    "relat = df_municp.mean().sort_values('municp_nome', ascending=True)\n",
    "relat.head()"
   ]
  },
  {
   "cell_type": "code",
   "execution_count": null,
   "metadata": {},
   "outputs": [],
   "source": [
    "#plt.figure(figsize=(8, 6))\n",
    "\n",
    "plt.scatter(df_norm[tot_cluster == 2, 0], df_norm[tot_cluster == 2, 1], s=100, c='green', label='Cluster 2')\n",
    "\n",
    "plt.title('Algoritmo Fuzzy C-Means\\n (Cluster 2)')\n",
    "plt.xlabel('Cobertura Vacinal')\n",
    "plt.ylabel('Índice de Vacinados')\n",
    "\n",
    "plt.legend()"
   ]
  },
  {
   "cell_type": "code",
   "execution_count": null,
   "metadata": {},
   "outputs": [],
   "source": []
  },
  {
   "cell_type": "code",
   "execution_count": null,
   "metadata": {},
   "outputs": [],
   "source": [
    "#plt.figure(figsize=(8, 6))\n",
    "\n",
    "plt.scatter(df_norm[tot_cluster == 0, 0], df_norm[tot_cluster == 0, 1], s=100, c='red', label='Cluster 0')\n",
    "plt.scatter(df_norm[tot_cluster == 1, 0], df_norm[tot_cluster == 1, 1], s=100, c='blue', label='Cluster 1')\n",
    "plt.scatter(df_norm[tot_cluster == 2, 0], df_norm[tot_cluster == 2, 1], s=100, c='green', label='Cluster 2')\n",
    "\n",
    "plt.title('Algoritmo Fuzzy C-Means\\n (Qtde. Cluster=3)')\n",
    "plt.xlabel('Cobertura Vacinal')\n",
    "plt.ylabel('Índice de Vacinados')\n",
    "\n",
    "plt.legend()"
   ]
  },
  {
   "cell_type": "code",
   "execution_count": null,
   "metadata": {},
   "outputs": [],
   "source": []
  },
  {
   "cell_type": "code",
   "execution_count": null,
   "metadata": {},
   "outputs": [],
   "source": []
  },
  {
   "cell_type": "markdown",
   "metadata": {},
   "source": [
    "## 4.5.3 Algoritmo K-Means"
   ]
  },
  {
   "cell_type": "markdown",
   "metadata": {},
   "source": [
    "### 4.5.3.1 Análise Cluster 0"
   ]
  },
  {
   "cell_type": "code",
   "execution_count": 62,
   "metadata": {},
   "outputs": [
    {
     "data": {
      "text/html": [
       "<div>\n",
       "<style scoped>\n",
       "    .dataframe tbody tr th:only-of-type {\n",
       "        vertical-align: middle;\n",
       "    }\n",
       "\n",
       "    .dataframe tbody tr th {\n",
       "        vertical-align: top;\n",
       "    }\n",
       "\n",
       "    .dataframe thead th {\n",
       "        text-align: right;\n",
       "    }\n",
       "</style>\n",
       "<table border=\"1\" class=\"dataframe\">\n",
       "  <thead>\n",
       "    <tr style=\"text-align: right;\">\n",
       "      <th></th>\n",
       "      <th>municp_populacao</th>\n",
       "      <th>municp_qtdevac</th>\n",
       "      <th>municp_cobert</th>\n",
       "      <th>municp_idhm</th>\n",
       "    </tr>\n",
       "  </thead>\n",
       "  <tbody>\n",
       "    <tr>\n",
       "      <th>count</th>\n",
       "      <td>66.00</td>\n",
       "      <td>66.00</td>\n",
       "      <td>66.00</td>\n",
       "      <td>66.00</td>\n",
       "    </tr>\n",
       "    <tr>\n",
       "      <th>mean</th>\n",
       "      <td>23473.14</td>\n",
       "      <td>12222.77</td>\n",
       "      <td>0.52</td>\n",
       "      <td>0.57</td>\n",
       "    </tr>\n",
       "    <tr>\n",
       "      <th>std</th>\n",
       "      <td>14265.51</td>\n",
       "      <td>7536.36</td>\n",
       "      <td>0.03</td>\n",
       "      <td>0.04</td>\n",
       "    </tr>\n",
       "    <tr>\n",
       "      <th>min</th>\n",
       "      <td>6261.00</td>\n",
       "      <td>3320.00</td>\n",
       "      <td>0.44</td>\n",
       "      <td>0.50</td>\n",
       "    </tr>\n",
       "    <tr>\n",
       "      <th>25%</th>\n",
       "      <td>13942.75</td>\n",
       "      <td>6709.50</td>\n",
       "      <td>0.50</td>\n",
       "      <td>0.55</td>\n",
       "    </tr>\n",
       "    <tr>\n",
       "      <th>50%</th>\n",
       "      <td>19614.50</td>\n",
       "      <td>10517.00</td>\n",
       "      <td>0.52</td>\n",
       "      <td>0.57</td>\n",
       "    </tr>\n",
       "    <tr>\n",
       "      <th>75%</th>\n",
       "      <td>29216.50</td>\n",
       "      <td>15952.25</td>\n",
       "      <td>0.55</td>\n",
       "      <td>0.59</td>\n",
       "    </tr>\n",
       "    <tr>\n",
       "      <th>max</th>\n",
       "      <td>73105.00</td>\n",
       "      <td>38436.00</td>\n",
       "      <td>0.58</td>\n",
       "      <td>0.66</td>\n",
       "    </tr>\n",
       "  </tbody>\n",
       "</table>\n",
       "</div>"
      ],
      "text/plain": [
       "       municp_populacao  municp_qtdevac  municp_cobert  municp_idhm\n",
       "count             66.00           66.00          66.00        66.00\n",
       "mean           23473.14        12222.77           0.52         0.57\n",
       "std            14265.51         7536.36           0.03         0.04\n",
       "min             6261.00         3320.00           0.44         0.50\n",
       "25%            13942.75         6709.50           0.50         0.55\n",
       "50%            19614.50        10517.00           0.52         0.57\n",
       "75%            29216.50        15952.25           0.55         0.59\n",
       "max            73105.00        38436.00           0.58         0.66"
      ]
     },
     "execution_count": 62,
     "metadata": {},
     "output_type": "execute_result"
    }
   ],
   "source": [
    "\n",
    "df_kmc0 = df_kmcluster[df_kmcluster['cluster'] == 0].sort_values(by=['municp_cobert'], ascending=True)\n",
    "\n",
    "df_kmc0['municp_populacao'] = df_mml2['municp_populacao']\n",
    "df_kmc0['municp_qtdevac'] = df_mml2['municp_qtdevac']\n",
    "df_kmc0['municp_nome'] = df_mml2['municp_nome']\n",
    "df_kmc0['municp_idhm_class'] = df_mml2['municp_idhm_class']\n",
    "\n",
    "df_kmc0[['municp_populacao','municp_qtdevac','municp_cobert','municp_idhm',]].describe().round(2)"
   ]
  },
  {
   "cell_type": "code",
   "execution_count": 63,
   "metadata": {},
   "outputs": [
    {
     "data": {
      "text/html": [
       "<div>\n",
       "<style scoped>\n",
       "    .dataframe tbody tr th:only-of-type {\n",
       "        vertical-align: middle;\n",
       "    }\n",
       "\n",
       "    .dataframe tbody tr th {\n",
       "        vertical-align: top;\n",
       "    }\n",
       "\n",
       "    .dataframe thead th {\n",
       "        text-align: right;\n",
       "    }\n",
       "</style>\n",
       "<table border=\"1\" class=\"dataframe\">\n",
       "  <thead>\n",
       "    <tr style=\"text-align: right;\">\n",
       "      <th></th>\n",
       "      <th>municp_cobert</th>\n",
       "      <th>municp_populacao</th>\n",
       "      <th>municp_qtdevac</th>\n",
       "      <th>nº de municípios</th>\n",
       "    </tr>\n",
       "    <tr>\n",
       "      <th>municp_idhm_class</th>\n",
       "      <th></th>\n",
       "      <th></th>\n",
       "      <th></th>\n",
       "      <th></th>\n",
       "    </tr>\n",
       "  </thead>\n",
       "  <tbody>\n",
       "    <tr>\n",
       "      <th>Baixo</th>\n",
       "      <td>0.52</td>\n",
       "      <td>22726.82</td>\n",
       "      <td>11895.45</td>\n",
       "      <td>55</td>\n",
       "    </tr>\n",
       "    <tr>\n",
       "      <th>Médio</th>\n",
       "      <td>0.51</td>\n",
       "      <td>27204.73</td>\n",
       "      <td>13859.36</td>\n",
       "      <td>11</td>\n",
       "    </tr>\n",
       "  </tbody>\n",
       "</table>\n",
       "</div>"
      ],
      "text/plain": [
       "                   municp_cobert  municp_populacao  municp_qtdevac  \\\n",
       "municp_idhm_class                                                    \n",
       "Baixo                       0.52          22726.82        11895.45   \n",
       "Médio                       0.51          27204.73        13859.36   \n",
       "\n",
       "                   nº de municípios  \n",
       "municp_idhm_class                    \n",
       "Baixo                            55  \n",
       "Médio                            11  "
      ]
     },
     "execution_count": 63,
     "metadata": {},
     "output_type": "execute_result"
    }
   ],
   "source": [
    "df_class = df_kmc0[['municp_idhm_class','municp_cobert','municp_populacao','municp_qtdevac']].groupby(['municp_idhm_class'])\n",
    "relat = df_class.mean().round(2)\n",
    "relat['nº de municípios'] = df_class['municp_qtdevac'].count()\n",
    "relat.head()"
   ]
  },
  {
   "cell_type": "code",
   "execution_count": 64,
   "metadata": {},
   "outputs": [
    {
     "data": {
      "text/html": [
       "<div>\n",
       "<style scoped>\n",
       "    .dataframe tbody tr th:only-of-type {\n",
       "        vertical-align: middle;\n",
       "    }\n",
       "\n",
       "    .dataframe tbody tr th {\n",
       "        vertical-align: top;\n",
       "    }\n",
       "\n",
       "    .dataframe thead th {\n",
       "        text-align: right;\n",
       "    }\n",
       "</style>\n",
       "<table border=\"1\" class=\"dataframe\">\n",
       "  <thead>\n",
       "    <tr style=\"text-align: right;\">\n",
       "      <th></th>\n",
       "      <th>municp_cobert</th>\n",
       "      <th>municp_populacao</th>\n",
       "      <th>municp_qtdevac</th>\n",
       "    </tr>\n",
       "    <tr>\n",
       "      <th>municp_nome</th>\n",
       "      <th></th>\n",
       "      <th></th>\n",
       "      <th></th>\n",
       "    </tr>\n",
       "  </thead>\n",
       "  <tbody>\n",
       "    <tr>\n",
       "      <th>ALDEIAS ALTAS</th>\n",
       "      <td>0.513029</td>\n",
       "      <td>26979</td>\n",
       "      <td>13841</td>\n",
       "    </tr>\n",
       "    <tr>\n",
       "      <th>ALTO ALEGRE DO MARANHÃO</th>\n",
       "      <td>0.511687</td>\n",
       "      <td>28066</td>\n",
       "      <td>14361</td>\n",
       "    </tr>\n",
       "    <tr>\n",
       "      <th>ARAME</th>\n",
       "      <td>0.495963</td>\n",
       "      <td>32825</td>\n",
       "      <td>16280</td>\n",
       "    </tr>\n",
       "    <tr>\n",
       "      <th>ARARI</th>\n",
       "      <td>0.547178</td>\n",
       "      <td>30014</td>\n",
       "      <td>16423</td>\n",
       "    </tr>\n",
       "    <tr>\n",
       "      <th>BACABEIRA</th>\n",
       "      <td>0.510891</td>\n",
       "      <td>17446</td>\n",
       "      <td>8913</td>\n",
       "    </tr>\n",
       "  </tbody>\n",
       "</table>\n",
       "</div>"
      ],
      "text/plain": [
       "                         municp_cobert  municp_populacao  municp_qtdevac\n",
       "municp_nome                                                             \n",
       "ALDEIAS ALTAS                 0.513029             26979           13841\n",
       "ALTO ALEGRE DO MARANHÃO       0.511687             28066           14361\n",
       "ARAME                         0.495963             32825           16280\n",
       "ARARI                         0.547178             30014           16423\n",
       "BACABEIRA                     0.510891             17446            8913"
      ]
     },
     "execution_count": 64,
     "metadata": {},
     "output_type": "execute_result"
    }
   ],
   "source": [
    "df_municp = df_kmc0[['municp_nome','municp_cobert','municp_populacao','municp_qtdevac']].groupby(['municp_nome'])\n",
    "relat = df_municp.mean().sort_values('municp_nome', ascending=True)\n",
    "relat.head()"
   ]
  },
  {
   "cell_type": "code",
   "execution_count": 65,
   "metadata": {},
   "outputs": [
    {
     "data": {
      "text/plain": [
       "Text(0, 0.5, 'Índice de Vacinados')"
      ]
     },
     "execution_count": 65,
     "metadata": {},
     "output_type": "execute_result"
    },
    {
     "data": {
      "image/png": "[encoded data removed]",
      "text/plain": [
       "<Figure size 432x288 with 1 Axes>"
      ]
     },
     "metadata": {},
     "output_type": "display_data"
    }
   ],
   "source": [
    "# Distribuição cobertura vacinal\n",
    "sns.set(style='darkgrid')\n",
    "plt.scatter(x=df_kmcluster['municp_idhm'].loc[df_kmcluster['cluster'] == 0],\n",
    "            y=df_kmcluster['municp_cobert'].loc[df_kmcluster['cluster'] == 0], c='red')\n",
    "\n",
    "plt.title('Algoritmo K-Means\\n (Cluster 0)')\n",
    "plt.xlabel('Cobertura Vacinal')\n",
    "plt.ylabel('Índice de Vacinados')\n"
   ]
  },
  {
   "cell_type": "code",
   "execution_count": null,
   "metadata": {},
   "outputs": [],
   "source": []
  },
  {
   "cell_type": "markdown",
   "metadata": {},
   "source": [
    "### 4.5.3.2 Análise Cluster 1"
   ]
  },
  {
   "cell_type": "code",
   "execution_count": 66,
   "metadata": {},
   "outputs": [
    {
     "data": {
      "text/html": [
       "<div>\n",
       "<style scoped>\n",
       "    .dataframe tbody tr th:only-of-type {\n",
       "        vertical-align: middle;\n",
       "    }\n",
       "\n",
       "    .dataframe tbody tr th {\n",
       "        vertical-align: top;\n",
       "    }\n",
       "\n",
       "    .dataframe thead th {\n",
       "        text-align: right;\n",
       "    }\n",
       "</style>\n",
       "<table border=\"1\" class=\"dataframe\">\n",
       "  <thead>\n",
       "    <tr style=\"text-align: right;\">\n",
       "      <th></th>\n",
       "      <th>municp_populacao</th>\n",
       "      <th>municp_qtdevac</th>\n",
       "      <th>municp_cobert</th>\n",
       "      <th>municp_idhm</th>\n",
       "    </tr>\n",
       "  </thead>\n",
       "  <tbody>\n",
       "    <tr>\n",
       "      <th>count</th>\n",
       "      <td>91.00</td>\n",
       "      <td>91.00</td>\n",
       "      <td>91.00</td>\n",
       "      <td>91.00</td>\n",
       "    </tr>\n",
       "    <tr>\n",
       "      <th>mean</th>\n",
       "      <td>28622.32</td>\n",
       "      <td>17906.37</td>\n",
       "      <td>0.63</td>\n",
       "      <td>0.58</td>\n",
       "    </tr>\n",
       "    <tr>\n",
       "      <th>std</th>\n",
       "      <td>27271.43</td>\n",
       "      <td>17011.06</td>\n",
       "      <td>0.03</td>\n",
       "      <td>0.04</td>\n",
       "    </tr>\n",
       "    <tr>\n",
       "      <th>min</th>\n",
       "      <td>4682.00</td>\n",
       "      <td>2760.00</td>\n",
       "      <td>0.57</td>\n",
       "      <td>0.52</td>\n",
       "    </tr>\n",
       "    <tr>\n",
       "      <th>25%</th>\n",
       "      <td>11231.00</td>\n",
       "      <td>7047.00</td>\n",
       "      <td>0.60</td>\n",
       "      <td>0.56</td>\n",
       "    </tr>\n",
       "    <tr>\n",
       "      <th>50%</th>\n",
       "      <td>19616.00</td>\n",
       "      <td>12420.00</td>\n",
       "      <td>0.63</td>\n",
       "      <td>0.58</td>\n",
       "    </tr>\n",
       "    <tr>\n",
       "      <th>75%</th>\n",
       "      <td>32757.50</td>\n",
       "      <td>20622.50</td>\n",
       "      <td>0.65</td>\n",
       "      <td>0.61</td>\n",
       "    </tr>\n",
       "    <tr>\n",
       "      <th>max</th>\n",
       "      <td>125265.00</td>\n",
       "      <td>78359.00</td>\n",
       "      <td>0.69</td>\n",
       "      <td>0.72</td>\n",
       "    </tr>\n",
       "  </tbody>\n",
       "</table>\n",
       "</div>"
      ],
      "text/plain": [
       "       municp_populacao  municp_qtdevac  municp_cobert  municp_idhm\n",
       "count             91.00           91.00          91.00        91.00\n",
       "mean           28622.32        17906.37           0.63         0.58\n",
       "std            27271.43        17011.06           0.03         0.04\n",
       "min             4682.00         2760.00           0.57         0.52\n",
       "25%            11231.00         7047.00           0.60         0.56\n",
       "50%            19616.00        12420.00           0.63         0.58\n",
       "75%            32757.50        20622.50           0.65         0.61\n",
       "max           125265.00        78359.00           0.69         0.72"
      ]
     },
     "execution_count": 66,
     "metadata": {},
     "output_type": "execute_result"
    }
   ],
   "source": [
    "df_kmc1 = df_kmcluster[df_kmcluster['cluster'] == 1].sort_values(by=['municp_cobert'], ascending=True)\n",
    "\n",
    "df_kmc1['municp_populacao'] = df_mml2['municp_populacao']\n",
    "df_kmc1['municp_qtdevac'] = df_mml2['municp_qtdevac']\n",
    "df_kmc1['municp_nome'] = df_mml2['municp_nome']\n",
    "df_kmc1['municp_idhm_class'] = df_mml2['municp_idhm_class']\n",
    "\n",
    "df_kmc1[['municp_populacao','municp_qtdevac','municp_cobert','municp_idhm',]].describe().round(2)"
   ]
  },
  {
   "cell_type": "code",
   "execution_count": 67,
   "metadata": {},
   "outputs": [
    {
     "data": {
      "text/html": [
       "<div>\n",
       "<style scoped>\n",
       "    .dataframe tbody tr th:only-of-type {\n",
       "        vertical-align: middle;\n",
       "    }\n",
       "\n",
       "    .dataframe tbody tr th {\n",
       "        vertical-align: top;\n",
       "    }\n",
       "\n",
       "    .dataframe thead th {\n",
       "        text-align: right;\n",
       "    }\n",
       "</style>\n",
       "<table border=\"1\" class=\"dataframe\">\n",
       "  <thead>\n",
       "    <tr style=\"text-align: right;\">\n",
       "      <th></th>\n",
       "      <th>municp_cobert</th>\n",
       "      <th>municp_populacao</th>\n",
       "      <th>municp_qtdevac</th>\n",
       "      <th>nº de municípios</th>\n",
       "    </tr>\n",
       "    <tr>\n",
       "      <th>municp_idhm_class</th>\n",
       "      <th></th>\n",
       "      <th></th>\n",
       "      <th></th>\n",
       "      <th></th>\n",
       "    </tr>\n",
       "  </thead>\n",
       "  <tbody>\n",
       "    <tr>\n",
       "      <th>Alto</th>\n",
       "      <td>0.63</td>\n",
       "      <td>125265.00</td>\n",
       "      <td>78359.00</td>\n",
       "      <td>1</td>\n",
       "    </tr>\n",
       "    <tr>\n",
       "      <th>Baixo</th>\n",
       "      <td>0.63</td>\n",
       "      <td>21627.48</td>\n",
       "      <td>13531.00</td>\n",
       "      <td>64</td>\n",
       "    </tr>\n",
       "    <tr>\n",
       "      <th>Médio</th>\n",
       "      <td>0.63</td>\n",
       "      <td>42123.35</td>\n",
       "      <td>26351.42</td>\n",
       "      <td>26</td>\n",
       "    </tr>\n",
       "  </tbody>\n",
       "</table>\n",
       "</div>"
      ],
      "text/plain": [
       "                   municp_cobert  municp_populacao  municp_qtdevac  \\\n",
       "municp_idhm_class                                                    \n",
       "Alto                        0.63         125265.00        78359.00   \n",
       "Baixo                       0.63          21627.48        13531.00   \n",
       "Médio                       0.63          42123.35        26351.42   \n",
       "\n",
       "                   nº de municípios  \n",
       "municp_idhm_class                    \n",
       "Alto                              1  \n",
       "Baixo                            64  \n",
       "Médio                            26  "
      ]
     },
     "execution_count": 67,
     "metadata": {},
     "output_type": "execute_result"
    }
   ],
   "source": [
    "df_class = df_kmc1[['municp_idhm_class','municp_cobert','municp_populacao','municp_qtdevac']].groupby(['municp_idhm_class'])\n",
    "relat = df_class.mean().round(2)\n",
    "relat['nº de municípios'] = df_class['municp_qtdevac'].count()\n",
    "relat.head()"
   ]
  },
  {
   "cell_type": "code",
   "execution_count": 68,
   "metadata": {},
   "outputs": [
    {
     "data": {
      "text/html": [
       "<div>\n",
       "<style scoped>\n",
       "    .dataframe tbody tr th:only-of-type {\n",
       "        vertical-align: middle;\n",
       "    }\n",
       "\n",
       "    .dataframe tbody tr th {\n",
       "        vertical-align: top;\n",
       "    }\n",
       "\n",
       "    .dataframe thead th {\n",
       "        text-align: right;\n",
       "    }\n",
       "</style>\n",
       "<table border=\"1\" class=\"dataframe\">\n",
       "  <thead>\n",
       "    <tr style=\"text-align: right;\">\n",
       "      <th></th>\n",
       "      <th>municp_cobert</th>\n",
       "      <th>municp_populacao</th>\n",
       "      <th>municp_qtdevac</th>\n",
       "    </tr>\n",
       "    <tr>\n",
       "      <th>municp_nome</th>\n",
       "      <th></th>\n",
       "      <th></th>\n",
       "      <th></th>\n",
       "    </tr>\n",
       "  </thead>\n",
       "  <tbody>\n",
       "    <tr>\n",
       "      <th>AFONSO CUNHA</th>\n",
       "      <td>0.663399</td>\n",
       "      <td>6631</td>\n",
       "      <td>4399</td>\n",
       "    </tr>\n",
       "    <tr>\n",
       "      <th>ALTAMIRA DO MARANHÃO</th>\n",
       "      <td>0.579879</td>\n",
       "      <td>8250</td>\n",
       "      <td>4784</td>\n",
       "    </tr>\n",
       "    <tr>\n",
       "      <th>ALTO ALEGRE DO PINDARÉ</th>\n",
       "      <td>0.584165</td>\n",
       "      <td>31967</td>\n",
       "      <td>18674</td>\n",
       "    </tr>\n",
       "    <tr>\n",
       "      <th>AMAPÁ DO MARANHÃO</th>\n",
       "      <td>0.599404</td>\n",
       "      <td>7047</td>\n",
       "      <td>4224</td>\n",
       "    </tr>\n",
       "    <tr>\n",
       "      <th>ANAJATUBA</th>\n",
       "      <td>0.645970</td>\n",
       "      <td>27170</td>\n",
       "      <td>17551</td>\n",
       "    </tr>\n",
       "  </tbody>\n",
       "</table>\n",
       "</div>"
      ],
      "text/plain": [
       "                        municp_cobert  municp_populacao  municp_qtdevac\n",
       "municp_nome                                                            \n",
       "AFONSO CUNHA                 0.663399              6631            4399\n",
       "ALTAMIRA DO MARANHÃO         0.579879              8250            4784\n",
       "ALTO ALEGRE DO PINDARÉ       0.584165             31967           18674\n",
       "AMAPÁ DO MARANHÃO            0.599404              7047            4224\n",
       "ANAJATUBA                    0.645970             27170           17551"
      ]
     },
     "execution_count": 68,
     "metadata": {},
     "output_type": "execute_result"
    }
   ],
   "source": [
    "df_municp = df_kmc1[['municp_nome','municp_cobert','municp_populacao','municp_qtdevac']].groupby(['municp_nome'])\n",
    "relat = df_municp.mean().sort_values('municp_nome', ascending=True)\n",
    "relat.head()"
   ]
  },
  {
   "cell_type": "code",
   "execution_count": 69,
   "metadata": {},
   "outputs": [
    {
     "data": {
      "text/plain": [
       "Text(0, 0.5, 'Índice de Vacinados')"
      ]
     },
     "execution_count": 69,
     "metadata": {},
     "output_type": "execute_result"
    },
    {
     "data": {
      "image/png": "[encoded data removed]",
      "text/plain": [
       "<Figure size 432x288 with 1 Axes>"
      ]
     },
     "metadata": {},
     "output_type": "display_data"
    }
   ],
   "source": [
    "# Distribuição cobertura vacinal\n",
    "sns.set(style='darkgrid')\n",
    "plt.scatter(x=df_kmcluster['municp_idhm'].loc[df_kmcluster['cluster'] == 1],\n",
    "            y=df_kmcluster['municp_cobert'].loc[df_kmcluster['cluster'] == 1], c='blue')\n",
    "\n",
    "plt.title('Algoritmo K-Means (Cluster 1)')\n",
    "plt.xlabel('Cobertura Vacinal')\n",
    "plt.ylabel('Índice de Vacinados')"
   ]
  },
  {
   "cell_type": "code",
   "execution_count": null,
   "metadata": {},
   "outputs": [],
   "source": []
  },
  {
   "cell_type": "markdown",
   "metadata": {},
   "source": [
    "### 4.5.3.3 Análise Cluster 2"
   ]
  },
  {
   "cell_type": "code",
   "execution_count": 70,
   "metadata": {},
   "outputs": [
    {
     "data": {
      "text/html": [
       "<div>\n",
       "<style scoped>\n",
       "    .dataframe tbody tr th:only-of-type {\n",
       "        vertical-align: middle;\n",
       "    }\n",
       "\n",
       "    .dataframe tbody tr th {\n",
       "        vertical-align: top;\n",
       "    }\n",
       "\n",
       "    .dataframe thead th {\n",
       "        text-align: right;\n",
       "    }\n",
       "</style>\n",
       "<table border=\"1\" class=\"dataframe\">\n",
       "  <thead>\n",
       "    <tr style=\"text-align: right;\">\n",
       "      <th></th>\n",
       "      <th>municp_populacao</th>\n",
       "      <th>municp_qtdevac</th>\n",
       "      <th>municp_cobert</th>\n",
       "      <th>municp_idhm</th>\n",
       "    </tr>\n",
       "  </thead>\n",
       "  <tbody>\n",
       "    <tr>\n",
       "      <th>count</th>\n",
       "      <td>25.00</td>\n",
       "      <td>25.00</td>\n",
       "      <td>25.00</td>\n",
       "      <td>25.00</td>\n",
       "    </tr>\n",
       "    <tr>\n",
       "      <th>mean</th>\n",
       "      <td>24720.76</td>\n",
       "      <td>9468.28</td>\n",
       "      <td>0.39</td>\n",
       "      <td>0.53</td>\n",
       "    </tr>\n",
       "    <tr>\n",
       "      <th>std</th>\n",
       "      <td>15969.46</td>\n",
       "      <td>6142.11</td>\n",
       "      <td>0.06</td>\n",
       "      <td>0.04</td>\n",
       "    </tr>\n",
       "    <tr>\n",
       "      <th>min</th>\n",
       "      <td>7757.00</td>\n",
       "      <td>3270.00</td>\n",
       "      <td>0.18</td>\n",
       "      <td>0.44</td>\n",
       "    </tr>\n",
       "    <tr>\n",
       "      <th>25%</th>\n",
       "      <td>15675.00</td>\n",
       "      <td>6102.00</td>\n",
       "      <td>0.38</td>\n",
       "      <td>0.52</td>\n",
       "    </tr>\n",
       "    <tr>\n",
       "      <th>50%</th>\n",
       "      <td>17123.00</td>\n",
       "      <td>7079.00</td>\n",
       "      <td>0.41</td>\n",
       "      <td>0.54</td>\n",
       "    </tr>\n",
       "    <tr>\n",
       "      <th>75%</th>\n",
       "      <td>29121.00</td>\n",
       "      <td>10589.00</td>\n",
       "      <td>0.43</td>\n",
       "      <td>0.56</td>\n",
       "    </tr>\n",
       "    <tr>\n",
       "      <th>max</th>\n",
       "      <td>73595.00</td>\n",
       "      <td>31587.00</td>\n",
       "      <td>0.46</td>\n",
       "      <td>0.61</td>\n",
       "    </tr>\n",
       "  </tbody>\n",
       "</table>\n",
       "</div>"
      ],
      "text/plain": [
       "       municp_populacao  municp_qtdevac  municp_cobert  municp_idhm\n",
       "count             25.00           25.00          25.00        25.00\n",
       "mean           24720.76         9468.28           0.39         0.53\n",
       "std            15969.46         6142.11           0.06         0.04\n",
       "min             7757.00         3270.00           0.18         0.44\n",
       "25%            15675.00         6102.00           0.38         0.52\n",
       "50%            17123.00         7079.00           0.41         0.54\n",
       "75%            29121.00        10589.00           0.43         0.56\n",
       "max            73595.00        31587.00           0.46         0.61"
      ]
     },
     "execution_count": 70,
     "metadata": {},
     "output_type": "execute_result"
    }
   ],
   "source": [
    "df_kmc2 = df_kmcluster[df_kmcluster['cluster'] == 2].sort_values(by=['municp_cobert'], ascending=True)\n",
    "\n",
    "df_kmc2['municp_populacao'] = df_mml2['municp_populacao']\n",
    "df_kmc2['municp_qtdevac'] = df_mml2['municp_qtdevac']\n",
    "df_kmc2['municp_nome'] = df_mml2['municp_nome']\n",
    "df_kmc2['municp_idhm_class'] = df_mml2['municp_idhm_class']\n",
    "\n",
    "df_kmc2[['municp_populacao','municp_qtdevac','municp_cobert','municp_idhm',]].describe().round(2)"
   ]
  },
  {
   "cell_type": "code",
   "execution_count": 71,
   "metadata": {},
   "outputs": [
    {
     "data": {
      "text/html": [
       "<div>\n",
       "<style scoped>\n",
       "    .dataframe tbody tr th:only-of-type {\n",
       "        vertical-align: middle;\n",
       "    }\n",
       "\n",
       "    .dataframe tbody tr th {\n",
       "        vertical-align: top;\n",
       "    }\n",
       "\n",
       "    .dataframe thead th {\n",
       "        text-align: right;\n",
       "    }\n",
       "</style>\n",
       "<table border=\"1\" class=\"dataframe\">\n",
       "  <thead>\n",
       "    <tr style=\"text-align: right;\">\n",
       "      <th></th>\n",
       "      <th>municp_cobert</th>\n",
       "      <th>municp_populacao</th>\n",
       "      <th>municp_qtdevac</th>\n",
       "      <th>nº de municípios</th>\n",
       "    </tr>\n",
       "    <tr>\n",
       "      <th>municp_idhm_class</th>\n",
       "      <th></th>\n",
       "      <th></th>\n",
       "      <th></th>\n",
       "      <th></th>\n",
       "    </tr>\n",
       "  </thead>\n",
       "  <tbody>\n",
       "    <tr>\n",
       "      <th>Baixo</th>\n",
       "      <td>0.39</td>\n",
       "      <td>26959.25</td>\n",
       "      <td>10297.15</td>\n",
       "      <td>20</td>\n",
       "    </tr>\n",
       "    <tr>\n",
       "      <th>Muito Baixo</th>\n",
       "      <td>0.40</td>\n",
       "      <td>12428.25</td>\n",
       "      <td>4864.75</td>\n",
       "      <td>4</td>\n",
       "    </tr>\n",
       "    <tr>\n",
       "      <th>Médio</th>\n",
       "      <td>0.39</td>\n",
       "      <td>29121.00</td>\n",
       "      <td>11305.00</td>\n",
       "      <td>1</td>\n",
       "    </tr>\n",
       "  </tbody>\n",
       "</table>\n",
       "</div>"
      ],
      "text/plain": [
       "                   municp_cobert  municp_populacao  municp_qtdevac  \\\n",
       "municp_idhm_class                                                    \n",
       "Baixo                       0.39          26959.25        10297.15   \n",
       "Muito Baixo                 0.40          12428.25         4864.75   \n",
       "Médio                       0.39          29121.00        11305.00   \n",
       "\n",
       "                   nº de municípios  \n",
       "municp_idhm_class                    \n",
       "Baixo                            20  \n",
       "Muito Baixo                       4  \n",
       "Médio                             1  "
      ]
     },
     "execution_count": 71,
     "metadata": {},
     "output_type": "execute_result"
    }
   ],
   "source": [
    "df_class = df_kmc2[['municp_idhm_class','municp_cobert','municp_populacao',\n",
    "                        'municp_qtdevac']].groupby(['municp_idhm_class'])\n",
    "relat = df_class.mean().round(2)\n",
    "relat['nº de municípios'] = df_class['municp_qtdevac'].count()\n",
    "relat.head()"
   ]
  },
  {
   "cell_type": "code",
   "execution_count": 72,
   "metadata": {},
   "outputs": [
    {
     "data": {
      "text/html": [
       "<div>\n",
       "<style scoped>\n",
       "    .dataframe tbody tr th:only-of-type {\n",
       "        vertical-align: middle;\n",
       "    }\n",
       "\n",
       "    .dataframe tbody tr th {\n",
       "        vertical-align: top;\n",
       "    }\n",
       "\n",
       "    .dataframe thead th {\n",
       "        text-align: right;\n",
       "    }\n",
       "</style>\n",
       "<table border=\"1\" class=\"dataframe\">\n",
       "  <thead>\n",
       "    <tr style=\"text-align: right;\">\n",
       "      <th></th>\n",
       "      <th>municp_cobert</th>\n",
       "      <th>municp_populacao</th>\n",
       "      <th>municp_qtdevac</th>\n",
       "    </tr>\n",
       "    <tr>\n",
       "      <th>municp_nome</th>\n",
       "      <th></th>\n",
       "      <th></th>\n",
       "      <th></th>\n",
       "    </tr>\n",
       "  </thead>\n",
       "  <tbody>\n",
       "    <tr>\n",
       "      <th>AMARANTE DO MARANHÃO</th>\n",
       "      <td>0.429874</td>\n",
       "      <td>42017</td>\n",
       "      <td>18062</td>\n",
       "    </tr>\n",
       "    <tr>\n",
       "      <th>ARAGUANÃ</th>\n",
       "      <td>0.409952</td>\n",
       "      <td>15675</td>\n",
       "      <td>6426</td>\n",
       "    </tr>\n",
       "    <tr>\n",
       "      <th>BOM JARDIM</th>\n",
       "      <td>0.413663</td>\n",
       "      <td>42010</td>\n",
       "      <td>17378</td>\n",
       "    </tr>\n",
       "    <tr>\n",
       "      <th>BOM JESUS DAS SELVAS</th>\n",
       "      <td>0.323066</td>\n",
       "      <td>35095</td>\n",
       "      <td>11338</td>\n",
       "    </tr>\n",
       "    <tr>\n",
       "      <th>BOM LUGAR</th>\n",
       "      <td>0.432803</td>\n",
       "      <td>16578</td>\n",
       "      <td>7175</td>\n",
       "    </tr>\n",
       "  </tbody>\n",
       "</table>\n",
       "</div>"
      ],
      "text/plain": [
       "                      municp_cobert  municp_populacao  municp_qtdevac\n",
       "municp_nome                                                          \n",
       "AMARANTE DO MARANHÃO       0.429874             42017           18062\n",
       "ARAGUANÃ                   0.409952             15675            6426\n",
       "BOM JARDIM                 0.413663             42010           17378\n",
       "BOM JESUS DAS SELVAS       0.323066             35095           11338\n",
       "BOM LUGAR                  0.432803             16578            7175"
      ]
     },
     "execution_count": 72,
     "metadata": {},
     "output_type": "execute_result"
    }
   ],
   "source": [
    "df_municp = df_kmc2[['municp_nome','municp_cobert','municp_populacao','municp_qtdevac']].groupby(['municp_nome'])\n",
    "relat = df_municp.mean().sort_values('municp_nome', ascending=True)\n",
    "relat.head()"
   ]
  },
  {
   "cell_type": "code",
   "execution_count": 73,
   "metadata": {},
   "outputs": [
    {
     "data": {
      "text/plain": [
       "Text(0, 0.5, 'Índice de Vacinados')"
      ]
     },
     "execution_count": 73,
     "metadata": {},
     "output_type": "execute_result"
    },
    {
     "data": {
      "image/png": "[encoded data removed]",
      "text/plain": [
       "<Figure size 432x288 with 1 Axes>"
      ]
     },
     "metadata": {},
     "output_type": "display_data"
    }
   ],
   "source": [
    "# Distribuição cobertura vacinal\n",
    "sns.set(style='darkgrid')\n",
    "plt.scatter(x=df_kmcluster['municp_idhm'].loc[df_kmcluster['cluster'] == 2],\n",
    "            y=df_kmcluster['municp_cobert'].loc[df_kmcluster['cluster'] == 2], c='green')\n",
    "\n",
    "plt.title('Algoritmo K-Means\\n (Cluster 2)')\n",
    "plt.xlabel('Cobertura Vacinal')\n",
    "plt.ylabel('Índice de Vacinados')"
   ]
  },
  {
   "cell_type": "code",
   "execution_count": null,
   "metadata": {},
   "outputs": [],
   "source": []
  },
  {
   "cell_type": "markdown",
   "metadata": {},
   "source": [
    "### 4.5.3.4 Análise Cluster 3"
   ]
  },
  {
   "cell_type": "code",
   "execution_count": 74,
   "metadata": {},
   "outputs": [
    {
     "data": {
      "text/html": [
       "<div>\n",
       "<style scoped>\n",
       "    .dataframe tbody tr th:only-of-type {\n",
       "        vertical-align: middle;\n",
       "    }\n",
       "\n",
       "    .dataframe tbody tr th {\n",
       "        vertical-align: top;\n",
       "    }\n",
       "\n",
       "    .dataframe thead th {\n",
       "        text-align: right;\n",
       "    }\n",
       "</style>\n",
       "<table border=\"1\" class=\"dataframe\">\n",
       "  <thead>\n",
       "    <tr style=\"text-align: right;\">\n",
       "      <th></th>\n",
       "      <th>municp_populacao</th>\n",
       "      <th>municp_qtdevac</th>\n",
       "      <th>municp_cobert</th>\n",
       "      <th>municp_idhm</th>\n",
       "    </tr>\n",
       "  </thead>\n",
       "  <tbody>\n",
       "    <tr>\n",
       "      <th>count</th>\n",
       "      <td>35.00</td>\n",
       "      <td>35.00</td>\n",
       "      <td>35.00</td>\n",
       "      <td>35.00</td>\n",
       "    </tr>\n",
       "    <tr>\n",
       "      <th>mean</th>\n",
       "      <td>68039.57</td>\n",
       "      <td>51748.57</td>\n",
       "      <td>0.74</td>\n",
       "      <td>0.60</td>\n",
       "    </tr>\n",
       "    <tr>\n",
       "      <th>std</th>\n",
       "      <td>192264.54</td>\n",
       "      <td>153652.20</td>\n",
       "      <td>0.08</td>\n",
       "      <td>0.06</td>\n",
       "    </tr>\n",
       "    <tr>\n",
       "      <th>min</th>\n",
       "      <td>4334.00</td>\n",
       "      <td>3069.00</td>\n",
       "      <td>0.68</td>\n",
       "      <td>0.50</td>\n",
       "    </tr>\n",
       "    <tr>\n",
       "      <th>25%</th>\n",
       "      <td>8952.50</td>\n",
       "      <td>6448.00</td>\n",
       "      <td>0.70</td>\n",
       "      <td>0.57</td>\n",
       "    </tr>\n",
       "    <tr>\n",
       "      <th>50%</th>\n",
       "      <td>12662.00</td>\n",
       "      <td>9011.00</td>\n",
       "      <td>0.72</td>\n",
       "      <td>0.60</td>\n",
       "    </tr>\n",
       "    <tr>\n",
       "      <th>75%</th>\n",
       "      <td>24094.50</td>\n",
       "      <td>19553.50</td>\n",
       "      <td>0.74</td>\n",
       "      <td>0.62</td>\n",
       "    </tr>\n",
       "    <tr>\n",
       "      <th>max</th>\n",
       "      <td>1115932.00</td>\n",
       "      <td>898898.00</td>\n",
       "      <td>1.12</td>\n",
       "      <td>0.77</td>\n",
       "    </tr>\n",
       "  </tbody>\n",
       "</table>\n",
       "</div>"
      ],
      "text/plain": [
       "       municp_populacao  municp_qtdevac  municp_cobert  municp_idhm\n",
       "count             35.00           35.00          35.00        35.00\n",
       "mean           68039.57        51748.57           0.74         0.60\n",
       "std           192264.54       153652.20           0.08         0.06\n",
       "min             4334.00         3069.00           0.68         0.50\n",
       "25%             8952.50         6448.00           0.70         0.57\n",
       "50%            12662.00         9011.00           0.72         0.60\n",
       "75%            24094.50        19553.50           0.74         0.62\n",
       "max          1115932.00       898898.00           1.12         0.77"
      ]
     },
     "execution_count": 74,
     "metadata": {},
     "output_type": "execute_result"
    }
   ],
   "source": [
    "df_kmc3 = df_kmcluster[df_kmcluster['cluster'] == 3].sort_values(by=['municp_cobert'], ascending=True)\n",
    "\n",
    "df_kmc3['municp_populacao'] = df_mml2['municp_populacao']\n",
    "df_kmc3['municp_qtdevac'] = df_mml2['municp_qtdevac']\n",
    "df_kmc3['municp_nome'] = df_mml2['municp_nome']\n",
    "df_kmc3['municp_idhm_class'] = df_mml2['municp_idhm_class']\n",
    "\n",
    "df_kmc3[['municp_populacao','municp_qtdevac','municp_cobert','municp_idhm',]].describe().round(2)"
   ]
  },
  {
   "cell_type": "code",
   "execution_count": 75,
   "metadata": {},
   "outputs": [
    {
     "data": {
      "text/html": [
       "<div>\n",
       "<style scoped>\n",
       "    .dataframe tbody tr th:only-of-type {\n",
       "        vertical-align: middle;\n",
       "    }\n",
       "\n",
       "    .dataframe tbody tr th {\n",
       "        vertical-align: top;\n",
       "    }\n",
       "\n",
       "    .dataframe thead th {\n",
       "        text-align: right;\n",
       "    }\n",
       "</style>\n",
       "<table border=\"1\" class=\"dataframe\">\n",
       "  <thead>\n",
       "    <tr style=\"text-align: right;\">\n",
       "      <th></th>\n",
       "      <th>municp_cobert</th>\n",
       "      <th>municp_populacao</th>\n",
       "      <th>municp_qtdevac</th>\n",
       "      <th>nº de municípios</th>\n",
       "    </tr>\n",
       "    <tr>\n",
       "      <th>municp_idhm_class</th>\n",
       "      <th></th>\n",
       "      <th></th>\n",
       "      <th></th>\n",
       "      <th></th>\n",
       "    </tr>\n",
       "  </thead>\n",
       "  <tbody>\n",
       "    <tr>\n",
       "      <th>Alto</th>\n",
       "      <td>0.74</td>\n",
       "      <td>518752.33</td>\n",
       "      <td>404098.67</td>\n",
       "      <td>3</td>\n",
       "    </tr>\n",
       "    <tr>\n",
       "      <th>Baixo</th>\n",
       "      <td>0.76</td>\n",
       "      <td>11084.75</td>\n",
       "      <td>8549.00</td>\n",
       "      <td>16</td>\n",
       "    </tr>\n",
       "    <tr>\n",
       "      <th>Muito Baixo</th>\n",
       "      <td>0.71</td>\n",
       "      <td>12731.00</td>\n",
       "      <td>9011.00</td>\n",
       "      <td>1</td>\n",
       "    </tr>\n",
       "    <tr>\n",
       "      <th>Médio</th>\n",
       "      <td>0.72</td>\n",
       "      <td>42336.07</td>\n",
       "      <td>30207.27</td>\n",
       "      <td>15</td>\n",
       "    </tr>\n",
       "  </tbody>\n",
       "</table>\n",
       "</div>"
      ],
      "text/plain": [
       "                   municp_cobert  municp_populacao  municp_qtdevac  \\\n",
       "municp_idhm_class                                                    \n",
       "Alto                        0.74         518752.33       404098.67   \n",
       "Baixo                       0.76          11084.75         8549.00   \n",
       "Muito Baixo                 0.71          12731.00         9011.00   \n",
       "Médio                       0.72          42336.07        30207.27   \n",
       "\n",
       "                   nº de municípios  \n",
       "municp_idhm_class                    \n",
       "Alto                              3  \n",
       "Baixo                            16  \n",
       "Muito Baixo                       1  \n",
       "Médio                            15  "
      ]
     },
     "execution_count": 75,
     "metadata": {},
     "output_type": "execute_result"
    }
   ],
   "source": [
    "df_class = df_kmc3[['municp_idhm_class','municp_cobert','municp_populacao',\n",
    "                        'municp_qtdevac']].groupby(['municp_idhm_class'])\n",
    "relat = df_class.mean().round(2)\n",
    "relat['nº de municípios'] = df_class['municp_qtdevac'].count()\n",
    "relat.head()"
   ]
  },
  {
   "cell_type": "code",
   "execution_count": 76,
   "metadata": {},
   "outputs": [
    {
     "data": {
      "text/html": [
       "<div>\n",
       "<style scoped>\n",
       "    .dataframe tbody tr th:only-of-type {\n",
       "        vertical-align: middle;\n",
       "    }\n",
       "\n",
       "    .dataframe tbody tr th {\n",
       "        vertical-align: top;\n",
       "    }\n",
       "\n",
       "    .dataframe thead th {\n",
       "        text-align: right;\n",
       "    }\n",
       "</style>\n",
       "<table border=\"1\" class=\"dataframe\">\n",
       "  <thead>\n",
       "    <tr style=\"text-align: right;\">\n",
       "      <th></th>\n",
       "      <th>municp_cobert</th>\n",
       "      <th>municp_populacao</th>\n",
       "      <th>municp_qtdevac</th>\n",
       "    </tr>\n",
       "    <tr>\n",
       "      <th>municp_nome</th>\n",
       "      <th></th>\n",
       "      <th></th>\n",
       "      <th></th>\n",
       "    </tr>\n",
       "  </thead>\n",
       "  <tbody>\n",
       "    <tr>\n",
       "      <th>ALCÂNTARA</th>\n",
       "      <td>0.807014</td>\n",
       "      <td>22126</td>\n",
       "      <td>17856</td>\n",
       "    </tr>\n",
       "    <tr>\n",
       "      <th>ALTO PARNAÍBA</th>\n",
       "      <td>0.678091</td>\n",
       "      <td>11233</td>\n",
       "      <td>7617</td>\n",
       "    </tr>\n",
       "    <tr>\n",
       "      <th>BALSAS</th>\n",
       "      <td>0.696455</td>\n",
       "      <td>96951</td>\n",
       "      <td>67522</td>\n",
       "    </tr>\n",
       "    <tr>\n",
       "      <th>BARÃO DE GRAJAÚ</th>\n",
       "      <td>0.754862</td>\n",
       "      <td>19026</td>\n",
       "      <td>14362</td>\n",
       "    </tr>\n",
       "    <tr>\n",
       "      <th>BELÁGUA</th>\n",
       "      <td>0.819141</td>\n",
       "      <td>7586</td>\n",
       "      <td>6214</td>\n",
       "    </tr>\n",
       "  </tbody>\n",
       "</table>\n",
       "</div>"
      ],
      "text/plain": [
       "                 municp_cobert  municp_populacao  municp_qtdevac\n",
       "municp_nome                                                     \n",
       "ALCÂNTARA             0.807014             22126           17856\n",
       "ALTO PARNAÍBA         0.678091             11233            7617\n",
       "BALSAS                0.696455             96951           67522\n",
       "BARÃO DE GRAJAÚ       0.754862             19026           14362\n",
       "BELÁGUA               0.819141              7586            6214"
      ]
     },
     "execution_count": 76,
     "metadata": {},
     "output_type": "execute_result"
    }
   ],
   "source": [
    "df_municp = df_kmc3[['municp_nome','municp_cobert','municp_populacao','municp_qtdevac']].groupby(['municp_nome'])\n",
    "relat = df_municp.mean().sort_values('municp_nome', ascending=True)\n",
    "relat.head()"
   ]
  },
  {
   "cell_type": "code",
   "execution_count": 77,
   "metadata": {},
   "outputs": [
    {
     "data": {
      "text/plain": [
       "Text(0, 0.5, 'Índice de Vacinados')"
      ]
     },
     "execution_count": 77,
     "metadata": {},
     "output_type": "execute_result"
    },
    {
     "data": {
      "image/png": "[encoded data removed]",
      "text/plain": [
       "<Figure size 432x288 with 1 Axes>"
      ]
     },
     "metadata": {},
     "output_type": "display_data"
    }
   ],
   "source": [
    "# Distribuição cobertura vacinal\n",
    "sns.set(style='darkgrid')\n",
    "plt.scatter(x=df_kmcluster['municp_idhm'].loc[df_kmcluster['cluster'] == 3],\n",
    "            y=df_kmcluster['municp_cobert'].loc[df_kmcluster['cluster'] == 3], c='orange')\n",
    "\n",
    "plt.title('Algoritmo K-Means\\n (Cluster 3)')\n",
    "plt.xlabel('Cobertura Vacinal')\n",
    "plt.ylabel('Índice de Vacinados')"
   ]
  },
  {
   "cell_type": "code",
   "execution_count": null,
   "metadata": {},
   "outputs": [],
   "source": []
  },
  {
   "cell_type": "code",
   "execution_count": 78,
   "metadata": {},
   "outputs": [
    {
     "data": {
      "text/plain": [
       "Text(0, 0.5, 'Índice de Vacinados')"
      ]
     },
     "execution_count": 78,
     "metadata": {},
     "output_type": "execute_result"
    },
    {
     "data": {
      "image/png": "[encoded data removed]",
      "text/plain": [
       "<Figure size 432x288 with 1 Axes>"
      ]
     },
     "metadata": {},
     "output_type": "display_data"
    }
   ],
   "source": [
    "# Distribuição cobertura vacinal\n",
    "sns.set(style='darkgrid')\n",
    "\n",
    "plt.scatter(x=df_kmcluster['municp_idhm'].loc[df_kmcluster['cluster'] == 0],\n",
    "            y=df_kmcluster['municp_cobert'].loc[df_kmcluster['cluster'] == 0], c='red')\n",
    "\n",
    "plt.scatter(x=df_kmcluster['municp_idhm'].loc[df_kmcluster['cluster'] == 1],\n",
    "            y=df_kmcluster['municp_cobert'].loc[df_kmcluster['cluster'] == 1], c='blue')\n",
    "\n",
    "plt.scatter(x=df_kmcluster['municp_idhm'].loc[df_kmcluster['cluster'] == 2],\n",
    "            y=df_kmcluster['municp_cobert'].loc[df_kmcluster['cluster'] == 2], c='green')\n",
    "\n",
    "plt.scatter(x=df_kmcluster['municp_idhm'].loc[df_kmcluster['cluster'] == 3],\n",
    "            y=df_kmcluster['municp_cobert'].loc[df_kmcluster['cluster'] == 3], c='orange')\n",
    "\n",
    "plt.title('Algoritmo K-Means\\n (Qtde. Cluster=4)')\n",
    "plt.xlabel('Cobertura Vacinal')\n",
    "plt.ylabel('Índice de Vacinados')"
   ]
  },
  {
   "cell_type": "code",
   "execution_count": null,
   "metadata": {},
   "outputs": [],
   "source": []
  },
  {
   "cell_type": "code",
   "execution_count": 83,
   "metadata": {},
   "outputs": [
    {
     "ename": "ValueError",
     "evalue": "'df_mmlX' is not one of the example datasets.",
     "output_type": "error",
     "traceback": [
      "\u001b[1;31m---------------------------------------------------------------------------\u001b[0m",
      "\u001b[1;31mValueError\u001b[0m                                Traceback (most recent call last)",
      "\u001b[1;32m<ipython-input-83-5ae43aa04506>\u001b[0m in \u001b[0;36m<module>\u001b[1;34m\u001b[0m\n\u001b[0;32m      4\u001b[0m \u001b[1;33m\u001b[0m\u001b[0m\n\u001b[0;32m      5\u001b[0m \u001b[0msns\u001b[0m\u001b[1;33m.\u001b[0m\u001b[0mset_theme\u001b[0m\u001b[1;33m(\u001b[0m\u001b[0mstyle\u001b[0m\u001b[1;33m=\u001b[0m\u001b[1;34m\"ticks\"\u001b[0m\u001b[1;33m)\u001b[0m\u001b[1;33m\u001b[0m\u001b[1;33m\u001b[0m\u001b[0m\n\u001b[1;32m----> 6\u001b[1;33m \u001b[0mdf\u001b[0m \u001b[1;33m=\u001b[0m \u001b[0msns\u001b[0m\u001b[1;33m.\u001b[0m\u001b[0mload_dataset\u001b[0m\u001b[1;33m(\u001b[0m\u001b[1;34m'df_mmlX'\u001b[0m\u001b[1;33m)\u001b[0m\u001b[1;33m\u001b[0m\u001b[1;33m\u001b[0m\u001b[0m\n\u001b[0m\u001b[0;32m      7\u001b[0m \u001b[0msns\u001b[0m\u001b[1;33m.\u001b[0m\u001b[0mpairplot\u001b[0m\u001b[1;33m(\u001b[0m\u001b[0mdf\u001b[0m\u001b[1;33m,\u001b[0m \u001b[0mhue\u001b[0m\u001b[1;33m=\u001b[0m\u001b[1;34m'municp_cobert'\u001b[0m\u001b[1;33m)\u001b[0m\u001b[1;33m\u001b[0m\u001b[1;33m\u001b[0m\u001b[0m\n\u001b[0;32m      8\u001b[0m \u001b[1;33m\u001b[0m\u001b[0m\n",
      "\u001b[1;32mC:\\ProgramData\\Anaconda3\\lib\\site-packages\\seaborn\\utils.py\u001b[0m in \u001b[0;36mload_dataset\u001b[1;34m(name, cache, data_home, **kws)\u001b[0m\n\u001b[0;32m    484\u001b[0m         \u001b[1;32mif\u001b[0m \u001b[1;32mnot\u001b[0m \u001b[0mos\u001b[0m\u001b[1;33m.\u001b[0m\u001b[0mpath\u001b[0m\u001b[1;33m.\u001b[0m\u001b[0mexists\u001b[0m\u001b[1;33m(\u001b[0m\u001b[0mcache_path\u001b[0m\u001b[1;33m)\u001b[0m\u001b[1;33m:\u001b[0m\u001b[1;33m\u001b[0m\u001b[1;33m\u001b[0m\u001b[0m\n\u001b[0;32m    485\u001b[0m             \u001b[1;32mif\u001b[0m \u001b[0mname\u001b[0m \u001b[1;32mnot\u001b[0m \u001b[1;32min\u001b[0m \u001b[0mget_dataset_names\u001b[0m\u001b[1;33m(\u001b[0m\u001b[1;33m)\u001b[0m\u001b[1;33m:\u001b[0m\u001b[1;33m\u001b[0m\u001b[1;33m\u001b[0m\u001b[0m\n\u001b[1;32m--> 486\u001b[1;33m                 \u001b[1;32mraise\u001b[0m \u001b[0mValueError\u001b[0m\u001b[1;33m(\u001b[0m\u001b[1;34mf\"'{name}' is not one of the example datasets.\"\u001b[0m\u001b[1;33m)\u001b[0m\u001b[1;33m\u001b[0m\u001b[1;33m\u001b[0m\u001b[0m\n\u001b[0m\u001b[0;32m    487\u001b[0m             \u001b[0murlretrieve\u001b[0m\u001b[1;33m(\u001b[0m\u001b[0mfull_path\u001b[0m\u001b[1;33m,\u001b[0m \u001b[0mcache_path\u001b[0m\u001b[1;33m)\u001b[0m\u001b[1;33m\u001b[0m\u001b[1;33m\u001b[0m\u001b[0m\n\u001b[0;32m    488\u001b[0m         \u001b[0mfull_path\u001b[0m \u001b[1;33m=\u001b[0m \u001b[0mcache_path\u001b[0m\u001b[1;33m\u001b[0m\u001b[1;33m\u001b[0m\u001b[0m\n",
      "\u001b[1;31mValueError\u001b[0m: 'df_mmlX' is not one of the example datasets."
     ]
    }
   ],
   "source": [
    "# Análise univariada IDHM longevidade\n",
    "\n",
    "#plt.subplots(figsize=(10,8))\n",
    "\n",
    "sns.set_theme(style=\"ticks\")\n",
    "\n",
    "df = sns.load_dataset('df_mmlX')\n",
    "sns.pairplot(df, hue='municp_cobert')\n",
    "\n",
    "#sns.pairplot(data=df_mmlX)\n",
    "\n",
    "#plt.title('IDHM Longevidade')\n",
    "#plt.ylabel(' ')\n",
    "#plot.set_xlabel(' ')\n",
    "plt.xticks(rotation=30)\n",
    "#plt.legend(title=' ')\n",
    "#plt.show()"
   ]
  },
  {
   "cell_type": "code",
   "execution_count": null,
   "metadata": {},
   "outputs": [],
   "source": []
  },
  {
   "cell_type": "code",
   "execution_count": null,
   "metadata": {},
   "outputs": [],
   "source": []
  }
 ],
 "metadata": {
  "kernelspec": {
   "display_name": "Python 3",
   "language": "python",
   "name": "python3"
  },
  "language_info": {
   "codemirror_mode": {
    "name": "ipython",
    "version": 3
   },
   "file_extension": ".py",
   "mimetype": "text/x-python",
   "name": "python",
   "nbconvert_exporter": "python",
   "pygments_lexer": "ipython3",
   "version": "3.8.5"
  }
 },
 "nbformat": 4,
 "nbformat_minor": 4
}
